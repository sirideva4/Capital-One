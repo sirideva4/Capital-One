{
 "cells": [
  {
   "cell_type": "code",
   "execution_count": 152,
   "id": "2ef171ff",
   "metadata": {},
   "outputs": [],
   "source": [
    "# import libraries to import and analyze the data\n",
    "import pandas as pd\n",
    "import numpy as np\n",
    "import seaborn as sns"
   ]
  },
  {
   "cell_type": "markdown",
   "id": "0d54ca2f",
   "metadata": {},
   "source": [
    "## Assumptions\n",
    "Each airplane is dedicated to one round trip route between the 2 airports\n",
    "#### Costs:\n",
    "- Fuel, Oil, Maintenance, Crew - $8 per mile total\n",
    "\n",
    "- Depreciation, Insurance, Other - $1.18 per mile total\n",
    "\n",
    "- Airport operational costs for the right to use the airports and related services are fixed at $\\$5,000$ for medium airports and $10,000 for large airports. There is one charge for each airport where a flight lands. Thus, a round trip flight has a total of\n",
    "two airport charges.\n",
    "\n",
    "- For each individual departure, the first 15 minutes of delays are free, otherwise each minute costs the airline $75 in added operational costs.\n",
    "\n",
    "- For each individual arrival, the first 15 minutes of delays are free, otherwise each minute costs the airline $75 in added operational costs.\n",
    "\n",
    "#### Revenue:\n",
    "\n",
    "- Each plane can accommodate up to 200 passengers and each flight has an\n",
    "associated occupancy rate provided in the Flights data set. Do not use the\n",
    "Tickets data set to determine occupancy.\n",
    "\n",
    "- Baggage fee is $\\$35$ for each checked bag per flight. We expect 50% of passengers to check an average of 1 bag per flight. The fee is charged separately for each leg of a round trip flight, thus 50% of passengers will be charged a total of $70 in baggage fees for a round trip flight.\n",
    "\n",
    "- Disregard seasonal effects on ticket prices (i.e. ticket prices are the same in April\n",
    "as they are on Memorial Day or in December)"
   ]
  },
  {
   "cell_type": "markdown",
   "id": "33137b19",
   "metadata": {},
   "source": [
    "### Import data"
   ]
  },
  {
   "cell_type": "code",
   "execution_count": 153,
   "id": "d660d76b",
   "metadata": {},
   "outputs": [
    {
     "name": "stderr",
     "output_type": "stream",
     "text": [
      "C:\\Users\\sirid\\anaconda3\\lib\\site-packages\\IPython\\core\\interactiveshell.py:3444: DtypeWarning: Columns (3,13,14) have mixed types.Specify dtype option on import or set low_memory=False.\n",
      "  exec(code_obj, self.user_global_ns, self.user_ns)\n"
     ]
    }
   ],
   "source": [
    "# Load data into our notebook\n",
    "flights = pd.read_csv(\"flights.csv\")\n",
    "airports = pd.read_csv(\"airport_codes.csv\")\n",
    "tickets = pd.read_csv(\"tickets.csv\")"
   ]
  },
  {
   "cell_type": "code",
   "execution_count": 154,
   "id": "4032e73e",
   "metadata": {},
   "outputs": [
    {
     "name": "stdout",
     "output_type": "stream",
     "text": [
      "Shape of flights data:  (1915886, 16)\n",
      "Shape of airports data:  (55369, 8)\n",
      "Shape of tickets data:  (1167285, 12)\n"
     ]
    }
   ],
   "source": [
    "# Check initial shapes of files\n",
    "print(\"Shape of flights data: \",flights.shape)\n",
    "print(\"Shape of airports data: \",airports.shape)\n",
    "print(\"Shape of tickets data: \",tickets.shape)"
   ]
  },
  {
   "cell_type": "markdown",
   "id": "396b0b4a",
   "metadata": {},
   "source": [
    "### Description of datasets : \n",
    "\n",
    "### Flights data\n",
    "FL_DATE:Flight Date (yyyy-mm-dd)\n",
    "\n",
    "OP_CARRIER:Operating commercial carrier Flight code\n",
    "\n",
    "TAIL_NUM:Tail Number is the aircraft registration number for the aircraft used (similar to VIN number for cars).\n",
    "\n",
    "OP_CARRIER_FL_NUM:Operating commercial carrier Flight number.\n",
    "\n",
    "ORIGIN_AIRPORT_ID:Origin Airport, Airport ID. An identification number assigned by US DOT to identify a unique airport. \n",
    "\n",
    "ORIGIN: Origin Airport, International Air Transport Association (IATA) Airport Code.\n",
    "\n",
    "ORIGIN_CITY_NAME: Origin Airport, City Name.\n",
    "\n",
    "DEST_AIRPORT_ID: Destination Airport, Airport ID. An identification number assigned by US DOT to identify a unique airport.\n",
    "\n",
    "DESTINATION: Destination Airport, Operating commercial carrier Flight code (IATA )Airport Code\n",
    "\n",
    "DEST_CITY_NAME:\tDestination Airport, City Name\n",
    "\n",
    "DEP_DELAY: Difference in minutes between scheduled and actual departure time. Early departures show negative numbers.\n",
    "\n",
    "ARR_DELAY: Difference in minutes between scheduled and actual arrival time. Early arrivals show negative numbers.\n",
    "\n",
    "CANCELLED: Cancelled Flight Indicator (1=Flight is cancelled).  Cancelled flights should be excluded\n",
    "\n",
    "AIR_TIME: Flight Time, in Minutes\n",
    "\n",
    "DISTANCE: Distance between Origin and Destination Airports in Miles\n",
    "\n",
    "OCCUPANCY_RATE: Occupancy rate of the flight\n",
    "\n",
    "\n",
    "### Airports data\n",
    "TYPE: The type of the airport, valid value like: small_airport, medium_airport, heliport, etc. \n",
    "\n",
    "NAME: The name of the airport\n",
    "\n",
    "ELEVATION_FT: Elevation of the airport from the sea level\n",
    "\n",
    "CONTINENT: The continent airport belongs to\n",
    "\n",
    "ISO_COUNTRY: The country of the airport\n",
    "\n",
    "MUNICIPALITY: The city or town of the airport \n",
    "\n",
    "IATA_CODE: An airport code is a three-letter geocode designating many airports and metropolitan areas around the world, defined \n",
    "by the International Air Transport Association (IATA). \n",
    "\n",
    "COORDINATES: Longitude and latitude coordinates of the airport\n",
    "\n",
    "### Tickets data\n",
    "ITIN_ID: Unique identifier for the itinerary\n",
    "\n",
    "YEAR: Year of the Itinerary\n",
    "\n",
    "QUARTER: Quarter Number (1-4) for the Itinerary\n",
    "\n",
    "ORIGIN: Origin Airport Code, International Air Transport Association Airport Code (IATA) which is unique for each airport\n",
    "\n",
    "ORIGIN_COUNTRY: Country of the Origin Airport\n",
    "\n",
    "ORIGIN_STATE_ABR: Origin Airport, State abbrevations.\n",
    "\n",
    "ORIGIN_STATE_NM: Origin Airport, State Full Name\n",
    "\n",
    "ROUNDTRIP: Round Trip Indicator (1= Round Trip and 0 = One Way).  Consider only round trips for your analysis.\n",
    "\n",
    "REPORTING_CARRIER: 2 character Reporting Airline Carrier codes\n",
    "\n",
    "PASSENGERS: Number of Passengers on the itinerary\n",
    "\n",
    "ITIN_FARE: Itinerary Fare Per Person. Itinerary fare represents the whole round trip fare if ROUNDTRIP = 1. If ROUNDTRIP = 0, \n",
    "then the itinerary fare represents the one-way ticket fare.\n",
    "\n",
    "DESTINATION: Destination Airport Code, International Air Transport Association Airport Code (IATA) which is unique for each \n",
    "airport"
   ]
  },
  {
   "cell_type": "code",
   "execution_count": 155,
   "id": "229e2e72",
   "metadata": {},
   "outputs": [
    {
     "data": {
      "text/html": [
       "<div>\n",
       "<style scoped>\n",
       "    .dataframe tbody tr th:only-of-type {\n",
       "        vertical-align: middle;\n",
       "    }\n",
       "\n",
       "    .dataframe tbody tr th {\n",
       "        vertical-align: top;\n",
       "    }\n",
       "\n",
       "    .dataframe thead th {\n",
       "        text-align: right;\n",
       "    }\n",
       "</style>\n",
       "<table border=\"1\" class=\"dataframe\">\n",
       "  <thead>\n",
       "    <tr style=\"text-align: right;\">\n",
       "      <th></th>\n",
       "      <th>FL_DATE</th>\n",
       "      <th>OP_CARRIER</th>\n",
       "      <th>TAIL_NUM</th>\n",
       "      <th>OP_CARRIER_FL_NUM</th>\n",
       "      <th>ORIGIN_AIRPORT_ID</th>\n",
       "      <th>ORIGIN</th>\n",
       "      <th>ORIGIN_CITY_NAME</th>\n",
       "      <th>DEST_AIRPORT_ID</th>\n",
       "      <th>DESTINATION</th>\n",
       "      <th>DEST_CITY_NAME</th>\n",
       "      <th>DEP_DELAY</th>\n",
       "      <th>ARR_DELAY</th>\n",
       "      <th>CANCELLED</th>\n",
       "      <th>AIR_TIME</th>\n",
       "      <th>DISTANCE</th>\n",
       "      <th>OCCUPANCY_RATE</th>\n",
       "    </tr>\n",
       "  </thead>\n",
       "  <tbody>\n",
       "    <tr>\n",
       "      <th>0</th>\n",
       "      <td>2019-03-02</td>\n",
       "      <td>WN</td>\n",
       "      <td>N955WN</td>\n",
       "      <td>4591</td>\n",
       "      <td>14635</td>\n",
       "      <td>RSW</td>\n",
       "      <td>Fort Myers, FL</td>\n",
       "      <td>11042</td>\n",
       "      <td>CLE</td>\n",
       "      <td>Cleveland, OH</td>\n",
       "      <td>-8.0</td>\n",
       "      <td>-6.0</td>\n",
       "      <td>0.0</td>\n",
       "      <td>143.0</td>\n",
       "      <td>1025.0</td>\n",
       "      <td>0.97</td>\n",
       "    </tr>\n",
       "    <tr>\n",
       "      <th>1</th>\n",
       "      <td>2019-03-02</td>\n",
       "      <td>WN</td>\n",
       "      <td>N8686A</td>\n",
       "      <td>3231</td>\n",
       "      <td>14635</td>\n",
       "      <td>RSW</td>\n",
       "      <td>Fort Myers, FL</td>\n",
       "      <td>11066</td>\n",
       "      <td>CMH</td>\n",
       "      <td>Columbus, OH</td>\n",
       "      <td>1.0</td>\n",
       "      <td>5.0</td>\n",
       "      <td>0.0</td>\n",
       "      <td>135.0</td>\n",
       "      <td>930.0</td>\n",
       "      <td>0.55</td>\n",
       "    </tr>\n",
       "    <tr>\n",
       "      <th>2</th>\n",
       "      <td>2019-03-02</td>\n",
       "      <td>WN</td>\n",
       "      <td>N201LV</td>\n",
       "      <td>3383</td>\n",
       "      <td>14635</td>\n",
       "      <td>RSW</td>\n",
       "      <td>Fort Myers, FL</td>\n",
       "      <td>11066</td>\n",
       "      <td>CMH</td>\n",
       "      <td>Columbus, OH</td>\n",
       "      <td>0.0</td>\n",
       "      <td>4.0</td>\n",
       "      <td>0.0</td>\n",
       "      <td>132.0</td>\n",
       "      <td>930.0</td>\n",
       "      <td>0.91</td>\n",
       "    </tr>\n",
       "    <tr>\n",
       "      <th>3</th>\n",
       "      <td>2019-03-02</td>\n",
       "      <td>WN</td>\n",
       "      <td>N413WN</td>\n",
       "      <td>5498</td>\n",
       "      <td>14635</td>\n",
       "      <td>RSW</td>\n",
       "      <td>Fort Myers, FL</td>\n",
       "      <td>11066</td>\n",
       "      <td>CMH</td>\n",
       "      <td>Columbus, OH</td>\n",
       "      <td>11.0</td>\n",
       "      <td>14.0</td>\n",
       "      <td>0.0</td>\n",
       "      <td>136.0</td>\n",
       "      <td>930.0</td>\n",
       "      <td>0.67</td>\n",
       "    </tr>\n",
       "    <tr>\n",
       "      <th>4</th>\n",
       "      <td>2019-03-02</td>\n",
       "      <td>WN</td>\n",
       "      <td>N7832A</td>\n",
       "      <td>6933</td>\n",
       "      <td>14635</td>\n",
       "      <td>RSW</td>\n",
       "      <td>Fort Myers, FL</td>\n",
       "      <td>11259</td>\n",
       "      <td>DAL</td>\n",
       "      <td>Dallas, TX</td>\n",
       "      <td>0.0</td>\n",
       "      <td>-17.0</td>\n",
       "      <td>0.0</td>\n",
       "      <td>151.0</td>\n",
       "      <td>1005.0</td>\n",
       "      <td>0.62</td>\n",
       "    </tr>\n",
       "  </tbody>\n",
       "</table>\n",
       "</div>"
      ],
      "text/plain": [
       "      FL_DATE OP_CARRIER TAIL_NUM OP_CARRIER_FL_NUM  ORIGIN_AIRPORT_ID ORIGIN  \\\n",
       "0  2019-03-02         WN   N955WN              4591              14635    RSW   \n",
       "1  2019-03-02         WN   N8686A              3231              14635    RSW   \n",
       "2  2019-03-02         WN   N201LV              3383              14635    RSW   \n",
       "3  2019-03-02         WN   N413WN              5498              14635    RSW   \n",
       "4  2019-03-02         WN   N7832A              6933              14635    RSW   \n",
       "\n",
       "  ORIGIN_CITY_NAME  DEST_AIRPORT_ID DESTINATION DEST_CITY_NAME  DEP_DELAY  \\\n",
       "0   Fort Myers, FL            11042         CLE  Cleveland, OH       -8.0   \n",
       "1   Fort Myers, FL            11066         CMH   Columbus, OH        1.0   \n",
       "2   Fort Myers, FL            11066         CMH   Columbus, OH        0.0   \n",
       "3   Fort Myers, FL            11066         CMH   Columbus, OH       11.0   \n",
       "4   Fort Myers, FL            11259         DAL     Dallas, TX        0.0   \n",
       "\n",
       "   ARR_DELAY  CANCELLED AIR_TIME DISTANCE  OCCUPANCY_RATE  \n",
       "0       -6.0        0.0    143.0   1025.0            0.97  \n",
       "1        5.0        0.0    135.0    930.0            0.55  \n",
       "2        4.0        0.0    132.0    930.0            0.91  \n",
       "3       14.0        0.0    136.0    930.0            0.67  \n",
       "4      -17.0        0.0    151.0   1005.0            0.62  "
      ]
     },
     "execution_count": 155,
     "metadata": {},
     "output_type": "execute_result"
    }
   ],
   "source": [
    "# Sneak peak to get to know the data\n",
    "flights.head()"
   ]
  },
  {
   "cell_type": "code",
   "execution_count": 156,
   "id": "5ae674b2",
   "metadata": {},
   "outputs": [
    {
     "data": {
      "text/html": [
       "<div>\n",
       "<style scoped>\n",
       "    .dataframe tbody tr th:only-of-type {\n",
       "        vertical-align: middle;\n",
       "    }\n",
       "\n",
       "    .dataframe tbody tr th {\n",
       "        vertical-align: top;\n",
       "    }\n",
       "\n",
       "    .dataframe thead th {\n",
       "        text-align: right;\n",
       "    }\n",
       "</style>\n",
       "<table border=\"1\" class=\"dataframe\">\n",
       "  <thead>\n",
       "    <tr style=\"text-align: right;\">\n",
       "      <th></th>\n",
       "      <th>TYPE</th>\n",
       "      <th>NAME</th>\n",
       "      <th>ELEVATION_FT</th>\n",
       "      <th>CONTINENT</th>\n",
       "      <th>ISO_COUNTRY</th>\n",
       "      <th>MUNICIPALITY</th>\n",
       "      <th>IATA_CODE</th>\n",
       "      <th>COORDINATES</th>\n",
       "    </tr>\n",
       "  </thead>\n",
       "  <tbody>\n",
       "    <tr>\n",
       "      <th>0</th>\n",
       "      <td>heliport</td>\n",
       "      <td>Total Rf Heliport</td>\n",
       "      <td>11.0</td>\n",
       "      <td>NaN</td>\n",
       "      <td>US</td>\n",
       "      <td>Bensalem</td>\n",
       "      <td>NaN</td>\n",
       "      <td>-74.93360137939453, 40.07080078125</td>\n",
       "    </tr>\n",
       "    <tr>\n",
       "      <th>1</th>\n",
       "      <td>small_airport</td>\n",
       "      <td>Aero B Ranch Airport</td>\n",
       "      <td>3435.0</td>\n",
       "      <td>NaN</td>\n",
       "      <td>US</td>\n",
       "      <td>Leoti</td>\n",
       "      <td>NaN</td>\n",
       "      <td>-101.473911, 38.704022</td>\n",
       "    </tr>\n",
       "    <tr>\n",
       "      <th>2</th>\n",
       "      <td>small_airport</td>\n",
       "      <td>Lowell Field</td>\n",
       "      <td>450.0</td>\n",
       "      <td>NaN</td>\n",
       "      <td>US</td>\n",
       "      <td>Anchor Point</td>\n",
       "      <td>NaN</td>\n",
       "      <td>-151.695999146, 59.94919968</td>\n",
       "    </tr>\n",
       "    <tr>\n",
       "      <th>3</th>\n",
       "      <td>small_airport</td>\n",
       "      <td>Epps Airpark</td>\n",
       "      <td>820.0</td>\n",
       "      <td>NaN</td>\n",
       "      <td>US</td>\n",
       "      <td>Harvest</td>\n",
       "      <td>NaN</td>\n",
       "      <td>-86.77030181884766, 34.86479949951172</td>\n",
       "    </tr>\n",
       "    <tr>\n",
       "      <th>4</th>\n",
       "      <td>closed</td>\n",
       "      <td>Newport Hospital &amp; Clinic Heliport</td>\n",
       "      <td>237.0</td>\n",
       "      <td>NaN</td>\n",
       "      <td>US</td>\n",
       "      <td>Newport</td>\n",
       "      <td>NaN</td>\n",
       "      <td>-91.254898, 35.6087</td>\n",
       "    </tr>\n",
       "  </tbody>\n",
       "</table>\n",
       "</div>"
      ],
      "text/plain": [
       "            TYPE                                NAME  ELEVATION_FT CONTINENT  \\\n",
       "0       heliport                   Total Rf Heliport          11.0       NaN   \n",
       "1  small_airport                Aero B Ranch Airport        3435.0       NaN   \n",
       "2  small_airport                        Lowell Field         450.0       NaN   \n",
       "3  small_airport                        Epps Airpark         820.0       NaN   \n",
       "4         closed  Newport Hospital & Clinic Heliport         237.0       NaN   \n",
       "\n",
       "  ISO_COUNTRY  MUNICIPALITY IATA_CODE                            COORDINATES  \n",
       "0          US      Bensalem       NaN     -74.93360137939453, 40.07080078125  \n",
       "1          US         Leoti       NaN                 -101.473911, 38.704022  \n",
       "2          US  Anchor Point       NaN            -151.695999146, 59.94919968  \n",
       "3          US       Harvest       NaN  -86.77030181884766, 34.86479949951172  \n",
       "4          US       Newport       NaN                    -91.254898, 35.6087  "
      ]
     },
     "execution_count": 156,
     "metadata": {},
     "output_type": "execute_result"
    }
   ],
   "source": [
    "airports.head()"
   ]
  },
  {
   "cell_type": "code",
   "execution_count": 157,
   "id": "72e320ea",
   "metadata": {},
   "outputs": [
    {
     "data": {
      "text/html": [
       "<div>\n",
       "<style scoped>\n",
       "    .dataframe tbody tr th:only-of-type {\n",
       "        vertical-align: middle;\n",
       "    }\n",
       "\n",
       "    .dataframe tbody tr th {\n",
       "        vertical-align: top;\n",
       "    }\n",
       "\n",
       "    .dataframe thead th {\n",
       "        text-align: right;\n",
       "    }\n",
       "</style>\n",
       "<table border=\"1\" class=\"dataframe\">\n",
       "  <thead>\n",
       "    <tr style=\"text-align: right;\">\n",
       "      <th></th>\n",
       "      <th>ITIN_ID</th>\n",
       "      <th>YEAR</th>\n",
       "      <th>QUARTER</th>\n",
       "      <th>ORIGIN</th>\n",
       "      <th>ORIGIN_COUNTRY</th>\n",
       "      <th>ORIGIN_STATE_ABR</th>\n",
       "      <th>ORIGIN_STATE_NM</th>\n",
       "      <th>ROUNDTRIP</th>\n",
       "      <th>REPORTING_CARRIER</th>\n",
       "      <th>PASSENGERS</th>\n",
       "      <th>ITIN_FARE</th>\n",
       "      <th>DESTINATION</th>\n",
       "    </tr>\n",
       "  </thead>\n",
       "  <tbody>\n",
       "    <tr>\n",
       "      <th>0</th>\n",
       "      <td>201912723049</td>\n",
       "      <td>2019</td>\n",
       "      <td>1</td>\n",
       "      <td>ABI</td>\n",
       "      <td>US</td>\n",
       "      <td>TX</td>\n",
       "      <td>Texas</td>\n",
       "      <td>1.0</td>\n",
       "      <td>MQ</td>\n",
       "      <td>1.0</td>\n",
       "      <td>736.0</td>\n",
       "      <td>DAB</td>\n",
       "    </tr>\n",
       "    <tr>\n",
       "      <th>1</th>\n",
       "      <td>201912723085</td>\n",
       "      <td>2019</td>\n",
       "      <td>1</td>\n",
       "      <td>ABI</td>\n",
       "      <td>US</td>\n",
       "      <td>TX</td>\n",
       "      <td>Texas</td>\n",
       "      <td>1.0</td>\n",
       "      <td>MQ</td>\n",
       "      <td>1.0</td>\n",
       "      <td>570.0</td>\n",
       "      <td>COS</td>\n",
       "    </tr>\n",
       "    <tr>\n",
       "      <th>2</th>\n",
       "      <td>201912723491</td>\n",
       "      <td>2019</td>\n",
       "      <td>1</td>\n",
       "      <td>ABI</td>\n",
       "      <td>US</td>\n",
       "      <td>TX</td>\n",
       "      <td>Texas</td>\n",
       "      <td>1.0</td>\n",
       "      <td>MQ</td>\n",
       "      <td>1.0</td>\n",
       "      <td>564.0</td>\n",
       "      <td>MCO</td>\n",
       "    </tr>\n",
       "    <tr>\n",
       "      <th>3</th>\n",
       "      <td>201912723428</td>\n",
       "      <td>2019</td>\n",
       "      <td>1</td>\n",
       "      <td>ABI</td>\n",
       "      <td>US</td>\n",
       "      <td>TX</td>\n",
       "      <td>Texas</td>\n",
       "      <td>1.0</td>\n",
       "      <td>MQ</td>\n",
       "      <td>1.0</td>\n",
       "      <td>345.0</td>\n",
       "      <td>LGA</td>\n",
       "    </tr>\n",
       "    <tr>\n",
       "      <th>4</th>\n",
       "      <td>201912723509</td>\n",
       "      <td>2019</td>\n",
       "      <td>1</td>\n",
       "      <td>ABI</td>\n",
       "      <td>US</td>\n",
       "      <td>TX</td>\n",
       "      <td>Texas</td>\n",
       "      <td>0.0</td>\n",
       "      <td>MQ</td>\n",
       "      <td>1.0</td>\n",
       "      <td>309.0</td>\n",
       "      <td>MGM</td>\n",
       "    </tr>\n",
       "  </tbody>\n",
       "</table>\n",
       "</div>"
      ],
      "text/plain": [
       "        ITIN_ID  YEAR  QUARTER ORIGIN ORIGIN_COUNTRY ORIGIN_STATE_ABR  \\\n",
       "0  201912723049  2019        1    ABI             US               TX   \n",
       "1  201912723085  2019        1    ABI             US               TX   \n",
       "2  201912723491  2019        1    ABI             US               TX   \n",
       "3  201912723428  2019        1    ABI             US               TX   \n",
       "4  201912723509  2019        1    ABI             US               TX   \n",
       "\n",
       "  ORIGIN_STATE_NM  ROUNDTRIP REPORTING_CARRIER  PASSENGERS ITIN_FARE  \\\n",
       "0           Texas        1.0                MQ         1.0     736.0   \n",
       "1           Texas        1.0                MQ         1.0     570.0   \n",
       "2           Texas        1.0                MQ         1.0     564.0   \n",
       "3           Texas        1.0                MQ         1.0     345.0   \n",
       "4           Texas        0.0                MQ         1.0     309.0   \n",
       "\n",
       "  DESTINATION  \n",
       "0         DAB  \n",
       "1         COS  \n",
       "2         MCO  \n",
       "3         LGA  \n",
       "4         MGM  "
      ]
     },
     "execution_count": 157,
     "metadata": {},
     "output_type": "execute_result"
    }
   ],
   "source": [
    "tickets.head()"
   ]
  },
  {
   "cell_type": "markdown",
   "id": "389c9c90",
   "metadata": {},
   "source": [
    "## Clean the data\n",
    "#### Clean flights data"
   ]
  },
  {
   "cell_type": "markdown",
   "id": "5ca9190b",
   "metadata": {},
   "source": [
    "### Explore each column \n",
    "\n",
    "Deal with outliers,missing values\n"
   ]
  },
  {
   "cell_type": "code",
   "execution_count": 158,
   "id": "15b4a06a",
   "metadata": {},
   "outputs": [
    {
     "data": {
      "text/plain": [
       "0.0    1864272\n",
       "1.0      51614\n",
       "Name: CANCELLED, dtype: int64"
      ]
     },
     "execution_count": 158,
     "metadata": {},
     "output_type": "execute_result"
    }
   ],
   "source": [
    "flights['CANCELLED'].value_counts()"
   ]
  },
  {
   "cell_type": "code",
   "execution_count": 159,
   "id": "c231d3af",
   "metadata": {},
   "outputs": [],
   "source": [
    "# remove the cancelled flights since we will not be using these flights for analysis\n",
    "flights = flights[flights['CANCELLED']==0]"
   ]
  },
  {
   "cell_type": "code",
   "execution_count": 160,
   "id": "7596fa59",
   "metadata": {},
   "outputs": [
    {
     "data": {
      "text/plain": [
       "FL_DATE                0\n",
       "OP_CARRIER             0\n",
       "ORIGIN                 0\n",
       "ORIGIN_CITY_NAME       0\n",
       "DESTINATION            0\n",
       "DEST_CITY_NAME         0\n",
       "DEP_DELAY              0\n",
       "ARR_DELAY           4377\n",
       "DISTANCE             610\n",
       "OCCUPANCY_RATE       310\n",
       "dtype: int64"
      ]
     },
     "execution_count": 160,
     "metadata": {},
     "output_type": "execute_result"
    }
   ],
   "source": [
    "flights.isnull().sum()\n",
    "# for the purpose of this challenge we do not require tail_num as it does not provide any usefull insight\n",
    "# we are removing airport id's as we have ORIGIN and DESTINATION in the data set (redundant data)\n",
    "# we do not need air_time as we will be calculating the operational cost from the miles travelled. \n",
    "flights = flights.drop(['TAIL_NUM', 'AIR_TIME','OP_CARRIER_FL_NUM','CANCELLED','ORIGIN_AIRPORT_ID','DEST_AIRPORT_ID'],axis=1)\n",
    "flights.isnull().sum()"
   ]
  },
  {
   "cell_type": "code",
   "execution_count": 161,
   "id": "dc845df3",
   "metadata": {},
   "outputs": [
    {
     "data": {
      "text/plain": [
       "FL_DATE              object\n",
       "OP_CARRIER           object\n",
       "ORIGIN               object\n",
       "ORIGIN_CITY_NAME     object\n",
       "DESTINATION          object\n",
       "DEST_CITY_NAME       object\n",
       "DEP_DELAY           float64\n",
       "ARR_DELAY           float64\n",
       "DISTANCE             object\n",
       "OCCUPANCY_RATE      float64\n",
       "dtype: object"
      ]
     },
     "execution_count": 161,
     "metadata": {},
     "output_type": "execute_result"
    }
   ],
   "source": [
    "flights.dtypes"
   ]
  },
  {
   "cell_type": "code",
   "execution_count": 162,
   "id": "9bd42c3b",
   "metadata": {},
   "outputs": [],
   "source": [
    "# convert data types for storage effeciency\n",
    "flights['ORIGIN'] = flights['ORIGIN'].astype(str)\n",
    "flights['DESTINATION'] = flights['DESTINATION'].astype(str)\n",
    "flights['FL_DATE'] = pd.to_datetime(flights['FL_DATE'])\n",
    "flights['OP_CARRIER'] = flights['OP_CARRIER'].astype(str)\n",
    "flights['ORIGIN_CITY_NAME'] = flights['ORIGIN_CITY_NAME'].astype(str)\n",
    "flights['DEST_CITY_NAME'] = flights['DEST_CITY_NAME'].astype(str)"
   ]
  },
  {
   "cell_type": "code",
   "execution_count": 163,
   "id": "fcafb453",
   "metadata": {},
   "outputs": [
    {
     "data": {
      "text/html": [
       "<div>\n",
       "<style scoped>\n",
       "    .dataframe tbody tr th:only-of-type {\n",
       "        vertical-align: middle;\n",
       "    }\n",
       "\n",
       "    .dataframe tbody tr th {\n",
       "        vertical-align: top;\n",
       "    }\n",
       "\n",
       "    .dataframe thead th {\n",
       "        text-align: right;\n",
       "    }\n",
       "</style>\n",
       "<table border=\"1\" class=\"dataframe\">\n",
       "  <thead>\n",
       "    <tr style=\"text-align: right;\">\n",
       "      <th></th>\n",
       "      <th>FL_DATE</th>\n",
       "      <th>OP_CARRIER</th>\n",
       "      <th>ORIGIN</th>\n",
       "      <th>ORIGIN_CITY_NAME</th>\n",
       "      <th>DESTINATION</th>\n",
       "      <th>DEST_CITY_NAME</th>\n",
       "      <th>DEP_DELAY</th>\n",
       "      <th>ARR_DELAY</th>\n",
       "      <th>DISTANCE</th>\n",
       "      <th>OCCUPANCY_RATE</th>\n",
       "    </tr>\n",
       "  </thead>\n",
       "  <tbody>\n",
       "    <tr>\n",
       "      <th>1910858</th>\n",
       "      <td>2019-03-22</td>\n",
       "      <td>AA</td>\n",
       "      <td>BWI</td>\n",
       "      <td>Baltimore, MD</td>\n",
       "      <td>DFW</td>\n",
       "      <td>Dallas/Fort Worth, TX</td>\n",
       "      <td>0.0</td>\n",
       "      <td>-19.0</td>\n",
       "      <td>NaN</td>\n",
       "      <td>0.383346</td>\n",
       "    </tr>\n",
       "    <tr>\n",
       "      <th>1910859</th>\n",
       "      <td>2019-03-23</td>\n",
       "      <td>AA</td>\n",
       "      <td>BWI</td>\n",
       "      <td>Baltimore, MD</td>\n",
       "      <td>DFW</td>\n",
       "      <td>Dallas/Fort Worth, TX</td>\n",
       "      <td>-6.0</td>\n",
       "      <td>-21.0</td>\n",
       "      <td>NaN</td>\n",
       "      <td>0.943554</td>\n",
       "    </tr>\n",
       "    <tr>\n",
       "      <th>1910860</th>\n",
       "      <td>2019-03-24</td>\n",
       "      <td>AA</td>\n",
       "      <td>BWI</td>\n",
       "      <td>Baltimore, MD</td>\n",
       "      <td>DFW</td>\n",
       "      <td>Dallas/Fort Worth, TX</td>\n",
       "      <td>-4.0</td>\n",
       "      <td>1.0</td>\n",
       "      <td>NaN</td>\n",
       "      <td>0.775109</td>\n",
       "    </tr>\n",
       "    <tr>\n",
       "      <th>1910863</th>\n",
       "      <td>2019-03-27</td>\n",
       "      <td>AA</td>\n",
       "      <td>BWI</td>\n",
       "      <td>Baltimore, MD</td>\n",
       "      <td>DFW</td>\n",
       "      <td>Dallas/Fort Worth, TX</td>\n",
       "      <td>-3.0</td>\n",
       "      <td>-34.0</td>\n",
       "      <td>NaN</td>\n",
       "      <td>0.983999</td>\n",
       "    </tr>\n",
       "    <tr>\n",
       "      <th>1910864</th>\n",
       "      <td>2019-03-28</td>\n",
       "      <td>AA</td>\n",
       "      <td>BWI</td>\n",
       "      <td>Baltimore, MD</td>\n",
       "      <td>DFW</td>\n",
       "      <td>Dallas/Fort Worth, TX</td>\n",
       "      <td>-1.0</td>\n",
       "      <td>-2.0</td>\n",
       "      <td>NaN</td>\n",
       "      <td>0.657254</td>\n",
       "    </tr>\n",
       "    <tr>\n",
       "      <th>...</th>\n",
       "      <td>...</td>\n",
       "      <td>...</td>\n",
       "      <td>...</td>\n",
       "      <td>...</td>\n",
       "      <td>...</td>\n",
       "      <td>...</td>\n",
       "      <td>...</td>\n",
       "      <td>...</td>\n",
       "      <td>...</td>\n",
       "      <td>...</td>\n",
       "    </tr>\n",
       "    <tr>\n",
       "      <th>1915498</th>\n",
       "      <td>2019-03-02</td>\n",
       "      <td>AA</td>\n",
       "      <td>ATL</td>\n",
       "      <td>Atlanta, GA</td>\n",
       "      <td>LAX</td>\n",
       "      <td>Los Angeles, CA</td>\n",
       "      <td>32.0</td>\n",
       "      <td>52.0</td>\n",
       "      <td>NaN</td>\n",
       "      <td>0.787472</td>\n",
       "    </tr>\n",
       "    <tr>\n",
       "      <th>1915499</th>\n",
       "      <td>2019-03-03</td>\n",
       "      <td>AA</td>\n",
       "      <td>ATL</td>\n",
       "      <td>Atlanta, GA</td>\n",
       "      <td>LAX</td>\n",
       "      <td>Los Angeles, CA</td>\n",
       "      <td>-1.0</td>\n",
       "      <td>45.0</td>\n",
       "      <td>NaN</td>\n",
       "      <td>0.905306</td>\n",
       "    </tr>\n",
       "    <tr>\n",
       "      <th>1915500</th>\n",
       "      <td>2019-03-04</td>\n",
       "      <td>AA</td>\n",
       "      <td>ATL</td>\n",
       "      <td>Atlanta, GA</td>\n",
       "      <td>LAX</td>\n",
       "      <td>Los Angeles, CA</td>\n",
       "      <td>-4.0</td>\n",
       "      <td>-22.0</td>\n",
       "      <td>NaN</td>\n",
       "      <td>0.646339</td>\n",
       "    </tr>\n",
       "    <tr>\n",
       "      <th>1915501</th>\n",
       "      <td>2019-03-05</td>\n",
       "      <td>AA</td>\n",
       "      <td>ATL</td>\n",
       "      <td>Atlanta, GA</td>\n",
       "      <td>LAX</td>\n",
       "      <td>Los Angeles, CA</td>\n",
       "      <td>-6.0</td>\n",
       "      <td>-10.0</td>\n",
       "      <td>NaN</td>\n",
       "      <td>0.773823</td>\n",
       "    </tr>\n",
       "    <tr>\n",
       "      <th>1915509</th>\n",
       "      <td>2019-03-07</td>\n",
       "      <td>AA</td>\n",
       "      <td>JFK</td>\n",
       "      <td>New York, NY</td>\n",
       "      <td>ORD</td>\n",
       "      <td>Chicago, IL</td>\n",
       "      <td>18.0</td>\n",
       "      <td>12.0</td>\n",
       "      <td>NaN</td>\n",
       "      <td>0.909838</td>\n",
       "    </tr>\n",
       "  </tbody>\n",
       "</table>\n",
       "<p>610 rows × 10 columns</p>\n",
       "</div>"
      ],
      "text/plain": [
       "           FL_DATE OP_CARRIER ORIGIN ORIGIN_CITY_NAME DESTINATION  \\\n",
       "1910858 2019-03-22         AA    BWI    Baltimore, MD         DFW   \n",
       "1910859 2019-03-23         AA    BWI    Baltimore, MD         DFW   \n",
       "1910860 2019-03-24         AA    BWI    Baltimore, MD         DFW   \n",
       "1910863 2019-03-27         AA    BWI    Baltimore, MD         DFW   \n",
       "1910864 2019-03-28         AA    BWI    Baltimore, MD         DFW   \n",
       "...            ...        ...    ...              ...         ...   \n",
       "1915498 2019-03-02         AA    ATL      Atlanta, GA         LAX   \n",
       "1915499 2019-03-03         AA    ATL      Atlanta, GA         LAX   \n",
       "1915500 2019-03-04         AA    ATL      Atlanta, GA         LAX   \n",
       "1915501 2019-03-05         AA    ATL      Atlanta, GA         LAX   \n",
       "1915509 2019-03-07         AA    JFK     New York, NY         ORD   \n",
       "\n",
       "                DEST_CITY_NAME  DEP_DELAY  ARR_DELAY DISTANCE  OCCUPANCY_RATE  \n",
       "1910858  Dallas/Fort Worth, TX        0.0      -19.0      NaN        0.383346  \n",
       "1910859  Dallas/Fort Worth, TX       -6.0      -21.0      NaN        0.943554  \n",
       "1910860  Dallas/Fort Worth, TX       -4.0        1.0      NaN        0.775109  \n",
       "1910863  Dallas/Fort Worth, TX       -3.0      -34.0      NaN        0.983999  \n",
       "1910864  Dallas/Fort Worth, TX       -1.0       -2.0      NaN        0.657254  \n",
       "...                        ...        ...        ...      ...             ...  \n",
       "1915498        Los Angeles, CA       32.0       52.0      NaN        0.787472  \n",
       "1915499        Los Angeles, CA       -1.0       45.0      NaN        0.905306  \n",
       "1915500        Los Angeles, CA       -4.0      -22.0      NaN        0.646339  \n",
       "1915501        Los Angeles, CA       -6.0      -10.0      NaN        0.773823  \n",
       "1915509            Chicago, IL       18.0       12.0      NaN        0.909838  \n",
       "\n",
       "[610 rows x 10 columns]"
      ]
     },
     "execution_count": 163,
     "metadata": {},
     "output_type": "execute_result"
    }
   ],
   "source": [
    "# Let's start with DISTANCE column, are there nulls in this column \n",
    "flights[flights['DISTANCE'].isnull()]"
   ]
  },
  {
   "cell_type": "code",
   "execution_count": 164,
   "id": "0b0fd502",
   "metadata": {},
   "outputs": [
    {
     "data": {
      "text/html": [
       "<div>\n",
       "<style scoped>\n",
       "    .dataframe tbody tr th:only-of-type {\n",
       "        vertical-align: middle;\n",
       "    }\n",
       "\n",
       "    .dataframe tbody tr th {\n",
       "        vertical-align: top;\n",
       "    }\n",
       "\n",
       "    .dataframe thead th {\n",
       "        text-align: right;\n",
       "    }\n",
       "</style>\n",
       "<table border=\"1\" class=\"dataframe\">\n",
       "  <thead>\n",
       "    <tr style=\"text-align: right;\">\n",
       "      <th></th>\n",
       "      <th>FL_DATE</th>\n",
       "      <th>OP_CARRIER</th>\n",
       "      <th>ORIGIN</th>\n",
       "      <th>ORIGIN_CITY_NAME</th>\n",
       "      <th>DESTINATION</th>\n",
       "      <th>DEST_CITY_NAME</th>\n",
       "      <th>DEP_DELAY</th>\n",
       "      <th>ARR_DELAY</th>\n",
       "      <th>DISTANCE</th>\n",
       "      <th>OCCUPANCY_RATE</th>\n",
       "    </tr>\n",
       "  </thead>\n",
       "  <tbody>\n",
       "    <tr>\n",
       "      <th>17200</th>\n",
       "      <td>2019-03-13</td>\n",
       "      <td>OO</td>\n",
       "      <td>JFK</td>\n",
       "      <td>New York, NY</td>\n",
       "      <td>ORD</td>\n",
       "      <td>Chicago, IL</td>\n",
       "      <td>-3.0</td>\n",
       "      <td>-15.0</td>\n",
       "      <td>740.0</td>\n",
       "      <td>0.730000</td>\n",
       "    </tr>\n",
       "    <tr>\n",
       "      <th>17214</th>\n",
       "      <td>2019-03-13</td>\n",
       "      <td>OO</td>\n",
       "      <td>JFK</td>\n",
       "      <td>New York, NY</td>\n",
       "      <td>ORD</td>\n",
       "      <td>Chicago, IL</td>\n",
       "      <td>-5.0</td>\n",
       "      <td>-9.0</td>\n",
       "      <td>740.0</td>\n",
       "      <td>0.920000</td>\n",
       "    </tr>\n",
       "    <tr>\n",
       "      <th>19554</th>\n",
       "      <td>2019-03-14</td>\n",
       "      <td>OO</td>\n",
       "      <td>JFK</td>\n",
       "      <td>New York, NY</td>\n",
       "      <td>ORD</td>\n",
       "      <td>Chicago, IL</td>\n",
       "      <td>0.0</td>\n",
       "      <td>-6.0</td>\n",
       "      <td>740.0</td>\n",
       "      <td>0.620000</td>\n",
       "    </tr>\n",
       "    <tr>\n",
       "      <th>19568</th>\n",
       "      <td>2019-03-14</td>\n",
       "      <td>OO</td>\n",
       "      <td>JFK</td>\n",
       "      <td>New York, NY</td>\n",
       "      <td>ORD</td>\n",
       "      <td>Chicago, IL</td>\n",
       "      <td>114.0</td>\n",
       "      <td>170.0</td>\n",
       "      <td>740.0</td>\n",
       "      <td>0.500000</td>\n",
       "    </tr>\n",
       "    <tr>\n",
       "      <th>21148</th>\n",
       "      <td>2019-03-25</td>\n",
       "      <td>OO</td>\n",
       "      <td>JFK</td>\n",
       "      <td>New York, NY</td>\n",
       "      <td>ORD</td>\n",
       "      <td>Chicago, IL</td>\n",
       "      <td>9.0</td>\n",
       "      <td>-8.0</td>\n",
       "      <td>740.0</td>\n",
       "      <td>0.690000</td>\n",
       "    </tr>\n",
       "    <tr>\n",
       "      <th>...</th>\n",
       "      <td>...</td>\n",
       "      <td>...</td>\n",
       "      <td>...</td>\n",
       "      <td>...</td>\n",
       "      <td>...</td>\n",
       "      <td>...</td>\n",
       "      <td>...</td>\n",
       "      <td>...</td>\n",
       "      <td>...</td>\n",
       "      <td>...</td>\n",
       "    </tr>\n",
       "    <tr>\n",
       "      <th>1915529</th>\n",
       "      <td>2019-03-27</td>\n",
       "      <td>AA</td>\n",
       "      <td>JFK</td>\n",
       "      <td>New York, NY</td>\n",
       "      <td>ORD</td>\n",
       "      <td>Chicago, IL</td>\n",
       "      <td>-1.0</td>\n",
       "      <td>-12.0</td>\n",
       "      <td>****</td>\n",
       "      <td>0.937391</td>\n",
       "    </tr>\n",
       "    <tr>\n",
       "      <th>1915530</th>\n",
       "      <td>2019-03-28</td>\n",
       "      <td>AA</td>\n",
       "      <td>JFK</td>\n",
       "      <td>New York, NY</td>\n",
       "      <td>ORD</td>\n",
       "      <td>Chicago, IL</td>\n",
       "      <td>-3.0</td>\n",
       "      <td>-9.0</td>\n",
       "      <td>****</td>\n",
       "      <td>0.794303</td>\n",
       "    </tr>\n",
       "    <tr>\n",
       "      <th>1915531</th>\n",
       "      <td>2019-03-29</td>\n",
       "      <td>AA</td>\n",
       "      <td>JFK</td>\n",
       "      <td>New York, NY</td>\n",
       "      <td>ORD</td>\n",
       "      <td>Chicago, IL</td>\n",
       "      <td>-3.0</td>\n",
       "      <td>-13.0</td>\n",
       "      <td>****</td>\n",
       "      <td>0.595342</td>\n",
       "    </tr>\n",
       "    <tr>\n",
       "      <th>1915532</th>\n",
       "      <td>2019-03-30</td>\n",
       "      <td>AA</td>\n",
       "      <td>JFK</td>\n",
       "      <td>New York, NY</td>\n",
       "      <td>ORD</td>\n",
       "      <td>Chicago, IL</td>\n",
       "      <td>3.0</td>\n",
       "      <td>-14.0</td>\n",
       "      <td>****</td>\n",
       "      <td>0.881587</td>\n",
       "    </tr>\n",
       "    <tr>\n",
       "      <th>1915533</th>\n",
       "      <td>2019-03-31</td>\n",
       "      <td>AA</td>\n",
       "      <td>JFK</td>\n",
       "      <td>New York, NY</td>\n",
       "      <td>ORD</td>\n",
       "      <td>Chicago, IL</td>\n",
       "      <td>-2.0</td>\n",
       "      <td>-9.0</td>\n",
       "      <td>****</td>\n",
       "      <td>0.456256</td>\n",
       "    </tr>\n",
       "  </tbody>\n",
       "</table>\n",
       "<p>890 rows × 10 columns</p>\n",
       "</div>"
      ],
      "text/plain": [
       "           FL_DATE OP_CARRIER ORIGIN ORIGIN_CITY_NAME DESTINATION  \\\n",
       "17200   2019-03-13         OO    JFK     New York, NY         ORD   \n",
       "17214   2019-03-13         OO    JFK     New York, NY         ORD   \n",
       "19554   2019-03-14         OO    JFK     New York, NY         ORD   \n",
       "19568   2019-03-14         OO    JFK     New York, NY         ORD   \n",
       "21148   2019-03-25         OO    JFK     New York, NY         ORD   \n",
       "...            ...        ...    ...              ...         ...   \n",
       "1915529 2019-03-27         AA    JFK     New York, NY         ORD   \n",
       "1915530 2019-03-28         AA    JFK     New York, NY         ORD   \n",
       "1915531 2019-03-29         AA    JFK     New York, NY         ORD   \n",
       "1915532 2019-03-30         AA    JFK     New York, NY         ORD   \n",
       "1915533 2019-03-31         AA    JFK     New York, NY         ORD   \n",
       "\n",
       "        DEST_CITY_NAME  DEP_DELAY  ARR_DELAY DISTANCE  OCCUPANCY_RATE  \n",
       "17200      Chicago, IL       -3.0      -15.0    740.0        0.730000  \n",
       "17214      Chicago, IL       -5.0       -9.0    740.0        0.920000  \n",
       "19554      Chicago, IL        0.0       -6.0    740.0        0.620000  \n",
       "19568      Chicago, IL      114.0      170.0    740.0        0.500000  \n",
       "21148      Chicago, IL        9.0       -8.0    740.0        0.690000  \n",
       "...                ...        ...        ...      ...             ...  \n",
       "1915529    Chicago, IL       -1.0      -12.0     ****        0.937391  \n",
       "1915530    Chicago, IL       -3.0       -9.0     ****        0.794303  \n",
       "1915531    Chicago, IL       -3.0      -13.0     ****        0.595342  \n",
       "1915532    Chicago, IL        3.0      -14.0     ****        0.881587  \n",
       "1915533    Chicago, IL       -2.0       -9.0     ****        0.456256  \n",
       "\n",
       "[890 rows x 10 columns]"
      ]
     },
     "execution_count": 164,
     "metadata": {},
     "output_type": "execute_result"
    }
   ],
   "source": [
    "# Distance is very important for us as we will calculate the number of flights which are departing on the same route\n",
    "# Are there other routes which have values for the same origin and destinaion?, use JFK -> ORD as an example\n",
    "flights[(flights['ORIGIN'] == 'JFK') & (flights['DESTINATION'] == 'ORD')]\n",
    "# since we have the same routes which have distances present the missing data can be filled in by these records. "
   ]
  },
  {
   "cell_type": "code",
   "execution_count": 165,
   "id": "8463cf39",
   "metadata": {},
   "outputs": [],
   "source": [
    "# Find all the strings in DISTANCE column. \n",
    "strings_in_distance = flights['DISTANCE'].apply(lambda x: isinstance(x, str) and not x.replace('.', '', 1).isdigit())"
   ]
  },
  {
   "cell_type": "code",
   "execution_count": 166,
   "id": "da9bc15c",
   "metadata": {},
   "outputs": [],
   "source": [
    "flights[strings_in_distance]['DISTANCE'].unique()\n",
    "# most of these values can be coerced into a numric data type but the values 'Hundered','Twenty' and '****' cannot be coerced\n",
    "non_numeric_strings = flights[strings_in_distance]['DISTANCE'].unique().tolist()\n",
    "# create a list which contains all non numeric strings in the distance column-- this increases reusability when the data changes in real time. "
   ]
  },
  {
   "cell_type": "code",
   "execution_count": 167,
   "id": "41961e69",
   "metadata": {},
   "outputs": [
    {
     "data": {
      "text/plain": [
       "['Hundred', 'Twenty', 'NAN', '-1947', '-198', '****']"
      ]
     },
     "execution_count": 167,
     "metadata": {},
     "output_type": "execute_result"
    }
   ],
   "source": [
    "non_numeric_strings"
   ]
  },
  {
   "cell_type": "code",
   "execution_count": 168,
   "id": "8f4e3b70",
   "metadata": {},
   "outputs": [],
   "source": [
    "# Replace the non numeric values to NaN so that we can fill the distances with similar route distances\n",
    "flights['DISTANCE'] = flights['DISTANCE'].replace(non_numeric_strings, np.nan).astype(float)\n",
    "# coerce all numbers to numeric data type\n",
    "flights['DISTANCE'] = pd.to_numeric(flights['DISTANCE'], errors='coerce')\n",
    "#For each group, the DISTANCE column is filled forward using fillna(method='ffill') and then backward using fillna(method='bfill').\n",
    "#This method ensures that any missing distances are filled based on the existing distances within the same (ORIGIN, DESTINATION) pairs, if they exist.\n",
    "flights['DISTANCE'] = flights.groupby(['ORIGIN', 'DESTINATION'])['DISTANCE'].transform(lambda x: x.fillna(method='ffill').fillna(method='bfill'))"
   ]
  },
  {
   "cell_type": "code",
   "execution_count": 169,
   "id": "cabadc04",
   "metadata": {},
   "outputs": [
    {
     "data": {
      "text/html": [
       "<div>\n",
       "<style scoped>\n",
       "    .dataframe tbody tr th:only-of-type {\n",
       "        vertical-align: middle;\n",
       "    }\n",
       "\n",
       "    .dataframe tbody tr th {\n",
       "        vertical-align: top;\n",
       "    }\n",
       "\n",
       "    .dataframe thead th {\n",
       "        text-align: right;\n",
       "    }\n",
       "</style>\n",
       "<table border=\"1\" class=\"dataframe\">\n",
       "  <thead>\n",
       "    <tr style=\"text-align: right;\">\n",
       "      <th></th>\n",
       "      <th>FL_DATE</th>\n",
       "      <th>OP_CARRIER</th>\n",
       "      <th>ORIGIN</th>\n",
       "      <th>ORIGIN_CITY_NAME</th>\n",
       "      <th>DESTINATION</th>\n",
       "      <th>DEST_CITY_NAME</th>\n",
       "      <th>DEP_DELAY</th>\n",
       "      <th>ARR_DELAY</th>\n",
       "      <th>DISTANCE</th>\n",
       "      <th>OCCUPANCY_RATE</th>\n",
       "    </tr>\n",
       "  </thead>\n",
       "  <tbody>\n",
       "    <tr>\n",
       "      <th>17200</th>\n",
       "      <td>2019-03-13</td>\n",
       "      <td>OO</td>\n",
       "      <td>JFK</td>\n",
       "      <td>New York, NY</td>\n",
       "      <td>ORD</td>\n",
       "      <td>Chicago, IL</td>\n",
       "      <td>-3.0</td>\n",
       "      <td>-15.0</td>\n",
       "      <td>740.0</td>\n",
       "      <td>0.730000</td>\n",
       "    </tr>\n",
       "    <tr>\n",
       "      <th>17214</th>\n",
       "      <td>2019-03-13</td>\n",
       "      <td>OO</td>\n",
       "      <td>JFK</td>\n",
       "      <td>New York, NY</td>\n",
       "      <td>ORD</td>\n",
       "      <td>Chicago, IL</td>\n",
       "      <td>-5.0</td>\n",
       "      <td>-9.0</td>\n",
       "      <td>740.0</td>\n",
       "      <td>0.920000</td>\n",
       "    </tr>\n",
       "    <tr>\n",
       "      <th>19554</th>\n",
       "      <td>2019-03-14</td>\n",
       "      <td>OO</td>\n",
       "      <td>JFK</td>\n",
       "      <td>New York, NY</td>\n",
       "      <td>ORD</td>\n",
       "      <td>Chicago, IL</td>\n",
       "      <td>0.0</td>\n",
       "      <td>-6.0</td>\n",
       "      <td>740.0</td>\n",
       "      <td>0.620000</td>\n",
       "    </tr>\n",
       "    <tr>\n",
       "      <th>19568</th>\n",
       "      <td>2019-03-14</td>\n",
       "      <td>OO</td>\n",
       "      <td>JFK</td>\n",
       "      <td>New York, NY</td>\n",
       "      <td>ORD</td>\n",
       "      <td>Chicago, IL</td>\n",
       "      <td>114.0</td>\n",
       "      <td>170.0</td>\n",
       "      <td>740.0</td>\n",
       "      <td>0.500000</td>\n",
       "    </tr>\n",
       "    <tr>\n",
       "      <th>21148</th>\n",
       "      <td>2019-03-25</td>\n",
       "      <td>OO</td>\n",
       "      <td>JFK</td>\n",
       "      <td>New York, NY</td>\n",
       "      <td>ORD</td>\n",
       "      <td>Chicago, IL</td>\n",
       "      <td>9.0</td>\n",
       "      <td>-8.0</td>\n",
       "      <td>740.0</td>\n",
       "      <td>0.690000</td>\n",
       "    </tr>\n",
       "    <tr>\n",
       "      <th>...</th>\n",
       "      <td>...</td>\n",
       "      <td>...</td>\n",
       "      <td>...</td>\n",
       "      <td>...</td>\n",
       "      <td>...</td>\n",
       "      <td>...</td>\n",
       "      <td>...</td>\n",
       "      <td>...</td>\n",
       "      <td>...</td>\n",
       "      <td>...</td>\n",
       "    </tr>\n",
       "    <tr>\n",
       "      <th>1915529</th>\n",
       "      <td>2019-03-27</td>\n",
       "      <td>AA</td>\n",
       "      <td>JFK</td>\n",
       "      <td>New York, NY</td>\n",
       "      <td>ORD</td>\n",
       "      <td>Chicago, IL</td>\n",
       "      <td>-1.0</td>\n",
       "      <td>-12.0</td>\n",
       "      <td>740.0</td>\n",
       "      <td>0.937391</td>\n",
       "    </tr>\n",
       "    <tr>\n",
       "      <th>1915530</th>\n",
       "      <td>2019-03-28</td>\n",
       "      <td>AA</td>\n",
       "      <td>JFK</td>\n",
       "      <td>New York, NY</td>\n",
       "      <td>ORD</td>\n",
       "      <td>Chicago, IL</td>\n",
       "      <td>-3.0</td>\n",
       "      <td>-9.0</td>\n",
       "      <td>740.0</td>\n",
       "      <td>0.794303</td>\n",
       "    </tr>\n",
       "    <tr>\n",
       "      <th>1915531</th>\n",
       "      <td>2019-03-29</td>\n",
       "      <td>AA</td>\n",
       "      <td>JFK</td>\n",
       "      <td>New York, NY</td>\n",
       "      <td>ORD</td>\n",
       "      <td>Chicago, IL</td>\n",
       "      <td>-3.0</td>\n",
       "      <td>-13.0</td>\n",
       "      <td>740.0</td>\n",
       "      <td>0.595342</td>\n",
       "    </tr>\n",
       "    <tr>\n",
       "      <th>1915532</th>\n",
       "      <td>2019-03-30</td>\n",
       "      <td>AA</td>\n",
       "      <td>JFK</td>\n",
       "      <td>New York, NY</td>\n",
       "      <td>ORD</td>\n",
       "      <td>Chicago, IL</td>\n",
       "      <td>3.0</td>\n",
       "      <td>-14.0</td>\n",
       "      <td>740.0</td>\n",
       "      <td>0.881587</td>\n",
       "    </tr>\n",
       "    <tr>\n",
       "      <th>1915533</th>\n",
       "      <td>2019-03-31</td>\n",
       "      <td>AA</td>\n",
       "      <td>JFK</td>\n",
       "      <td>New York, NY</td>\n",
       "      <td>ORD</td>\n",
       "      <td>Chicago, IL</td>\n",
       "      <td>-2.0</td>\n",
       "      <td>-9.0</td>\n",
       "      <td>740.0</td>\n",
       "      <td>0.456256</td>\n",
       "    </tr>\n",
       "  </tbody>\n",
       "</table>\n",
       "<p>890 rows × 10 columns</p>\n",
       "</div>"
      ],
      "text/plain": [
       "           FL_DATE OP_CARRIER ORIGIN ORIGIN_CITY_NAME DESTINATION  \\\n",
       "17200   2019-03-13         OO    JFK     New York, NY         ORD   \n",
       "17214   2019-03-13         OO    JFK     New York, NY         ORD   \n",
       "19554   2019-03-14         OO    JFK     New York, NY         ORD   \n",
       "19568   2019-03-14         OO    JFK     New York, NY         ORD   \n",
       "21148   2019-03-25         OO    JFK     New York, NY         ORD   \n",
       "...            ...        ...    ...              ...         ...   \n",
       "1915529 2019-03-27         AA    JFK     New York, NY         ORD   \n",
       "1915530 2019-03-28         AA    JFK     New York, NY         ORD   \n",
       "1915531 2019-03-29         AA    JFK     New York, NY         ORD   \n",
       "1915532 2019-03-30         AA    JFK     New York, NY         ORD   \n",
       "1915533 2019-03-31         AA    JFK     New York, NY         ORD   \n",
       "\n",
       "        DEST_CITY_NAME  DEP_DELAY  ARR_DELAY  DISTANCE  OCCUPANCY_RATE  \n",
       "17200      Chicago, IL       -3.0      -15.0     740.0        0.730000  \n",
       "17214      Chicago, IL       -5.0       -9.0     740.0        0.920000  \n",
       "19554      Chicago, IL        0.0       -6.0     740.0        0.620000  \n",
       "19568      Chicago, IL      114.0      170.0     740.0        0.500000  \n",
       "21148      Chicago, IL        9.0       -8.0     740.0        0.690000  \n",
       "...                ...        ...        ...       ...             ...  \n",
       "1915529    Chicago, IL       -1.0      -12.0     740.0        0.937391  \n",
       "1915530    Chicago, IL       -3.0       -9.0     740.0        0.794303  \n",
       "1915531    Chicago, IL       -3.0      -13.0     740.0        0.595342  \n",
       "1915532    Chicago, IL        3.0      -14.0     740.0        0.881587  \n",
       "1915533    Chicago, IL       -2.0       -9.0     740.0        0.456256  \n",
       "\n",
       "[890 rows x 10 columns]"
      ]
     },
     "execution_count": 169,
     "metadata": {},
     "output_type": "execute_result"
    }
   ],
   "source": [
    "# Check if all the JFK -> ORD flights have the same distance\n",
    "flights[(flights['ORIGIN'] == 'JFK') & (flights['DESTINATION'] == 'ORD')]"
   ]
  },
  {
   "cell_type": "code",
   "execution_count": 170,
   "id": "e95042e9",
   "metadata": {},
   "outputs": [
    {
     "data": {
      "text/plain": [
       "FL_DATE                0\n",
       "OP_CARRIER             0\n",
       "ORIGIN                 0\n",
       "ORIGIN_CITY_NAME       0\n",
       "DESTINATION            0\n",
       "DEST_CITY_NAME         0\n",
       "DEP_DELAY              0\n",
       "ARR_DELAY           4377\n",
       "DISTANCE               0\n",
       "OCCUPANCY_RATE       310\n",
       "dtype: int64"
      ]
     },
     "execution_count": 170,
     "metadata": {},
     "output_type": "execute_result"
    }
   ],
   "source": [
    "flights.isna().sum()"
   ]
  },
  {
   "cell_type": "code",
   "execution_count": 171,
   "id": "73f418cc",
   "metadata": {},
   "outputs": [],
   "source": [
    "# fill all na values in delays as 0, here we are assuming that the flights are on time .\n",
    "flights['ARR_DELAY'].fillna(0,inplace=True)"
   ]
  },
  {
   "cell_type": "code",
   "execution_count": 172,
   "id": "0a443d56",
   "metadata": {},
   "outputs": [
    {
     "data": {
      "text/plain": [
       "FL_DATE               0\n",
       "OP_CARRIER            0\n",
       "ORIGIN                0\n",
       "ORIGIN_CITY_NAME      0\n",
       "DESTINATION           0\n",
       "DEST_CITY_NAME        0\n",
       "DEP_DELAY             0\n",
       "ARR_DELAY             0\n",
       "DISTANCE              0\n",
       "OCCUPANCY_RATE      310\n",
       "dtype: int64"
      ]
     },
     "execution_count": 172,
     "metadata": {},
     "output_type": "execute_result"
    }
   ],
   "source": [
    "flights.isna().sum()"
   ]
  },
  {
   "cell_type": "code",
   "execution_count": 173,
   "id": "cf9a765e",
   "metadata": {},
   "outputs": [],
   "source": [
    "# It is better to remove these rows as they are very less.\n",
    "flights = flights.dropna()"
   ]
  },
  {
   "cell_type": "code",
   "execution_count": 174,
   "id": "bb4f06cb",
   "metadata": {},
   "outputs": [
    {
     "data": {
      "text/plain": [
       "FL_DATE             datetime64[ns]\n",
       "OP_CARRIER                  object\n",
       "ORIGIN                      object\n",
       "ORIGIN_CITY_NAME            object\n",
       "DESTINATION                 object\n",
       "DEST_CITY_NAME              object\n",
       "DEP_DELAY                  float64\n",
       "ARR_DELAY                  float64\n",
       "DISTANCE                   float64\n",
       "OCCUPANCY_RATE             float64\n",
       "dtype: object"
      ]
     },
     "execution_count": 174,
     "metadata": {},
     "output_type": "execute_result"
    }
   ],
   "source": [
    "flights.dtypes"
   ]
  },
  {
   "cell_type": "code",
   "execution_count": 175,
   "id": "f160302b",
   "metadata": {},
   "outputs": [],
   "source": [
    "# change data types to int\n",
    "flights['DEP_DELAY'] = flights['DEP_DELAY'].round().astype(int)\n",
    "flights['ARR_DELAY'] = flights['ARR_DELAY'].round().astype(int)\n",
    "flights['DISTANCE'] = flights['DISTANCE'].round().astype(int)"
   ]
  },
  {
   "cell_type": "code",
   "execution_count": 176,
   "id": "fdadba73",
   "metadata": {},
   "outputs": [
    {
     "data": {
      "text/plain": [
       "FL_DATE             datetime64[ns]\n",
       "OP_CARRIER                  object\n",
       "ORIGIN                      object\n",
       "ORIGIN_CITY_NAME            object\n",
       "DESTINATION                 object\n",
       "DEST_CITY_NAME              object\n",
       "DEP_DELAY                    int32\n",
       "ARR_DELAY                    int32\n",
       "DISTANCE                     int32\n",
       "OCCUPANCY_RATE             float64\n",
       "dtype: object"
      ]
     },
     "execution_count": 176,
     "metadata": {},
     "output_type": "execute_result"
    }
   ],
   "source": [
    "flights.dtypes"
   ]
  },
  {
   "cell_type": "markdown",
   "id": "b62caa4e",
   "metadata": {},
   "source": [
    "Use the IQR values in DEP_DELAY and ARR_DELAY to remove outliers. "
   ]
  },
  {
   "cell_type": "markdown",
   "id": "f890391f",
   "metadata": {},
   "source": [
    "1.DEP_DELAY - Departure delay"
   ]
  },
  {
   "cell_type": "code",
   "execution_count": 143,
   "id": "a16fe865",
   "metadata": {},
   "outputs": [
    {
     "data": {
      "text/plain": [
       "count    1.863962e+06\n",
       "mean     1.077062e+01\n",
       "std      5.007016e+01\n",
       "min     -6.300000e+01\n",
       "25%     -6.000000e+00\n",
       "50%     -2.000000e+00\n",
       "75%      7.000000e+00\n",
       "max      2.941000e+03\n",
       "Name: DEP_DELAY, dtype: float64"
      ]
     },
     "execution_count": 143,
     "metadata": {},
     "output_type": "execute_result"
    }
   ],
   "source": [
    "flights['DEP_DELAY'].describe()"
   ]
  },
  {
   "cell_type": "markdown",
   "id": "59bac9ff",
   "metadata": {},
   "source": [
    "From the output we can can understand that the mean departure delay time is 10 minutes whereas the maximum departure delay time is 294 minutes. This means our data has outliers. To remove the outliers we can remove all values which have a departure delay time above and lower the inter-quartile range"
   ]
  },
  {
   "cell_type": "code",
   "execution_count": 149,
   "id": "abc46ebc",
   "metadata": {},
   "outputs": [],
   "source": [
    "# finding the 1st quartile\n",
    "DEP_DELAY_q1 = np.quantile(flights['DEP_DELAY'], 0.25)\n",
    " \n",
    "# finding the 3rd quartile\n",
    "DEP_DELAY_q3 = np.quantile(flights['DEP_DELAY'], 0.75)\n",
    "DEP_DELAY_med = np.median(flights['DEP_DELAY'])\n",
    " \n",
    "# finding the iqr region\n",
    "iqr = DEP_DELAY_q3-DEP_DELAY_q1\n",
    " \n",
    "# finding upper and lower whiskers\n",
    "upper_bound = DEP_DELAY_q3+(1.5*iqr)\n",
    "lower_bound = DEP_DELAY_q1-(1.5*iqr)"
   ]
  },
  {
   "cell_type": "code",
   "execution_count": 150,
   "id": "d56e64bf",
   "metadata": {},
   "outputs": [],
   "source": [
    "# remove all records which have departure delays not in IQR.\n",
    "flights = flights[flights['DEP_DELAY']<upper_bound]\n",
    "flights = flights[flights['DEP_DELAY']>lower_bound]"
   ]
  },
  {
   "cell_type": "code",
   "execution_count": 151,
   "id": "12863f11",
   "metadata": {},
   "outputs": [
    {
     "name": "stdout",
     "output_type": "stream",
     "text": [
      "9.0 -15.0\n"
     ]
    }
   ],
   "source": []
  },
  {
   "cell_type": "code",
   "execution_count": 146,
   "id": "ca843b5d",
   "metadata": {},
   "outputs": [
    {
     "data": {
      "text/plain": [
       "[Text(0.5, 1.0, 'Boxplot for departure delays after cleaning')]"
      ]
     },
     "execution_count": 146,
     "metadata": {},
     "output_type": "execute_result"
    },
    {
     "data": {
      "image/png": "[encoded data removed]",
      "text/plain": [
       "<Figure size 842.4x595.44 with 1 Axes>"
      ]
     },
     "metadata": {},
     "output_type": "display_data"
    }
   ],
   "source": [
    "sns.boxplot(data = flights,x='DEP_DELAY').set(title='Boxplot for departure delays after cleaning')"
   ]
  },
  {
   "cell_type": "markdown",
   "id": "48c9de47",
   "metadata": {},
   "source": [
    "2. ARR_DELAY - arrival delay"
   ]
  },
  {
   "cell_type": "code",
   "execution_count": 147,
   "id": "8fbc9647",
   "metadata": {},
   "outputs": [
    {
     "data": {
      "text/plain": [
       "count    1.617774e+06\n",
       "mean    -6.781208e+00\n",
       "std      1.564940e+01\n",
       "min     -9.400000e+01\n",
       "25%     -1.700000e+01\n",
       "50%     -9.000000e+00\n",
       "75%      1.000000e+00\n",
       "max      1.439000e+03\n",
       "Name: ARR_DELAY, dtype: float64"
      ]
     },
     "execution_count": 147,
     "metadata": {},
     "output_type": "execute_result"
    }
   ],
   "source": [
    "flights['ARR_DELAY'].describe()"
   ]
  },
  {
   "cell_type": "markdown",
   "id": "94e780d3",
   "metadata": {},
   "source": [
    "Using the same logic we used for departure delay, clean arrival delay column "
   ]
  },
  {
   "cell_type": "code",
   "execution_count": null,
   "id": "86406a7d",
   "metadata": {},
   "outputs": [],
   "source": []
  },
  {
   "cell_type": "code",
   "execution_count": 32,
   "id": "2d8ac97a",
   "metadata": {},
   "outputs": [],
   "source": [
    "# remove all records which have departure delays more than 60 minutes. \n",
    "# the cost for the airline would become 60*75 \n",
    "flights = flights[flights['ARR_DELAY']<upper_bound]\n",
    "flights = flights[flights['ARR_DELAY']>lower_bound]"
   ]
  },
  {
   "cell_type": "code",
   "execution_count": 33,
   "id": "5ad94daf",
   "metadata": {},
   "outputs": [
    {
     "data": {
      "text/plain": [
       "(1566407, 10)"
      ]
     },
     "execution_count": 33,
     "metadata": {},
     "output_type": "execute_result"
    }
   ],
   "source": [
    "flights.shape"
   ]
  },
  {
   "cell_type": "code",
   "execution_count": 34,
   "id": "27abc2a1",
   "metadata": {},
   "outputs": [
    {
     "data": {
      "text/plain": [
       "False    1566407\n",
       "Name: DISTANCE, dtype: int64"
      ]
     },
     "execution_count": 34,
     "metadata": {},
     "output_type": "execute_result"
    }
   ],
   "source": [
    "# double check that distance column does not have empty values\n",
    "flights['DISTANCE'].isnull().value_counts()"
   ]
  },
  {
   "cell_type": "code",
   "execution_count": 35,
   "id": "907b0252",
   "metadata": {},
   "outputs": [],
   "source": [
    "# group the flights to show one record for each origin,destination,carrier pair\n",
    "grouped_flights = flights.groupby(['ORIGIN', 'DESTINATION','DISTANCE']).agg({\n",
    "    'DEP_DELAY': 'mean',\n",
    "    'ARR_DELAY': 'mean',\n",
    "    'OCCUPANCY_RATE': 'mean'\n",
    "}).reset_index()"
   ]
  },
  {
   "cell_type": "code",
   "execution_count": 36,
   "id": "b7206de6",
   "metadata": {},
   "outputs": [],
   "source": [
    "# Find the number of flights going on the same path\n",
    "flight_counts = flights.groupby(['ORIGIN', 'DESTINATION', 'DISTANCE']).size().reset_index(name='num_flights')"
   ]
  },
  {
   "cell_type": "code",
   "execution_count": 37,
   "id": "b7986d0e",
   "metadata": {},
   "outputs": [],
   "source": [
    "grouped_flights = pd.merge(grouped_flights, flight_counts, on=['ORIGIN', 'DESTINATION', 'DISTANCE'])"
   ]
  },
  {
   "cell_type": "code",
   "execution_count": 38,
   "id": "7cd399a1",
   "metadata": {},
   "outputs": [],
   "source": [
    "flights = grouped_flights"
   ]
  },
  {
   "cell_type": "code",
   "execution_count": 39,
   "id": "e4dd106e",
   "metadata": {},
   "outputs": [
    {
     "data": {
      "text/plain": [
       "(5954, 7)"
      ]
     },
     "execution_count": 39,
     "metadata": {},
     "output_type": "execute_result"
    }
   ],
   "source": [
    "flights.shape\n"
   ]
  },
  {
   "cell_type": "code",
   "execution_count": 40,
   "id": "041ebac3",
   "metadata": {},
   "outputs": [
    {
     "data": {
      "text/html": [
       "<div>\n",
       "<style scoped>\n",
       "    .dataframe tbody tr th:only-of-type {\n",
       "        vertical-align: middle;\n",
       "    }\n",
       "\n",
       "    .dataframe tbody tr th {\n",
       "        vertical-align: top;\n",
       "    }\n",
       "\n",
       "    .dataframe thead th {\n",
       "        text-align: right;\n",
       "    }\n",
       "</style>\n",
       "<table border=\"1\" class=\"dataframe\">\n",
       "  <thead>\n",
       "    <tr style=\"text-align: right;\">\n",
       "      <th></th>\n",
       "      <th>ORIGIN</th>\n",
       "      <th>DESTINATION</th>\n",
       "      <th>DISTANCE</th>\n",
       "      <th>DEP_DELAY</th>\n",
       "      <th>ARR_DELAY</th>\n",
       "      <th>OCCUPANCY_RATE</th>\n",
       "      <th>num_flights</th>\n",
       "    </tr>\n",
       "  </thead>\n",
       "  <tbody>\n",
       "    <tr>\n",
       "      <th>0</th>\n",
       "      <td>ABE</td>\n",
       "      <td>ATL</td>\n",
       "      <td>692</td>\n",
       "      <td>-1.800000</td>\n",
       "      <td>-7.162162</td>\n",
       "      <td>0.638432</td>\n",
       "      <td>185</td>\n",
       "    </tr>\n",
       "    <tr>\n",
       "      <th>1</th>\n",
       "      <td>ABE</td>\n",
       "      <td>CLT</td>\n",
       "      <td>481</td>\n",
       "      <td>-4.294118</td>\n",
       "      <td>-4.493213</td>\n",
       "      <td>0.659367</td>\n",
       "      <td>221</td>\n",
       "    </tr>\n",
       "    <tr>\n",
       "      <th>2</th>\n",
       "      <td>ABE</td>\n",
       "      <td>DTW</td>\n",
       "      <td>425</td>\n",
       "      <td>-2.570048</td>\n",
       "      <td>-8.850242</td>\n",
       "      <td>0.638357</td>\n",
       "      <td>207</td>\n",
       "    </tr>\n",
       "    <tr>\n",
       "      <th>3</th>\n",
       "      <td>ABE</td>\n",
       "      <td>FLL</td>\n",
       "      <td>1041</td>\n",
       "      <td>0.058824</td>\n",
       "      <td>-4.470588</td>\n",
       "      <td>0.543529</td>\n",
       "      <td>17</td>\n",
       "    </tr>\n",
       "    <tr>\n",
       "      <th>4</th>\n",
       "      <td>ABE</td>\n",
       "      <td>ORD</td>\n",
       "      <td>654</td>\n",
       "      <td>-6.309091</td>\n",
       "      <td>-15.381818</td>\n",
       "      <td>0.671182</td>\n",
       "      <td>110</td>\n",
       "    </tr>\n",
       "  </tbody>\n",
       "</table>\n",
       "</div>"
      ],
      "text/plain": [
       "  ORIGIN DESTINATION  DISTANCE  DEP_DELAY  ARR_DELAY  OCCUPANCY_RATE  \\\n",
       "0    ABE         ATL       692  -1.800000  -7.162162        0.638432   \n",
       "1    ABE         CLT       481  -4.294118  -4.493213        0.659367   \n",
       "2    ABE         DTW       425  -2.570048  -8.850242        0.638357   \n",
       "3    ABE         FLL      1041   0.058824  -4.470588        0.543529   \n",
       "4    ABE         ORD       654  -6.309091 -15.381818        0.671182   \n",
       "\n",
       "   num_flights  \n",
       "0          185  \n",
       "1          221  \n",
       "2          207  \n",
       "3           17  \n",
       "4          110  "
      ]
     },
     "execution_count": 40,
     "metadata": {},
     "output_type": "execute_result"
    }
   ],
   "source": [
    "flights.head()"
   ]
  },
  {
   "cell_type": "code",
   "execution_count": 41,
   "id": "49f4a13a",
   "metadata": {},
   "outputs": [
    {
     "data": {
      "text/plain": [
       "[Text(0.5, 1.0, 'Distirbution of departure delay time')]"
      ]
     },
     "execution_count": 41,
     "metadata": {},
     "output_type": "execute_result"
    },
    {
     "data": {
      "image/png": "[encoded data removed]",
      "text/plain": [
       "<Figure size 432x288 with 1 Axes>"
      ]
     },
     "metadata": {
      "needs_background": "light"
     },
     "output_type": "display_data"
    }
   ],
   "source": [
    "sns.histplot(flights['DEP_DELAY'], bins=30, kde=True).set(title='Distirbution of departure delay time')"
   ]
  },
  {
   "cell_type": "markdown",
   "id": "8c953391",
   "metadata": {},
   "source": [
    "The above visualisation is right-skewed which means most departures are before departure time."
   ]
  },
  {
   "cell_type": "markdown",
   "id": "0ed31c99",
   "metadata": {},
   "source": [
    "#### Clean airports"
   ]
  },
  {
   "cell_type": "code",
   "execution_count": 42,
   "id": "0644bb53",
   "metadata": {
    "scrolled": true
   },
   "outputs": [
    {
     "name": "stdout",
     "output_type": "stream",
     "text": [
      "(55369, 8)\n"
     ]
    },
    {
     "data": {
      "text/html": [
       "<div>\n",
       "<style scoped>\n",
       "    .dataframe tbody tr th:only-of-type {\n",
       "        vertical-align: middle;\n",
       "    }\n",
       "\n",
       "    .dataframe tbody tr th {\n",
       "        vertical-align: top;\n",
       "    }\n",
       "\n",
       "    .dataframe thead th {\n",
       "        text-align: right;\n",
       "    }\n",
       "</style>\n",
       "<table border=\"1\" class=\"dataframe\">\n",
       "  <thead>\n",
       "    <tr style=\"text-align: right;\">\n",
       "      <th></th>\n",
       "      <th>TYPE</th>\n",
       "      <th>NAME</th>\n",
       "      <th>ELEVATION_FT</th>\n",
       "      <th>CONTINENT</th>\n",
       "      <th>ISO_COUNTRY</th>\n",
       "      <th>MUNICIPALITY</th>\n",
       "      <th>IATA_CODE</th>\n",
       "      <th>COORDINATES</th>\n",
       "    </tr>\n",
       "  </thead>\n",
       "  <tbody>\n",
       "    <tr>\n",
       "      <th>0</th>\n",
       "      <td>heliport</td>\n",
       "      <td>Total Rf Heliport</td>\n",
       "      <td>11.0</td>\n",
       "      <td>NaN</td>\n",
       "      <td>US</td>\n",
       "      <td>Bensalem</td>\n",
       "      <td>NaN</td>\n",
       "      <td>-74.93360137939453, 40.07080078125</td>\n",
       "    </tr>\n",
       "    <tr>\n",
       "      <th>1</th>\n",
       "      <td>small_airport</td>\n",
       "      <td>Aero B Ranch Airport</td>\n",
       "      <td>3435.0</td>\n",
       "      <td>NaN</td>\n",
       "      <td>US</td>\n",
       "      <td>Leoti</td>\n",
       "      <td>NaN</td>\n",
       "      <td>-101.473911, 38.704022</td>\n",
       "    </tr>\n",
       "    <tr>\n",
       "      <th>2</th>\n",
       "      <td>small_airport</td>\n",
       "      <td>Lowell Field</td>\n",
       "      <td>450.0</td>\n",
       "      <td>NaN</td>\n",
       "      <td>US</td>\n",
       "      <td>Anchor Point</td>\n",
       "      <td>NaN</td>\n",
       "      <td>-151.695999146, 59.94919968</td>\n",
       "    </tr>\n",
       "    <tr>\n",
       "      <th>3</th>\n",
       "      <td>small_airport</td>\n",
       "      <td>Epps Airpark</td>\n",
       "      <td>820.0</td>\n",
       "      <td>NaN</td>\n",
       "      <td>US</td>\n",
       "      <td>Harvest</td>\n",
       "      <td>NaN</td>\n",
       "      <td>-86.77030181884766, 34.86479949951172</td>\n",
       "    </tr>\n",
       "    <tr>\n",
       "      <th>4</th>\n",
       "      <td>closed</td>\n",
       "      <td>Newport Hospital &amp; Clinic Heliport</td>\n",
       "      <td>237.0</td>\n",
       "      <td>NaN</td>\n",
       "      <td>US</td>\n",
       "      <td>Newport</td>\n",
       "      <td>NaN</td>\n",
       "      <td>-91.254898, 35.6087</td>\n",
       "    </tr>\n",
       "  </tbody>\n",
       "</table>\n",
       "</div>"
      ],
      "text/plain": [
       "            TYPE                                NAME  ELEVATION_FT CONTINENT  \\\n",
       "0       heliport                   Total Rf Heliport          11.0       NaN   \n",
       "1  small_airport                Aero B Ranch Airport        3435.0       NaN   \n",
       "2  small_airport                        Lowell Field         450.0       NaN   \n",
       "3  small_airport                        Epps Airpark         820.0       NaN   \n",
       "4         closed  Newport Hospital & Clinic Heliport         237.0       NaN   \n",
       "\n",
       "  ISO_COUNTRY  MUNICIPALITY IATA_CODE                            COORDINATES  \n",
       "0          US      Bensalem       NaN     -74.93360137939453, 40.07080078125  \n",
       "1          US         Leoti       NaN                 -101.473911, 38.704022  \n",
       "2          US  Anchor Point       NaN            -151.695999146, 59.94919968  \n",
       "3          US       Harvest       NaN  -86.77030181884766, 34.86479949951172  \n",
       "4          US       Newport       NaN                    -91.254898, 35.6087  "
      ]
     },
     "execution_count": 42,
     "metadata": {},
     "output_type": "execute_result"
    }
   ],
   "source": [
    "print(airports.shape)\n",
    "airports.head()\n"
   ]
  },
  {
   "cell_type": "code",
   "execution_count": 43,
   "id": "e45e36c8",
   "metadata": {},
   "outputs": [],
   "source": [
    "# Continent does not provide us with any usefull insight as we are only considering US domestic flights so remove it.\n",
    "airports = airports.drop(['CONTINENT'],axis =1)"
   ]
  },
  {
   "cell_type": "code",
   "execution_count": 44,
   "id": "89770fa3",
   "metadata": {},
   "outputs": [
    {
     "name": "stdout",
     "output_type": "stream",
     "text": [
      "Shape of airports dataset after removing small and Non-US airports: (858, 7)\n"
     ]
    }
   ],
   "source": [
    "# We are tring to enter the united states domestic market so remove all other countries and focus on large and medium airports\n",
    "airports = airports[airports['ISO_COUNTRY'] =='US']\n",
    "airports = airports[(airports['TYPE'] == 'medium_airport') | (airports['TYPE']=='large_airport')]\n",
    "print(\"Shape of airports dataset after removing small and Non-US airports:\",airports.shape)"
   ]
  },
  {
   "cell_type": "code",
   "execution_count": 45,
   "id": "eee8ebd7",
   "metadata": {},
   "outputs": [
    {
     "name": "stdout",
     "output_type": "stream",
     "text": [
      "Shape of airports dataset after removing invalid airports: (821, 7)\n"
     ]
    }
   ],
   "source": [
    "# remove all invalid airports. \n",
    "airports = airports.dropna(subset = ['IATA_CODE'])\n",
    "print(\"Shape of airports dataset after removing invalid airports:\",airports.shape)"
   ]
  },
  {
   "cell_type": "code",
   "execution_count": 46,
   "id": "d9f0d27a",
   "metadata": {},
   "outputs": [
    {
     "data": {
      "text/html": [
       "<div>\n",
       "<style scoped>\n",
       "    .dataframe tbody tr th:only-of-type {\n",
       "        vertical-align: middle;\n",
       "    }\n",
       "\n",
       "    .dataframe tbody tr th {\n",
       "        vertical-align: top;\n",
       "    }\n",
       "\n",
       "    .dataframe thead th {\n",
       "        text-align: right;\n",
       "    }\n",
       "</style>\n",
       "<table border=\"1\" class=\"dataframe\">\n",
       "  <thead>\n",
       "    <tr style=\"text-align: right;\">\n",
       "      <th></th>\n",
       "      <th>TYPE</th>\n",
       "      <th>NAME</th>\n",
       "      <th>ELEVATION_FT</th>\n",
       "      <th>ISO_COUNTRY</th>\n",
       "      <th>MUNICIPALITY</th>\n",
       "      <th>IATA_CODE</th>\n",
       "      <th>COORDINATES</th>\n",
       "    </tr>\n",
       "  </thead>\n",
       "  <tbody>\n",
       "    <tr>\n",
       "      <th>6194</th>\n",
       "      <td>medium_airport</td>\n",
       "      <td>Aleknagik / New Airport</td>\n",
       "      <td>66.0</td>\n",
       "      <td>US</td>\n",
       "      <td>Aleknagik</td>\n",
       "      <td>WKK</td>\n",
       "      <td>-158.617996216, 59.2826004028</td>\n",
       "    </tr>\n",
       "    <tr>\n",
       "      <th>26143</th>\n",
       "      <td>medium_airport</td>\n",
       "      <td>Lehigh Valley International Airport</td>\n",
       "      <td>393.0</td>\n",
       "      <td>US</td>\n",
       "      <td>Allentown</td>\n",
       "      <td>ABE</td>\n",
       "      <td>-75.44080352783203, 40.652099609375</td>\n",
       "    </tr>\n",
       "    <tr>\n",
       "      <th>26144</th>\n",
       "      <td>medium_airport</td>\n",
       "      <td>Abilene Regional Airport</td>\n",
       "      <td>1791.0</td>\n",
       "      <td>US</td>\n",
       "      <td>Abilene</td>\n",
       "      <td>ABI</td>\n",
       "      <td>-99.68190002440001, 32.4113006592</td>\n",
       "    </tr>\n",
       "    <tr>\n",
       "      <th>26145</th>\n",
       "      <td>large_airport</td>\n",
       "      <td>Albuquerque International Sunport</td>\n",
       "      <td>5355.0</td>\n",
       "      <td>US</td>\n",
       "      <td>Albuquerque</td>\n",
       "      <td>ABQ</td>\n",
       "      <td>-106.609001, 35.040199</td>\n",
       "    </tr>\n",
       "    <tr>\n",
       "      <th>26146</th>\n",
       "      <td>medium_airport</td>\n",
       "      <td>Aberdeen Regional Airport</td>\n",
       "      <td>1302.0</td>\n",
       "      <td>US</td>\n",
       "      <td>Aberdeen</td>\n",
       "      <td>ABR</td>\n",
       "      <td>-98.42179870605469, 45.449100494384766</td>\n",
       "    </tr>\n",
       "  </tbody>\n",
       "</table>\n",
       "</div>"
      ],
      "text/plain": [
       "                 TYPE                                 NAME  ELEVATION_FT  \\\n",
       "6194   medium_airport              Aleknagik / New Airport          66.0   \n",
       "26143  medium_airport  Lehigh Valley International Airport         393.0   \n",
       "26144  medium_airport             Abilene Regional Airport        1791.0   \n",
       "26145   large_airport    Albuquerque International Sunport        5355.0   \n",
       "26146  medium_airport            Aberdeen Regional Airport        1302.0   \n",
       "\n",
       "      ISO_COUNTRY MUNICIPALITY IATA_CODE  \\\n",
       "6194           US    Aleknagik       WKK   \n",
       "26143          US    Allentown       ABE   \n",
       "26144          US      Abilene       ABI   \n",
       "26145          US  Albuquerque       ABQ   \n",
       "26146          US     Aberdeen       ABR   \n",
       "\n",
       "                                  COORDINATES  \n",
       "6194            -158.617996216, 59.2826004028  \n",
       "26143     -75.44080352783203, 40.652099609375  \n",
       "26144       -99.68190002440001, 32.4113006592  \n",
       "26145                  -106.609001, 35.040199  \n",
       "26146  -98.42179870605469, 45.449100494384766  "
      ]
     },
     "execution_count": 46,
     "metadata": {},
     "output_type": "execute_result"
    }
   ],
   "source": [
    "airports.head()"
   ]
  },
  {
   "cell_type": "code",
   "execution_count": 47,
   "id": "07ba9520",
   "metadata": {},
   "outputs": [
    {
     "data": {
      "text/plain": [
       "medium_airport    651\n",
       "large_airport     170\n",
       "Name: TYPE, dtype: int64"
      ]
     },
     "execution_count": 47,
     "metadata": {},
     "output_type": "execute_result"
    }
   ],
   "source": [
    "airports['TYPE'].value_counts()"
   ]
  },
  {
   "cell_type": "code",
   "execution_count": 48,
   "id": "7db8d490",
   "metadata": {},
   "outputs": [
    {
     "data": {
      "text/plain": [
       "[Text(0.5, 1.0, 'Number of medium and large airports')]"
      ]
     },
     "execution_count": 48,
     "metadata": {},
     "output_type": "execute_result"
    },
    {
     "data": {
      "image/png": "[encoded data removed]",
      "text/plain": [
       "<Figure size 432x288 with 1 Axes>"
      ]
     },
     "metadata": {
      "needs_background": "light"
     },
     "output_type": "display_data"
    }
   ],
   "source": [
    "sns.countplot(data = airports,x = 'TYPE').set(title='Number of medium and large airports')"
   ]
  },
  {
   "cell_type": "code",
   "execution_count": 49,
   "id": "ad80afa0",
   "metadata": {},
   "outputs": [
    {
     "data": {
      "text/plain": [
       "TYPE             object\n",
       "NAME             object\n",
       "ELEVATION_FT    float64\n",
       "ISO_COUNTRY      object\n",
       "MUNICIPALITY     object\n",
       "IATA_CODE        object\n",
       "COORDINATES      object\n",
       "dtype: object"
      ]
     },
     "execution_count": 49,
     "metadata": {},
     "output_type": "execute_result"
    }
   ],
   "source": [
    "airports.dtypes"
   ]
  },
  {
   "cell_type": "code",
   "execution_count": 50,
   "id": "c94b371e",
   "metadata": {},
   "outputs": [],
   "source": [
    "# we do not need elevation, iso_country and municipality as we do not get any usefull insights from these columns \n",
    "airports = airports.drop(['ELEVATION_FT','ISO_COUNTRY','MUNICIPALITY'],axis =1)"
   ]
  },
  {
   "cell_type": "code",
   "execution_count": 51,
   "id": "e2fd4f94",
   "metadata": {},
   "outputs": [
    {
     "name": "stdout",
     "output_type": "stream",
     "text": [
      "Shape of cleaned airports table (821, 4)\n"
     ]
    }
   ],
   "source": [
    "# check the shape of the cleaned dataframe\n",
    "print(\"Shape of cleaned airports table\",airports.shape)"
   ]
  },
  {
   "cell_type": "markdown",
   "id": "6be89e30",
   "metadata": {},
   "source": [
    "#### Clean tickets"
   ]
  },
  {
   "cell_type": "code",
   "execution_count": 52,
   "id": "0519a06e",
   "metadata": {},
   "outputs": [
    {
     "data": {
      "text/html": [
       "<div>\n",
       "<style scoped>\n",
       "    .dataframe tbody tr th:only-of-type {\n",
       "        vertical-align: middle;\n",
       "    }\n",
       "\n",
       "    .dataframe tbody tr th {\n",
       "        vertical-align: top;\n",
       "    }\n",
       "\n",
       "    .dataframe thead th {\n",
       "        text-align: right;\n",
       "    }\n",
       "</style>\n",
       "<table border=\"1\" class=\"dataframe\">\n",
       "  <thead>\n",
       "    <tr style=\"text-align: right;\">\n",
       "      <th></th>\n",
       "      <th>ITIN_ID</th>\n",
       "      <th>YEAR</th>\n",
       "      <th>QUARTER</th>\n",
       "      <th>ORIGIN</th>\n",
       "      <th>ORIGIN_COUNTRY</th>\n",
       "      <th>ORIGIN_STATE_ABR</th>\n",
       "      <th>ORIGIN_STATE_NM</th>\n",
       "      <th>ROUNDTRIP</th>\n",
       "      <th>REPORTING_CARRIER</th>\n",
       "      <th>PASSENGERS</th>\n",
       "      <th>ITIN_FARE</th>\n",
       "      <th>DESTINATION</th>\n",
       "    </tr>\n",
       "  </thead>\n",
       "  <tbody>\n",
       "    <tr>\n",
       "      <th>0</th>\n",
       "      <td>201912723049</td>\n",
       "      <td>2019</td>\n",
       "      <td>1</td>\n",
       "      <td>ABI</td>\n",
       "      <td>US</td>\n",
       "      <td>TX</td>\n",
       "      <td>Texas</td>\n",
       "      <td>1.0</td>\n",
       "      <td>MQ</td>\n",
       "      <td>1.0</td>\n",
       "      <td>736.0</td>\n",
       "      <td>DAB</td>\n",
       "    </tr>\n",
       "    <tr>\n",
       "      <th>1</th>\n",
       "      <td>201912723085</td>\n",
       "      <td>2019</td>\n",
       "      <td>1</td>\n",
       "      <td>ABI</td>\n",
       "      <td>US</td>\n",
       "      <td>TX</td>\n",
       "      <td>Texas</td>\n",
       "      <td>1.0</td>\n",
       "      <td>MQ</td>\n",
       "      <td>1.0</td>\n",
       "      <td>570.0</td>\n",
       "      <td>COS</td>\n",
       "    </tr>\n",
       "    <tr>\n",
       "      <th>2</th>\n",
       "      <td>201912723491</td>\n",
       "      <td>2019</td>\n",
       "      <td>1</td>\n",
       "      <td>ABI</td>\n",
       "      <td>US</td>\n",
       "      <td>TX</td>\n",
       "      <td>Texas</td>\n",
       "      <td>1.0</td>\n",
       "      <td>MQ</td>\n",
       "      <td>1.0</td>\n",
       "      <td>564.0</td>\n",
       "      <td>MCO</td>\n",
       "    </tr>\n",
       "    <tr>\n",
       "      <th>3</th>\n",
       "      <td>201912723428</td>\n",
       "      <td>2019</td>\n",
       "      <td>1</td>\n",
       "      <td>ABI</td>\n",
       "      <td>US</td>\n",
       "      <td>TX</td>\n",
       "      <td>Texas</td>\n",
       "      <td>1.0</td>\n",
       "      <td>MQ</td>\n",
       "      <td>1.0</td>\n",
       "      <td>345.0</td>\n",
       "      <td>LGA</td>\n",
       "    </tr>\n",
       "    <tr>\n",
       "      <th>4</th>\n",
       "      <td>201912723509</td>\n",
       "      <td>2019</td>\n",
       "      <td>1</td>\n",
       "      <td>ABI</td>\n",
       "      <td>US</td>\n",
       "      <td>TX</td>\n",
       "      <td>Texas</td>\n",
       "      <td>0.0</td>\n",
       "      <td>MQ</td>\n",
       "      <td>1.0</td>\n",
       "      <td>309.0</td>\n",
       "      <td>MGM</td>\n",
       "    </tr>\n",
       "  </tbody>\n",
       "</table>\n",
       "</div>"
      ],
      "text/plain": [
       "        ITIN_ID  YEAR  QUARTER ORIGIN ORIGIN_COUNTRY ORIGIN_STATE_ABR  \\\n",
       "0  201912723049  2019        1    ABI             US               TX   \n",
       "1  201912723085  2019        1    ABI             US               TX   \n",
       "2  201912723491  2019        1    ABI             US               TX   \n",
       "3  201912723428  2019        1    ABI             US               TX   \n",
       "4  201912723509  2019        1    ABI             US               TX   \n",
       "\n",
       "  ORIGIN_STATE_NM  ROUNDTRIP REPORTING_CARRIER  PASSENGERS ITIN_FARE  \\\n",
       "0           Texas        1.0                MQ         1.0     736.0   \n",
       "1           Texas        1.0                MQ         1.0     570.0   \n",
       "2           Texas        1.0                MQ         1.0     564.0   \n",
       "3           Texas        1.0                MQ         1.0     345.0   \n",
       "4           Texas        0.0                MQ         1.0     309.0   \n",
       "\n",
       "  DESTINATION  \n",
       "0         DAB  \n",
       "1         COS  \n",
       "2         MCO  \n",
       "3         LGA  \n",
       "4         MGM  "
      ]
     },
     "execution_count": 52,
     "metadata": {},
     "output_type": "execute_result"
    }
   ],
   "source": [
    "tickets.head()"
   ]
  },
  {
   "cell_type": "code",
   "execution_count": 53,
   "id": "36db786d",
   "metadata": {},
   "outputs": [],
   "source": [
    "# change data types for columns \n",
    "\n",
    "tickets['ORIGIN'] = tickets['ORIGIN'].astype(str)\n",
    "tickets['ORIGIN_STATE_ABR'] = tickets['ORIGIN_STATE_ABR'].astype(str)\n",
    "tickets['ORIGIN_STATE_NM'] = tickets['ORIGIN_STATE_NM'].astype(str)\n",
    "tickets['REPORTING_CARRIER'] = tickets['REPORTING_CARRIER'].astype(str)\n",
    "tickets['DESTINATION'] = tickets['DESTINATION'].astype(str)"
   ]
  },
  {
   "cell_type": "code",
   "execution_count": 54,
   "id": "e22b1496",
   "metadata": {},
   "outputs": [
    {
     "data": {
      "text/html": [
       "<div>\n",
       "<style scoped>\n",
       "    .dataframe tbody tr th:only-of-type {\n",
       "        vertical-align: middle;\n",
       "    }\n",
       "\n",
       "    .dataframe tbody tr th {\n",
       "        vertical-align: top;\n",
       "    }\n",
       "\n",
       "    .dataframe thead th {\n",
       "        text-align: right;\n",
       "    }\n",
       "</style>\n",
       "<table border=\"1\" class=\"dataframe\">\n",
       "  <thead>\n",
       "    <tr style=\"text-align: right;\">\n",
       "      <th></th>\n",
       "      <th>ITIN_ID</th>\n",
       "      <th>YEAR</th>\n",
       "      <th>QUARTER</th>\n",
       "      <th>ROUNDTRIP</th>\n",
       "      <th>PASSENGERS</th>\n",
       "    </tr>\n",
       "  </thead>\n",
       "  <tbody>\n",
       "    <tr>\n",
       "      <th>count</th>\n",
       "      <td>1.167285e+06</td>\n",
       "      <td>1167285.0</td>\n",
       "      <td>1167285.0</td>\n",
       "      <td>1.167285e+06</td>\n",
       "      <td>1.165308e+06</td>\n",
       "    </tr>\n",
       "    <tr>\n",
       "      <th>mean</th>\n",
       "      <td>1.715602e+11</td>\n",
       "      <td>2019.0</td>\n",
       "      <td>1.0</td>\n",
       "      <td>6.070497e-01</td>\n",
       "      <td>2.070102e+00</td>\n",
       "    </tr>\n",
       "    <tr>\n",
       "      <th>std</th>\n",
       "      <td>6.834957e+10</td>\n",
       "      <td>0.0</td>\n",
       "      <td>0.0</td>\n",
       "      <td>4.884062e-01</td>\n",
       "      <td>5.840215e+00</td>\n",
       "    </tr>\n",
       "    <tr>\n",
       "      <th>min</th>\n",
       "      <td>2.019120e+05</td>\n",
       "      <td>2019.0</td>\n",
       "      <td>1.0</td>\n",
       "      <td>0.000000e+00</td>\n",
       "      <td>1.000000e+00</td>\n",
       "    </tr>\n",
       "    <tr>\n",
       "      <th>25%</th>\n",
       "      <td>2.019115e+11</td>\n",
       "      <td>2019.0</td>\n",
       "      <td>1.0</td>\n",
       "      <td>0.000000e+00</td>\n",
       "      <td>1.000000e+00</td>\n",
       "    </tr>\n",
       "    <tr>\n",
       "      <th>50%</th>\n",
       "      <td>2.019128e+11</td>\n",
       "      <td>2019.0</td>\n",
       "      <td>1.0</td>\n",
       "      <td>1.000000e+00</td>\n",
       "      <td>1.000000e+00</td>\n",
       "    </tr>\n",
       "    <tr>\n",
       "      <th>75%</th>\n",
       "      <td>2.019140e+11</td>\n",
       "      <td>2019.0</td>\n",
       "      <td>1.0</td>\n",
       "      <td>1.000000e+00</td>\n",
       "      <td>1.000000e+00</td>\n",
       "    </tr>\n",
       "    <tr>\n",
       "      <th>max</th>\n",
       "      <td>2.019153e+11</td>\n",
       "      <td>2019.0</td>\n",
       "      <td>1.0</td>\n",
       "      <td>1.000000e+00</td>\n",
       "      <td>7.690000e+02</td>\n",
       "    </tr>\n",
       "  </tbody>\n",
       "</table>\n",
       "</div>"
      ],
      "text/plain": [
       "            ITIN_ID       YEAR    QUARTER     ROUNDTRIP    PASSENGERS\n",
       "count  1.167285e+06  1167285.0  1167285.0  1.167285e+06  1.165308e+06\n",
       "mean   1.715602e+11     2019.0        1.0  6.070497e-01  2.070102e+00\n",
       "std    6.834957e+10        0.0        0.0  4.884062e-01  5.840215e+00\n",
       "min    2.019120e+05     2019.0        1.0  0.000000e+00  1.000000e+00\n",
       "25%    2.019115e+11     2019.0        1.0  0.000000e+00  1.000000e+00\n",
       "50%    2.019128e+11     2019.0        1.0  1.000000e+00  1.000000e+00\n",
       "75%    2.019140e+11     2019.0        1.0  1.000000e+00  1.000000e+00\n",
       "max    2.019153e+11     2019.0        1.0  1.000000e+00  7.690000e+02"
      ]
     },
     "execution_count": 54,
     "metadata": {},
     "output_type": "execute_result"
    }
   ],
   "source": [
    "# check summary statistics to understand redundant columns\n",
    "tickets.describe()"
   ]
  },
  {
   "cell_type": "markdown",
   "id": "037ac205",
   "metadata": {},
   "source": [
    "It is clear that : \n",
    "\n",
    "Year only has one value - 2019\n",
    "\n",
    "Quarter only has one value - 1"
   ]
  },
  {
   "cell_type": "code",
   "execution_count": 55,
   "id": "d7a98869",
   "metadata": {},
   "outputs": [],
   "source": [
    "# we can remove all non-round trips as we are only going to consider the round trips in our analysis. \n",
    "tickets= tickets[tickets['ROUNDTRIP']==1]"
   ]
  },
  {
   "cell_type": "code",
   "execution_count": 56,
   "id": "4df3fb1f",
   "metadata": {},
   "outputs": [],
   "source": [
    "# we can remove columns like YEAR, QUARTER, ORIGIN_COUNTRY,ROUNDTRIP as they do not provide any insight\n",
    "tickets = tickets.drop(['YEAR','QUARTER','ORIGIN_COUNTRY','ROUNDTRIP'],axis =1)"
   ]
  },
  {
   "cell_type": "code",
   "execution_count": 57,
   "id": "94fd589a",
   "metadata": {},
   "outputs": [
    {
     "data": {
      "text/html": [
       "<div>\n",
       "<style scoped>\n",
       "    .dataframe tbody tr th:only-of-type {\n",
       "        vertical-align: middle;\n",
       "    }\n",
       "\n",
       "    .dataframe tbody tr th {\n",
       "        vertical-align: top;\n",
       "    }\n",
       "\n",
       "    .dataframe thead th {\n",
       "        text-align: right;\n",
       "    }\n",
       "</style>\n",
       "<table border=\"1\" class=\"dataframe\">\n",
       "  <thead>\n",
       "    <tr style=\"text-align: right;\">\n",
       "      <th></th>\n",
       "      <th>ITIN_ID</th>\n",
       "      <th>ORIGIN</th>\n",
       "      <th>ORIGIN_STATE_ABR</th>\n",
       "      <th>ORIGIN_STATE_NM</th>\n",
       "      <th>REPORTING_CARRIER</th>\n",
       "      <th>PASSENGERS</th>\n",
       "      <th>ITIN_FARE</th>\n",
       "      <th>DESTINATION</th>\n",
       "    </tr>\n",
       "  </thead>\n",
       "  <tbody>\n",
       "    <tr>\n",
       "      <th>0</th>\n",
       "      <td>201912723049</td>\n",
       "      <td>ABI</td>\n",
       "      <td>TX</td>\n",
       "      <td>Texas</td>\n",
       "      <td>MQ</td>\n",
       "      <td>1.0</td>\n",
       "      <td>736.0</td>\n",
       "      <td>DAB</td>\n",
       "    </tr>\n",
       "    <tr>\n",
       "      <th>1</th>\n",
       "      <td>201912723085</td>\n",
       "      <td>ABI</td>\n",
       "      <td>TX</td>\n",
       "      <td>Texas</td>\n",
       "      <td>MQ</td>\n",
       "      <td>1.0</td>\n",
       "      <td>570.0</td>\n",
       "      <td>COS</td>\n",
       "    </tr>\n",
       "    <tr>\n",
       "      <th>2</th>\n",
       "      <td>201912723491</td>\n",
       "      <td>ABI</td>\n",
       "      <td>TX</td>\n",
       "      <td>Texas</td>\n",
       "      <td>MQ</td>\n",
       "      <td>1.0</td>\n",
       "      <td>564.0</td>\n",
       "      <td>MCO</td>\n",
       "    </tr>\n",
       "    <tr>\n",
       "      <th>3</th>\n",
       "      <td>201912723428</td>\n",
       "      <td>ABI</td>\n",
       "      <td>TX</td>\n",
       "      <td>Texas</td>\n",
       "      <td>MQ</td>\n",
       "      <td>1.0</td>\n",
       "      <td>345.0</td>\n",
       "      <td>LGA</td>\n",
       "    </tr>\n",
       "    <tr>\n",
       "      <th>10</th>\n",
       "      <td>201912723337</td>\n",
       "      <td>ABI</td>\n",
       "      <td>TX</td>\n",
       "      <td>Texas</td>\n",
       "      <td>MQ</td>\n",
       "      <td>1.0</td>\n",
       "      <td>1647.0</td>\n",
       "      <td>JAX</td>\n",
       "    </tr>\n",
       "  </tbody>\n",
       "</table>\n",
       "</div>"
      ],
      "text/plain": [
       "         ITIN_ID ORIGIN ORIGIN_STATE_ABR ORIGIN_STATE_NM REPORTING_CARRIER  \\\n",
       "0   201912723049    ABI               TX           Texas                MQ   \n",
       "1   201912723085    ABI               TX           Texas                MQ   \n",
       "2   201912723491    ABI               TX           Texas                MQ   \n",
       "3   201912723428    ABI               TX           Texas                MQ   \n",
       "10  201912723337    ABI               TX           Texas                MQ   \n",
       "\n",
       "    PASSENGERS ITIN_FARE DESTINATION  \n",
       "0          1.0     736.0         DAB  \n",
       "1          1.0     570.0         COS  \n",
       "2          1.0     564.0         MCO  \n",
       "3          1.0     345.0         LGA  \n",
       "10         1.0    1647.0         JAX  "
      ]
     },
     "execution_count": 57,
     "metadata": {},
     "output_type": "execute_result"
    }
   ],
   "source": [
    "tickets.head()"
   ]
  },
  {
   "cell_type": "code",
   "execution_count": 58,
   "id": "0bf3d358",
   "metadata": {},
   "outputs": [
    {
     "data": {
      "text/plain": [
       "ITIN_ID                 0\n",
       "ORIGIN                  0\n",
       "ORIGIN_STATE_ABR        0\n",
       "ORIGIN_STATE_NM         0\n",
       "REPORTING_CARRIER       0\n",
       "PASSENGERS           1197\n",
       "ITIN_FARE             560\n",
       "DESTINATION             0\n",
       "dtype: int64"
      ]
     },
     "execution_count": 58,
     "metadata": {},
     "output_type": "execute_result"
    }
   ],
   "source": [
    "#check for null values\n",
    "tickets.isnull().sum()"
   ]
  },
  {
   "cell_type": "code",
   "execution_count": 59,
   "id": "3795eff7",
   "metadata": {},
   "outputs": [],
   "source": [
    "# we can drop the rows with nulll values since we need to be able to calculate the profit for each route based on the\n",
    "# fares for each passenger\n",
    "# We cannot assume or fill these values since the customers might have discounts or deals.\n",
    "# Additionally the number of records we will loose is around 1700 which is unlikely to significantly impact the overall dataset.\n",
    "tickets = tickets.dropna()"
   ]
  },
  {
   "cell_type": "code",
   "execution_count": 60,
   "id": "be0367c5",
   "metadata": {},
   "outputs": [],
   "source": [
    "# now change data type of passengers\n",
    "tickets['PASSENGERS'] = tickets['PASSENGERS'].round().astype(int)"
   ]
  },
  {
   "cell_type": "code",
   "execution_count": 61,
   "id": "21cfd046",
   "metadata": {},
   "outputs": [
    {
     "data": {
      "text/plain": [
       "ITIN_ID              0\n",
       "ORIGIN               0\n",
       "ORIGIN_STATE_ABR     0\n",
       "ORIGIN_STATE_NM      0\n",
       "REPORTING_CARRIER    0\n",
       "PASSENGERS           0\n",
       "ITIN_FARE            0\n",
       "DESTINATION          0\n",
       "dtype: int64"
      ]
     },
     "execution_count": 61,
     "metadata": {},
     "output_type": "execute_result"
    }
   ],
   "source": [
    "# recheck for null values. \n",
    "tickets.isnull().sum()"
   ]
  },
  {
   "cell_type": "code",
   "execution_count": 62,
   "id": "a971c14a",
   "metadata": {},
   "outputs": [
    {
     "data": {
      "text/plain": [
       "ITIN_ID               int64\n",
       "ORIGIN               object\n",
       "ORIGIN_STATE_ABR     object\n",
       "ORIGIN_STATE_NM      object\n",
       "REPORTING_CARRIER    object\n",
       "PASSENGERS            int32\n",
       "ITIN_FARE            object\n",
       "DESTINATION          object\n",
       "dtype: object"
      ]
     },
     "execution_count": 62,
     "metadata": {},
     "output_type": "execute_result"
    }
   ],
   "source": [
    "tickets.dtypes"
   ]
  },
  {
   "cell_type": "code",
   "execution_count": 63,
   "id": "3b528a33",
   "metadata": {},
   "outputs": [],
   "source": [
    "# find the values in ITIN_FARE which includes strings.\n",
    "strings_in_fare = tickets['ITIN_FARE'].apply(lambda x: isinstance(x, str)and not x.replace('.', '', 1).isdigit())"
   ]
  },
  {
   "cell_type": "code",
   "execution_count": 64,
   "id": "ad84eaec",
   "metadata": {},
   "outputs": [
    {
     "data": {
      "text/plain": [
       "['820$$$', '200 $', '$ 100.00']"
      ]
     },
     "execution_count": 64,
     "metadata": {},
     "output_type": "execute_result"
    }
   ],
   "source": [
    "tickets[strings_in_fare]['ITIN_FARE'].unique()\n",
    "# most of these values can be coerced into a numric data type but the values 'Hundered','Twenty' and '****' cannot be coerced\n",
    "non_numeric_string = tickets[strings_in_fare]['ITIN_FARE'].unique().tolist()\n",
    "non_numeric_string"
   ]
  },
  {
   "cell_type": "code",
   "execution_count": 65,
   "id": "b9a66f9b",
   "metadata": {},
   "outputs": [
    {
     "name": "stderr",
     "output_type": "stream",
     "text": [
      "C:\\Users\\sirid\\AppData\\Local\\Temp/ipykernel_9000/2261538787.py:2: FutureWarning: The default value of regex will change from True to False in a future version. In addition, single character regular expressions will *not* be treated as literal strings when regex=True.\n",
      "  tickets['ITIN_FARE'] = tickets['ITIN_FARE'].str.replace('$', '').str.strip().astype(float)\n"
     ]
    }
   ],
   "source": [
    "# change the data types\n",
    "tickets['ITIN_FARE'] = tickets['ITIN_FARE'].str.replace('$', '').str.strip().astype(float)"
   ]
  },
  {
   "cell_type": "code",
   "execution_count": 66,
   "id": "c748eee3",
   "metadata": {
    "scrolled": true
   },
   "outputs": [
    {
     "data": {
      "text/plain": [
       "[Text(0.5, 1.0, 'Boxplot on passengers column')]"
      ]
     },
     "execution_count": 66,
     "metadata": {},
     "output_type": "execute_result"
    },
    {
     "data": {
      "image/png": "[encoded data removed]",
      "text/plain": [
       "<Figure size 432x288 with 1 Axes>"
      ]
     },
     "metadata": {
      "needs_background": "light"
     },
     "output_type": "display_data"
    }
   ],
   "source": [
    "# generate a box plot to see the outliers in passengers column\n",
    "sns.boxplot(data = tickets,x = 'PASSENGERS').set(title='Boxplot on passengers column')"
   ]
  },
  {
   "cell_type": "code",
   "execution_count": 67,
   "id": "94174c9a",
   "metadata": {},
   "outputs": [],
   "source": [
    "# since a plane can only fit 200 passengers let us assume that the maximum nomber of people on an itenary can be 200(if they book the entire flight)\n",
    "tickets = tickets[tickets['PASSENGERS']<200]"
   ]
  },
  {
   "cell_type": "code",
   "execution_count": 68,
   "id": "8be0bdd0",
   "metadata": {},
   "outputs": [
    {
     "data": {
      "text/plain": [
       "[Text(0.5, 1.0, 'Boxplot on passengers column')]"
      ]
     },
     "execution_count": 68,
     "metadata": {},
     "output_type": "execute_result"
    },
    {
     "data": {
      "image/png": "[encoded data removed]",
      "text/plain": [
       "<Figure size 432x288 with 1 Axes>"
      ]
     },
     "metadata": {
      "needs_background": "light"
     },
     "output_type": "display_data"
    }
   ],
   "source": [
    "# recheck for outliers\n",
    "sns.boxplot(data = tickets,x = 'PASSENGERS').set(title='Boxplot on passengers column')"
   ]
  },
  {
   "cell_type": "code",
   "execution_count": 69,
   "id": "4af64668",
   "metadata": {},
   "outputs": [
    {
     "data": {
      "text/plain": [
       "(706799, 8)"
      ]
     },
     "execution_count": 69,
     "metadata": {},
     "output_type": "execute_result"
    }
   ],
   "source": [
    "# check the shape of the cleaned data frame\n",
    "tickets.shape"
   ]
  },
  {
   "cell_type": "code",
   "execution_count": 70,
   "id": "d705604d",
   "metadata": {},
   "outputs": [],
   "source": [
    "# finding the 1st quartile\n",
    "ITIN_FARE_q1 = np.quantile(tickets['ITIN_FARE'], 0.25)\n",
    " \n",
    "# finding the 3rd quartile\n",
    "ITIN_FARE_q3 = np.quantile(tickets['ITIN_FARE'], 0.75)\n",
    "ITIN_FARE_med = np.median(tickets['ITIN_FARE'])\n",
    " \n",
    "# finding the iqr region\n",
    "iqr = ITIN_FARE_q3-ITIN_FARE_q1\n",
    " \n",
    "# finding upper and lower whiskers\n",
    "upper_bound = ITIN_FARE_q3+(1.5*iqr)\n",
    "lower_bound = ITIN_FARE_q1-(1.5*iqr)"
   ]
  },
  {
   "cell_type": "code",
   "execution_count": 71,
   "id": "d85d471f",
   "metadata": {},
   "outputs": [],
   "source": [
    "tickets = tickets[tickets['ITIN_FARE']<upper_bound]\n",
    "tickets = tickets[tickets['ITIN_FARE']>lower_bound]"
   ]
  },
  {
   "cell_type": "code",
   "execution_count": 72,
   "id": "2b9ec90c",
   "metadata": {
    "scrolled": true
   },
   "outputs": [
    {
     "data": {
      "text/plain": [
       "[Text(0.5, 1.0, 'Boxplot on fare to understand the distribution')]"
      ]
     },
     "execution_count": 72,
     "metadata": {},
     "output_type": "execute_result"
    },
    {
     "data": {
      "image/png": "[encoded data removed]",
      "text/plain": [
       "<Figure size 432x288 with 1 Axes>"
      ]
     },
     "metadata": {
      "needs_background": "light"
     },
     "output_type": "display_data"
    }
   ],
   "source": [
    "# check itenary fare for outliers \n",
    "sns.boxplot(data = tickets,x = 'ITIN_FARE').set(title='Boxplot on fare to understand the distribution')"
   ]
  },
  {
   "cell_type": "markdown",
   "id": "8f985d60",
   "metadata": {},
   "source": [
    "There are outliers but we do not know if the value around $ 40,000 is completely wrong. It might be a last minute purchase. "
   ]
  },
  {
   "cell_type": "code",
   "execution_count": 73,
   "id": "ab019def",
   "metadata": {},
   "outputs": [
    {
     "name": "stdout",
     "output_type": "stream",
     "text": [
      "Shape of tickets data frame (676148, 8)\n"
     ]
    }
   ],
   "source": [
    "print(\"Shape of tickets data frame\",tickets.shape)"
   ]
  },
  {
   "cell_type": "code",
   "execution_count": 74,
   "id": "20582ded",
   "metadata": {},
   "outputs": [
    {
     "data": {
      "text/html": [
       "<div>\n",
       "<style scoped>\n",
       "    .dataframe tbody tr th:only-of-type {\n",
       "        vertical-align: middle;\n",
       "    }\n",
       "\n",
       "    .dataframe tbody tr th {\n",
       "        vertical-align: top;\n",
       "    }\n",
       "\n",
       "    .dataframe thead th {\n",
       "        text-align: right;\n",
       "    }\n",
       "</style>\n",
       "<table border=\"1\" class=\"dataframe\">\n",
       "  <thead>\n",
       "    <tr style=\"text-align: right;\">\n",
       "      <th></th>\n",
       "      <th>ITIN_ID</th>\n",
       "      <th>ORIGIN</th>\n",
       "      <th>ORIGIN_STATE_ABR</th>\n",
       "      <th>ORIGIN_STATE_NM</th>\n",
       "      <th>REPORTING_CARRIER</th>\n",
       "      <th>PASSENGERS</th>\n",
       "      <th>ITIN_FARE</th>\n",
       "      <th>DESTINATION</th>\n",
       "    </tr>\n",
       "  </thead>\n",
       "  <tbody>\n",
       "    <tr>\n",
       "      <th>0</th>\n",
       "      <td>201912723049</td>\n",
       "      <td>ABI</td>\n",
       "      <td>TX</td>\n",
       "      <td>Texas</td>\n",
       "      <td>MQ</td>\n",
       "      <td>1</td>\n",
       "      <td>736.0</td>\n",
       "      <td>DAB</td>\n",
       "    </tr>\n",
       "    <tr>\n",
       "      <th>1</th>\n",
       "      <td>201912723085</td>\n",
       "      <td>ABI</td>\n",
       "      <td>TX</td>\n",
       "      <td>Texas</td>\n",
       "      <td>MQ</td>\n",
       "      <td>1</td>\n",
       "      <td>570.0</td>\n",
       "      <td>COS</td>\n",
       "    </tr>\n",
       "    <tr>\n",
       "      <th>2</th>\n",
       "      <td>201912723491</td>\n",
       "      <td>ABI</td>\n",
       "      <td>TX</td>\n",
       "      <td>Texas</td>\n",
       "      <td>MQ</td>\n",
       "      <td>1</td>\n",
       "      <td>564.0</td>\n",
       "      <td>MCO</td>\n",
       "    </tr>\n",
       "    <tr>\n",
       "      <th>3</th>\n",
       "      <td>201912723428</td>\n",
       "      <td>ABI</td>\n",
       "      <td>TX</td>\n",
       "      <td>Texas</td>\n",
       "      <td>MQ</td>\n",
       "      <td>1</td>\n",
       "      <td>345.0</td>\n",
       "      <td>LGA</td>\n",
       "    </tr>\n",
       "    <tr>\n",
       "      <th>11</th>\n",
       "      <td>201912723447</td>\n",
       "      <td>ABI</td>\n",
       "      <td>TX</td>\n",
       "      <td>Texas</td>\n",
       "      <td>MQ</td>\n",
       "      <td>1</td>\n",
       "      <td>425.0</td>\n",
       "      <td>LIT</td>\n",
       "    </tr>\n",
       "  </tbody>\n",
       "</table>\n",
       "</div>"
      ],
      "text/plain": [
       "         ITIN_ID ORIGIN ORIGIN_STATE_ABR ORIGIN_STATE_NM REPORTING_CARRIER  \\\n",
       "0   201912723049    ABI               TX           Texas                MQ   \n",
       "1   201912723085    ABI               TX           Texas                MQ   \n",
       "2   201912723491    ABI               TX           Texas                MQ   \n",
       "3   201912723428    ABI               TX           Texas                MQ   \n",
       "11  201912723447    ABI               TX           Texas                MQ   \n",
       "\n",
       "    PASSENGERS  ITIN_FARE DESTINATION  \n",
       "0            1      736.0         DAB  \n",
       "1            1      570.0         COS  \n",
       "2            1      564.0         MCO  \n",
       "3            1      345.0         LGA  \n",
       "11           1      425.0         LIT  "
      ]
     },
     "execution_count": 74,
     "metadata": {},
     "output_type": "execute_result"
    }
   ],
   "source": [
    "# check the tickets data frame\n",
    "tickets.head()"
   ]
  },
  {
   "cell_type": "code",
   "execution_count": 75,
   "id": "a4ff2c83",
   "metadata": {},
   "outputs": [],
   "source": [
    "# create a data frame with the counts grouped by origin for visualisations\n",
    "origin_df = pd.DataFrame({'ORIGIN':pd.value_counts(flights['ORIGIN']).index, 'counts':pd.value_counts(flights['ORIGIN']).values})"
   ]
  },
  {
   "cell_type": "code",
   "execution_count": 76,
   "id": "4e4a1b7e",
   "metadata": {},
   "outputs": [
    {
     "data": {
      "text/plain": [
       "[Text(0.5, 1.0, 'The number of tickets from each airport')]"
      ]
     },
     "execution_count": 76,
     "metadata": {},
     "output_type": "execute_result"
    },
    {
     "data": {
      "image/png": "[encoded data removed]",
      "text/plain": [
       "<Figure size 432x288 with 1 Axes>"
      ]
     },
     "metadata": {
      "needs_background": "light"
     },
     "output_type": "display_data"
    }
   ],
   "source": [
    "# generate a plot to show the airport where most tickets started\n",
    "sns.barplot(data = origin_df[:10], x='ORIGIN',y = 'counts',palette = 'summer').set(title='The number of tickets from each airport')"
   ]
  },
  {
   "cell_type": "markdown",
   "id": "2709bc99",
   "metadata": {},
   "source": [
    "From the visualisation most tickets are from Dallas and Chicago"
   ]
  },
  {
   "cell_type": "code",
   "execution_count": 77,
   "id": "5fc7a025",
   "metadata": {},
   "outputs": [],
   "source": [
    "# create a data frame with the counts grouped by origin for visualisations\n",
    "origin_df = pd.DataFrame({'DESTINATION':pd.value_counts(flights['DESTINATION']).index, 'counts':pd.value_counts(flights['DESTINATION']).values})"
   ]
  },
  {
   "cell_type": "code",
   "execution_count": 78,
   "id": "2ed00df9",
   "metadata": {},
   "outputs": [
    {
     "data": {
      "text/plain": [
       "[Text(0.5, 1.0, 'The number of tickets to each airport')]"
      ]
     },
     "execution_count": 78,
     "metadata": {},
     "output_type": "execute_result"
    },
    {
     "data": {
      "image/png": "[encoded data removed]",
      "text/plain": [
       "<Figure size 432x288 with 1 Axes>"
      ]
     },
     "metadata": {
      "needs_background": "light"
     },
     "output_type": "display_data"
    }
   ],
   "source": [
    "# generate a plot to show the airport where most tickets started\n",
    "sns.barplot(data = origin_df[:10], x='DESTINATION',y = 'counts',palette = 'summer').set(title='The number of tickets to each airport')"
   ]
  },
  {
   "cell_type": "markdown",
   "id": "286a1e0a",
   "metadata": {},
   "source": [
    "# Data Munging"
   ]
  },
  {
   "cell_type": "markdown",
   "id": "e0e5fb33",
   "metadata": {},
   "source": [
    "Data munging is joining that data to form a truth table. "
   ]
  },
  {
   "cell_type": "code",
   "execution_count": 79,
   "id": "a5becfb1",
   "metadata": {},
   "outputs": [],
   "source": [
    "# Merge the flights and airports tables on ORIGIN \n",
    "merged_df = pd.merge(flights, airports, how='inner', left_on='ORIGIN', right_on='IATA_CODE')\n",
    "merged_df = merged_df.rename(columns={\n",
    "    'NAME': 'ORIGIN_AIRPORT_NAME', \n",
    "    'TYPE': 'ORIGIN_AIRPORT_TYPE'\n",
    "}).drop(['IATA_CODE'], axis=1)\n",
    "\n",
    "# Merge the resulting DataFrame with airports DataFrame again for destination airport details\n",
    "merged_df = pd.merge(merged_df, airports, how='inner', left_on='DESTINATION', right_on='IATA_CODE')\n",
    "merged_df = merged_df.rename(columns={\n",
    "    'NAME': 'DEST_AIRPORT_NAME', \n",
    "    'TYPE': 'DEST_AIRPORT_TYPE'\n",
    "}).drop(['IATA_CODE'], axis=1)"
   ]
  },
  {
   "cell_type": "code",
   "execution_count": 80,
   "id": "c110009c",
   "metadata": {},
   "outputs": [
    {
     "data": {
      "text/plain": [
       "Index(['ORIGIN', 'DESTINATION', 'DISTANCE', 'DEP_DELAY', 'ARR_DELAY',\n",
       "       'OCCUPANCY_RATE', 'num_flights', 'ORIGIN_AIRPORT_TYPE',\n",
       "       'ORIGIN_AIRPORT_NAME', 'COORDINATES_x', 'DEST_AIRPORT_TYPE',\n",
       "       'DEST_AIRPORT_NAME', 'COORDINATES_y'],\n",
       "      dtype='object')"
      ]
     },
     "execution_count": 80,
     "metadata": {},
     "output_type": "execute_result"
    }
   ],
   "source": [
    "merged_df.columns"
   ]
  },
  {
   "cell_type": "code",
   "execution_count": 81,
   "id": "dd38249a",
   "metadata": {},
   "outputs": [],
   "source": [
    "# Select the desired columns\n",
    "selected_columns = [\n",
    "    'ORIGIN', 'DESTINATION','num_flights', 'DISTANCE', 'DEP_DELAY',\n",
    "       'ARR_DELAY', 'OCCUPANCY_RATE', 'ORIGIN_AIRPORT_TYPE',\n",
    "       'ORIGIN_AIRPORT_NAME', 'COORDINATES_x','DEST_AIRPORT_TYPE',\n",
    "       'DEST_AIRPORT_NAME','COORDINATES_y'\n",
    "]\n",
    "\n",
    "merged_flights_airports = merged_df[selected_columns]"
   ]
  },
  {
   "cell_type": "code",
   "execution_count": 82,
   "id": "f3bec35c",
   "metadata": {},
   "outputs": [
    {
     "data": {
      "text/html": [
       "<div>\n",
       "<style scoped>\n",
       "    .dataframe tbody tr th:only-of-type {\n",
       "        vertical-align: middle;\n",
       "    }\n",
       "\n",
       "    .dataframe tbody tr th {\n",
       "        vertical-align: top;\n",
       "    }\n",
       "\n",
       "    .dataframe thead th {\n",
       "        text-align: right;\n",
       "    }\n",
       "</style>\n",
       "<table border=\"1\" class=\"dataframe\">\n",
       "  <thead>\n",
       "    <tr style=\"text-align: right;\">\n",
       "      <th></th>\n",
       "      <th>ORIGIN</th>\n",
       "      <th>DESTINATION</th>\n",
       "      <th>num_flights</th>\n",
       "      <th>DISTANCE</th>\n",
       "      <th>DEP_DELAY</th>\n",
       "      <th>ARR_DELAY</th>\n",
       "      <th>OCCUPANCY_RATE</th>\n",
       "      <th>ORIGIN_AIRPORT_TYPE</th>\n",
       "      <th>ORIGIN_AIRPORT_NAME</th>\n",
       "      <th>COORDINATES_x</th>\n",
       "      <th>DEST_AIRPORT_TYPE</th>\n",
       "      <th>DEST_AIRPORT_NAME</th>\n",
       "      <th>COORDINATES_y</th>\n",
       "    </tr>\n",
       "  </thead>\n",
       "  <tbody>\n",
       "    <tr>\n",
       "      <th>0</th>\n",
       "      <td>ABE</td>\n",
       "      <td>ATL</td>\n",
       "      <td>185</td>\n",
       "      <td>692</td>\n",
       "      <td>-1.800000</td>\n",
       "      <td>-7.162162</td>\n",
       "      <td>0.638432</td>\n",
       "      <td>medium_airport</td>\n",
       "      <td>Lehigh Valley International Airport</td>\n",
       "      <td>-75.44080352783203, 40.652099609375</td>\n",
       "      <td>large_airport</td>\n",
       "      <td>Hartsfield Jackson Atlanta International Airport</td>\n",
       "      <td>-84.428101, 33.6367</td>\n",
       "    </tr>\n",
       "    <tr>\n",
       "      <th>1</th>\n",
       "      <td>ABQ</td>\n",
       "      <td>ATL</td>\n",
       "      <td>156</td>\n",
       "      <td>1269</td>\n",
       "      <td>-1.217949</td>\n",
       "      <td>-12.544872</td>\n",
       "      <td>0.639551</td>\n",
       "      <td>large_airport</td>\n",
       "      <td>Albuquerque International Sunport</td>\n",
       "      <td>-106.609001, 35.040199</td>\n",
       "      <td>large_airport</td>\n",
       "      <td>Hartsfield Jackson Atlanta International Airport</td>\n",
       "      <td>-84.428101, 33.6367</td>\n",
       "    </tr>\n",
       "    <tr>\n",
       "      <th>2</th>\n",
       "      <td>ABY</td>\n",
       "      <td>ATL</td>\n",
       "      <td>224</td>\n",
       "      <td>145</td>\n",
       "      <td>-1.196429</td>\n",
       "      <td>-8.428571</td>\n",
       "      <td>0.654509</td>\n",
       "      <td>medium_airport</td>\n",
       "      <td>Southwest Georgia Regional Airport</td>\n",
       "      <td>-84.19450378417969, 31.535499572753906</td>\n",
       "      <td>large_airport</td>\n",
       "      <td>Hartsfield Jackson Atlanta International Airport</td>\n",
       "      <td>-84.428101, 33.6367</td>\n",
       "    </tr>\n",
       "    <tr>\n",
       "      <th>3</th>\n",
       "      <td>AEX</td>\n",
       "      <td>ATL</td>\n",
       "      <td>295</td>\n",
       "      <td>500</td>\n",
       "      <td>-5.152542</td>\n",
       "      <td>-13.738983</td>\n",
       "      <td>0.641525</td>\n",
       "      <td>medium_airport</td>\n",
       "      <td>Alexandria International Airport</td>\n",
       "      <td>-92.54979705810547, 31.32740020751953</td>\n",
       "      <td>large_airport</td>\n",
       "      <td>Hartsfield Jackson Atlanta International Airport</td>\n",
       "      <td>-84.428101, 33.6367</td>\n",
       "    </tr>\n",
       "    <tr>\n",
       "      <th>4</th>\n",
       "      <td>AGS</td>\n",
       "      <td>ATL</td>\n",
       "      <td>608</td>\n",
       "      <td>143</td>\n",
       "      <td>-4.136513</td>\n",
       "      <td>-12.828947</td>\n",
       "      <td>0.652961</td>\n",
       "      <td>large_airport</td>\n",
       "      <td>Augusta Regional At Bush Field</td>\n",
       "      <td>-81.9645004272461, 33.36989974975586</td>\n",
       "      <td>large_airport</td>\n",
       "      <td>Hartsfield Jackson Atlanta International Airport</td>\n",
       "      <td>-84.428101, 33.6367</td>\n",
       "    </tr>\n",
       "  </tbody>\n",
       "</table>\n",
       "</div>"
      ],
      "text/plain": [
       "  ORIGIN DESTINATION  num_flights  DISTANCE  DEP_DELAY  ARR_DELAY  \\\n",
       "0    ABE         ATL          185       692  -1.800000  -7.162162   \n",
       "1    ABQ         ATL          156      1269  -1.217949 -12.544872   \n",
       "2    ABY         ATL          224       145  -1.196429  -8.428571   \n",
       "3    AEX         ATL          295       500  -5.152542 -13.738983   \n",
       "4    AGS         ATL          608       143  -4.136513 -12.828947   \n",
       "\n",
       "   OCCUPANCY_RATE ORIGIN_AIRPORT_TYPE                  ORIGIN_AIRPORT_NAME  \\\n",
       "0        0.638432      medium_airport  Lehigh Valley International Airport   \n",
       "1        0.639551       large_airport    Albuquerque International Sunport   \n",
       "2        0.654509      medium_airport   Southwest Georgia Regional Airport   \n",
       "3        0.641525      medium_airport     Alexandria International Airport   \n",
       "4        0.652961       large_airport       Augusta Regional At Bush Field   \n",
       "\n",
       "                            COORDINATES_x DEST_AIRPORT_TYPE  \\\n",
       "0     -75.44080352783203, 40.652099609375     large_airport   \n",
       "1                  -106.609001, 35.040199     large_airport   \n",
       "2  -84.19450378417969, 31.535499572753906     large_airport   \n",
       "3   -92.54979705810547, 31.32740020751953     large_airport   \n",
       "4    -81.9645004272461, 33.36989974975586     large_airport   \n",
       "\n",
       "                                  DEST_AIRPORT_NAME        COORDINATES_y  \n",
       "0  Hartsfield Jackson Atlanta International Airport  -84.428101, 33.6367  \n",
       "1  Hartsfield Jackson Atlanta International Airport  -84.428101, 33.6367  \n",
       "2  Hartsfield Jackson Atlanta International Airport  -84.428101, 33.6367  \n",
       "3  Hartsfield Jackson Atlanta International Airport  -84.428101, 33.6367  \n",
       "4  Hartsfield Jackson Atlanta International Airport  -84.428101, 33.6367  "
      ]
     },
     "execution_count": 82,
     "metadata": {},
     "output_type": "execute_result"
    }
   ],
   "source": [
    "merged_flights_airports.head()"
   ]
  },
  {
   "cell_type": "code",
   "execution_count": 83,
   "id": "24a498b1",
   "metadata": {},
   "outputs": [
    {
     "data": {
      "text/plain": [
       "(5668, 13)"
      ]
     },
     "execution_count": 83,
     "metadata": {},
     "output_type": "execute_result"
    }
   ],
   "source": [
    "# check the merged data frame size\n",
    "merged_flights_airports.shape"
   ]
  },
  {
   "cell_type": "code",
   "execution_count": 84,
   "id": "bd441bfc",
   "metadata": {},
   "outputs": [],
   "source": [
    "final_merged_df = pd.merge(merged_flights_airports, tickets, left_on=['ORIGIN', 'DESTINATION'],\n",
    "                           right_on=['ORIGIN', 'DESTINATION'], how='inner')"
   ]
  },
  {
   "cell_type": "code",
   "execution_count": 85,
   "id": "ed605625",
   "metadata": {},
   "outputs": [],
   "source": [
    "# remove redundant column(these columns do not give us any insight)\n",
    "final_merged_df = final_merged_df.drop(['REPORTING_CARRIER','ORIGIN_STATE_ABR','ORIGIN_STATE_NM'],axis =1)"
   ]
  },
  {
   "cell_type": "code",
   "execution_count": 86,
   "id": "5fe91882",
   "metadata": {},
   "outputs": [
    {
     "data": {
      "text/html": [
       "<div>\n",
       "<style scoped>\n",
       "    .dataframe tbody tr th:only-of-type {\n",
       "        vertical-align: middle;\n",
       "    }\n",
       "\n",
       "    .dataframe tbody tr th {\n",
       "        vertical-align: top;\n",
       "    }\n",
       "\n",
       "    .dataframe thead th {\n",
       "        text-align: right;\n",
       "    }\n",
       "</style>\n",
       "<table border=\"1\" class=\"dataframe\">\n",
       "  <thead>\n",
       "    <tr style=\"text-align: right;\">\n",
       "      <th></th>\n",
       "      <th>0</th>\n",
       "      <th>1</th>\n",
       "      <th>2</th>\n",
       "      <th>3</th>\n",
       "      <th>4</th>\n",
       "    </tr>\n",
       "  </thead>\n",
       "  <tbody>\n",
       "    <tr>\n",
       "      <th>ORIGIN</th>\n",
       "      <td>ABE</td>\n",
       "      <td>ABE</td>\n",
       "      <td>ABE</td>\n",
       "      <td>ABE</td>\n",
       "      <td>ABE</td>\n",
       "    </tr>\n",
       "    <tr>\n",
       "      <th>DESTINATION</th>\n",
       "      <td>ATL</td>\n",
       "      <td>ATL</td>\n",
       "      <td>ATL</td>\n",
       "      <td>ATL</td>\n",
       "      <td>ATL</td>\n",
       "    </tr>\n",
       "    <tr>\n",
       "      <th>num_flights</th>\n",
       "      <td>185</td>\n",
       "      <td>185</td>\n",
       "      <td>185</td>\n",
       "      <td>185</td>\n",
       "      <td>185</td>\n",
       "    </tr>\n",
       "    <tr>\n",
       "      <th>DISTANCE</th>\n",
       "      <td>692</td>\n",
       "      <td>692</td>\n",
       "      <td>692</td>\n",
       "      <td>692</td>\n",
       "      <td>692</td>\n",
       "    </tr>\n",
       "    <tr>\n",
       "      <th>DEP_DELAY</th>\n",
       "      <td>-1.8</td>\n",
       "      <td>-1.8</td>\n",
       "      <td>-1.8</td>\n",
       "      <td>-1.8</td>\n",
       "      <td>-1.8</td>\n",
       "    </tr>\n",
       "    <tr>\n",
       "      <th>ARR_DELAY</th>\n",
       "      <td>-7.162162</td>\n",
       "      <td>-7.162162</td>\n",
       "      <td>-7.162162</td>\n",
       "      <td>-7.162162</td>\n",
       "      <td>-7.162162</td>\n",
       "    </tr>\n",
       "    <tr>\n",
       "      <th>OCCUPANCY_RATE</th>\n",
       "      <td>0.638432</td>\n",
       "      <td>0.638432</td>\n",
       "      <td>0.638432</td>\n",
       "      <td>0.638432</td>\n",
       "      <td>0.638432</td>\n",
       "    </tr>\n",
       "    <tr>\n",
       "      <th>ORIGIN_AIRPORT_TYPE</th>\n",
       "      <td>medium_airport</td>\n",
       "      <td>medium_airport</td>\n",
       "      <td>medium_airport</td>\n",
       "      <td>medium_airport</td>\n",
       "      <td>medium_airport</td>\n",
       "    </tr>\n",
       "    <tr>\n",
       "      <th>ORIGIN_AIRPORT_NAME</th>\n",
       "      <td>Lehigh Valley International Airport</td>\n",
       "      <td>Lehigh Valley International Airport</td>\n",
       "      <td>Lehigh Valley International Airport</td>\n",
       "      <td>Lehigh Valley International Airport</td>\n",
       "      <td>Lehigh Valley International Airport</td>\n",
       "    </tr>\n",
       "    <tr>\n",
       "      <th>COORDINATES_x</th>\n",
       "      <td>-75.44080352783203, 40.652099609375</td>\n",
       "      <td>-75.44080352783203, 40.652099609375</td>\n",
       "      <td>-75.44080352783203, 40.652099609375</td>\n",
       "      <td>-75.44080352783203, 40.652099609375</td>\n",
       "      <td>-75.44080352783203, 40.652099609375</td>\n",
       "    </tr>\n",
       "    <tr>\n",
       "      <th>DEST_AIRPORT_TYPE</th>\n",
       "      <td>large_airport</td>\n",
       "      <td>large_airport</td>\n",
       "      <td>large_airport</td>\n",
       "      <td>large_airport</td>\n",
       "      <td>large_airport</td>\n",
       "    </tr>\n",
       "    <tr>\n",
       "      <th>DEST_AIRPORT_NAME</th>\n",
       "      <td>Hartsfield Jackson Atlanta International Airport</td>\n",
       "      <td>Hartsfield Jackson Atlanta International Airport</td>\n",
       "      <td>Hartsfield Jackson Atlanta International Airport</td>\n",
       "      <td>Hartsfield Jackson Atlanta International Airport</td>\n",
       "      <td>Hartsfield Jackson Atlanta International Airport</td>\n",
       "    </tr>\n",
       "    <tr>\n",
       "      <th>COORDINATES_y</th>\n",
       "      <td>-84.428101, 33.6367</td>\n",
       "      <td>-84.428101, 33.6367</td>\n",
       "      <td>-84.428101, 33.6367</td>\n",
       "      <td>-84.428101, 33.6367</td>\n",
       "      <td>-84.428101, 33.6367</td>\n",
       "    </tr>\n",
       "    <tr>\n",
       "      <th>ITIN_ID</th>\n",
       "      <td>20191197</td>\n",
       "      <td>2019172</td>\n",
       "      <td>201911535774</td>\n",
       "      <td>2019166</td>\n",
       "      <td>201913100162</td>\n",
       "    </tr>\n",
       "    <tr>\n",
       "      <th>PASSENGERS</th>\n",
       "      <td>1</td>\n",
       "      <td>1</td>\n",
       "      <td>1</td>\n",
       "      <td>2</td>\n",
       "      <td>1</td>\n",
       "    </tr>\n",
       "    <tr>\n",
       "      <th>ITIN_FARE</th>\n",
       "      <td>495.0</td>\n",
       "      <td>680.0</td>\n",
       "      <td>656.0</td>\n",
       "      <td>628.0</td>\n",
       "      <td>366.0</td>\n",
       "    </tr>\n",
       "  </tbody>\n",
       "</table>\n",
       "</div>"
      ],
      "text/plain": [
       "                                                                    0  \\\n",
       "ORIGIN                                                            ABE   \n",
       "DESTINATION                                                       ATL   \n",
       "num_flights                                                       185   \n",
       "DISTANCE                                                          692   \n",
       "DEP_DELAY                                                        -1.8   \n",
       "ARR_DELAY                                                   -7.162162   \n",
       "OCCUPANCY_RATE                                               0.638432   \n",
       "ORIGIN_AIRPORT_TYPE                                    medium_airport   \n",
       "ORIGIN_AIRPORT_NAME               Lehigh Valley International Airport   \n",
       "COORDINATES_x                     -75.44080352783203, 40.652099609375   \n",
       "DEST_AIRPORT_TYPE                                       large_airport   \n",
       "DEST_AIRPORT_NAME    Hartsfield Jackson Atlanta International Airport   \n",
       "COORDINATES_y                                     -84.428101, 33.6367   \n",
       "ITIN_ID                                                      20191197   \n",
       "PASSENGERS                                                          1   \n",
       "ITIN_FARE                                                       495.0   \n",
       "\n",
       "                                                                    1  \\\n",
       "ORIGIN                                                            ABE   \n",
       "DESTINATION                                                       ATL   \n",
       "num_flights                                                       185   \n",
       "DISTANCE                                                          692   \n",
       "DEP_DELAY                                                        -1.8   \n",
       "ARR_DELAY                                                   -7.162162   \n",
       "OCCUPANCY_RATE                                               0.638432   \n",
       "ORIGIN_AIRPORT_TYPE                                    medium_airport   \n",
       "ORIGIN_AIRPORT_NAME               Lehigh Valley International Airport   \n",
       "COORDINATES_x                     -75.44080352783203, 40.652099609375   \n",
       "DEST_AIRPORT_TYPE                                       large_airport   \n",
       "DEST_AIRPORT_NAME    Hartsfield Jackson Atlanta International Airport   \n",
       "COORDINATES_y                                     -84.428101, 33.6367   \n",
       "ITIN_ID                                                       2019172   \n",
       "PASSENGERS                                                          1   \n",
       "ITIN_FARE                                                       680.0   \n",
       "\n",
       "                                                                    2  \\\n",
       "ORIGIN                                                            ABE   \n",
       "DESTINATION                                                       ATL   \n",
       "num_flights                                                       185   \n",
       "DISTANCE                                                          692   \n",
       "DEP_DELAY                                                        -1.8   \n",
       "ARR_DELAY                                                   -7.162162   \n",
       "OCCUPANCY_RATE                                               0.638432   \n",
       "ORIGIN_AIRPORT_TYPE                                    medium_airport   \n",
       "ORIGIN_AIRPORT_NAME               Lehigh Valley International Airport   \n",
       "COORDINATES_x                     -75.44080352783203, 40.652099609375   \n",
       "DEST_AIRPORT_TYPE                                       large_airport   \n",
       "DEST_AIRPORT_NAME    Hartsfield Jackson Atlanta International Airport   \n",
       "COORDINATES_y                                     -84.428101, 33.6367   \n",
       "ITIN_ID                                                  201911535774   \n",
       "PASSENGERS                                                          1   \n",
       "ITIN_FARE                                                       656.0   \n",
       "\n",
       "                                                                    3  \\\n",
       "ORIGIN                                                            ABE   \n",
       "DESTINATION                                                       ATL   \n",
       "num_flights                                                       185   \n",
       "DISTANCE                                                          692   \n",
       "DEP_DELAY                                                        -1.8   \n",
       "ARR_DELAY                                                   -7.162162   \n",
       "OCCUPANCY_RATE                                               0.638432   \n",
       "ORIGIN_AIRPORT_TYPE                                    medium_airport   \n",
       "ORIGIN_AIRPORT_NAME               Lehigh Valley International Airport   \n",
       "COORDINATES_x                     -75.44080352783203, 40.652099609375   \n",
       "DEST_AIRPORT_TYPE                                       large_airport   \n",
       "DEST_AIRPORT_NAME    Hartsfield Jackson Atlanta International Airport   \n",
       "COORDINATES_y                                     -84.428101, 33.6367   \n",
       "ITIN_ID                                                       2019166   \n",
       "PASSENGERS                                                          2   \n",
       "ITIN_FARE                                                       628.0   \n",
       "\n",
       "                                                                    4  \n",
       "ORIGIN                                                            ABE  \n",
       "DESTINATION                                                       ATL  \n",
       "num_flights                                                       185  \n",
       "DISTANCE                                                          692  \n",
       "DEP_DELAY                                                        -1.8  \n",
       "ARR_DELAY                                                   -7.162162  \n",
       "OCCUPANCY_RATE                                               0.638432  \n",
       "ORIGIN_AIRPORT_TYPE                                    medium_airport  \n",
       "ORIGIN_AIRPORT_NAME               Lehigh Valley International Airport  \n",
       "COORDINATES_x                     -75.44080352783203, 40.652099609375  \n",
       "DEST_AIRPORT_TYPE                                       large_airport  \n",
       "DEST_AIRPORT_NAME    Hartsfield Jackson Atlanta International Airport  \n",
       "COORDINATES_y                                     -84.428101, 33.6367  \n",
       "ITIN_ID                                                  201913100162  \n",
       "PASSENGERS                                                          1  \n",
       "ITIN_FARE                                                       366.0  "
      ]
     },
     "execution_count": 86,
     "metadata": {},
     "output_type": "execute_result"
    }
   ],
   "source": [
    "final_merged_df.head().T"
   ]
  },
  {
   "cell_type": "code",
   "execution_count": 87,
   "id": "b49e73ab",
   "metadata": {},
   "outputs": [
    {
     "name": "stdout",
     "output_type": "stream",
     "text": [
      "Merged dataset shape:  (445043, 16)\n"
     ]
    }
   ],
   "source": [
    "print(\"Merged dataset shape: \",final_merged_df.shape)"
   ]
  },
  {
   "cell_type": "markdown",
   "id": "11931fac",
   "metadata": {},
   "source": [
    "## Analysis:\n",
    "We have been asked to find insights for the following \n",
    "\n",
    "\n",
    "1. The 10 busiest round trip routes in terms of number of round trip flights in the quarter.\n",
    "Exclude canceled flights when performing the calculation.\n",
    "2. The 10 most profitable round trip routes (without considering the upfront airplane cost) in\n",
    "the quarter. Along with the profit, show total revenue, total cost, summary values of\n",
    "other key components and total round trip flights in the quarter for the top 10 most\n",
    "profitable routes. Exclude canceled flights from these calculations.\n",
    "3. The 5 round trip routes that you recommend to invest in based on any factors that you\n",
    "choose.\n",
    "\n",
    "4. The number of round trip flights it will take to breakeven on the upfront airplane cost for\n",
    "each of the 5 round trip routes that you recommend. Print key summary components for\n",
    "these routes.\n",
    "5. Key Performance Indicators (KPI’s) that you recommend tracking in the future to\n",
    "measure the success of the round trip routes that you recommend."
   ]
  },
  {
   "cell_type": "code",
   "execution_count": 88,
   "id": "1b918e52",
   "metadata": {},
   "outputs": [],
   "source": [
    "# create a origin-destination pair since we will only work on the routes and for ease of visualisation\n",
    "# For this analysis we are concerned with round trips: therefore we can consider JFK->LAX and LAX-> JFK as one round trip\n",
    "def create_route(row):\n",
    "    return '-'.join(sorted([row['ORIGIN'], row['DESTINATION']]))\n",
    "final_merged_df['trip_route'] = final_merged_df.apply(create_route,axis=1)"
   ]
  },
  {
   "cell_type": "code",
   "execution_count": 89,
   "id": "e18cee90",
   "metadata": {},
   "outputs": [
    {
     "data": {
      "text/plain": [
       "(445043, 17)"
      ]
     },
     "execution_count": 89,
     "metadata": {},
     "output_type": "execute_result"
    }
   ],
   "source": [
    "final_merged_df.shape"
   ]
  },
  {
   "cell_type": "markdown",
   "id": "aadc2f3d",
   "metadata": {},
   "source": [
    "### 1. The 10 busiest round trip routes \n",
    "Finding the routes where passengers tend to book round trip flights is a good idea when the company wants to enter the aviation industry. "
   ]
  },
  {
   "cell_type": "code",
   "execution_count": 90,
   "id": "9d8ecdb0",
   "metadata": {},
   "outputs": [
    {
     "data": {
      "text/html": [
       "<div>\n",
       "<style scoped>\n",
       "    .dataframe tbody tr th:only-of-type {\n",
       "        vertical-align: middle;\n",
       "    }\n",
       "\n",
       "    .dataframe tbody tr th {\n",
       "        vertical-align: top;\n",
       "    }\n",
       "\n",
       "    .dataframe thead th {\n",
       "        text-align: right;\n",
       "    }\n",
       "</style>\n",
       "<table border=\"1\" class=\"dataframe\">\n",
       "  <thead>\n",
       "    <tr style=\"text-align: right;\">\n",
       "      <th></th>\n",
       "      <th>ORIGIN</th>\n",
       "      <th>DESTINATION</th>\n",
       "      <th>num_flights</th>\n",
       "      <th>DISTANCE</th>\n",
       "      <th>DEP_DELAY</th>\n",
       "      <th>ARR_DELAY</th>\n",
       "      <th>OCCUPANCY_RATE</th>\n",
       "      <th>ORIGIN_AIRPORT_TYPE</th>\n",
       "      <th>ORIGIN_AIRPORT_NAME</th>\n",
       "      <th>COORDINATES_x</th>\n",
       "      <th>DEST_AIRPORT_TYPE</th>\n",
       "      <th>DEST_AIRPORT_NAME</th>\n",
       "      <th>COORDINATES_y</th>\n",
       "      <th>ITIN_ID</th>\n",
       "      <th>PASSENGERS</th>\n",
       "      <th>ITIN_FARE</th>\n",
       "      <th>trip_route</th>\n",
       "    </tr>\n",
       "  </thead>\n",
       "  <tbody>\n",
       "    <tr>\n",
       "      <th>0</th>\n",
       "      <td>ABE</td>\n",
       "      <td>ATL</td>\n",
       "      <td>185</td>\n",
       "      <td>692</td>\n",
       "      <td>-1.8</td>\n",
       "      <td>-7.162162</td>\n",
       "      <td>0.638432</td>\n",
       "      <td>medium_airport</td>\n",
       "      <td>Lehigh Valley International Airport</td>\n",
       "      <td>-75.44080352783203, 40.652099609375</td>\n",
       "      <td>large_airport</td>\n",
       "      <td>Hartsfield Jackson Atlanta International Airport</td>\n",
       "      <td>-84.428101, 33.6367</td>\n",
       "      <td>20191197</td>\n",
       "      <td>1</td>\n",
       "      <td>495.0</td>\n",
       "      <td>ABE-ATL</td>\n",
       "    </tr>\n",
       "    <tr>\n",
       "      <th>1</th>\n",
       "      <td>ABE</td>\n",
       "      <td>ATL</td>\n",
       "      <td>185</td>\n",
       "      <td>692</td>\n",
       "      <td>-1.8</td>\n",
       "      <td>-7.162162</td>\n",
       "      <td>0.638432</td>\n",
       "      <td>medium_airport</td>\n",
       "      <td>Lehigh Valley International Airport</td>\n",
       "      <td>-75.44080352783203, 40.652099609375</td>\n",
       "      <td>large_airport</td>\n",
       "      <td>Hartsfield Jackson Atlanta International Airport</td>\n",
       "      <td>-84.428101, 33.6367</td>\n",
       "      <td>2019172</td>\n",
       "      <td>1</td>\n",
       "      <td>680.0</td>\n",
       "      <td>ABE-ATL</td>\n",
       "    </tr>\n",
       "    <tr>\n",
       "      <th>2</th>\n",
       "      <td>ABE</td>\n",
       "      <td>ATL</td>\n",
       "      <td>185</td>\n",
       "      <td>692</td>\n",
       "      <td>-1.8</td>\n",
       "      <td>-7.162162</td>\n",
       "      <td>0.638432</td>\n",
       "      <td>medium_airport</td>\n",
       "      <td>Lehigh Valley International Airport</td>\n",
       "      <td>-75.44080352783203, 40.652099609375</td>\n",
       "      <td>large_airport</td>\n",
       "      <td>Hartsfield Jackson Atlanta International Airport</td>\n",
       "      <td>-84.428101, 33.6367</td>\n",
       "      <td>201911535774</td>\n",
       "      <td>1</td>\n",
       "      <td>656.0</td>\n",
       "      <td>ABE-ATL</td>\n",
       "    </tr>\n",
       "    <tr>\n",
       "      <th>3</th>\n",
       "      <td>ABE</td>\n",
       "      <td>ATL</td>\n",
       "      <td>185</td>\n",
       "      <td>692</td>\n",
       "      <td>-1.8</td>\n",
       "      <td>-7.162162</td>\n",
       "      <td>0.638432</td>\n",
       "      <td>medium_airport</td>\n",
       "      <td>Lehigh Valley International Airport</td>\n",
       "      <td>-75.44080352783203, 40.652099609375</td>\n",
       "      <td>large_airport</td>\n",
       "      <td>Hartsfield Jackson Atlanta International Airport</td>\n",
       "      <td>-84.428101, 33.6367</td>\n",
       "      <td>2019166</td>\n",
       "      <td>2</td>\n",
       "      <td>628.0</td>\n",
       "      <td>ABE-ATL</td>\n",
       "    </tr>\n",
       "    <tr>\n",
       "      <th>4</th>\n",
       "      <td>ABE</td>\n",
       "      <td>ATL</td>\n",
       "      <td>185</td>\n",
       "      <td>692</td>\n",
       "      <td>-1.8</td>\n",
       "      <td>-7.162162</td>\n",
       "      <td>0.638432</td>\n",
       "      <td>medium_airport</td>\n",
       "      <td>Lehigh Valley International Airport</td>\n",
       "      <td>-75.44080352783203, 40.652099609375</td>\n",
       "      <td>large_airport</td>\n",
       "      <td>Hartsfield Jackson Atlanta International Airport</td>\n",
       "      <td>-84.428101, 33.6367</td>\n",
       "      <td>201913100162</td>\n",
       "      <td>1</td>\n",
       "      <td>366.0</td>\n",
       "      <td>ABE-ATL</td>\n",
       "    </tr>\n",
       "  </tbody>\n",
       "</table>\n",
       "</div>"
      ],
      "text/plain": [
       "  ORIGIN DESTINATION  num_flights  DISTANCE  DEP_DELAY  ARR_DELAY  \\\n",
       "0    ABE         ATL          185       692       -1.8  -7.162162   \n",
       "1    ABE         ATL          185       692       -1.8  -7.162162   \n",
       "2    ABE         ATL          185       692       -1.8  -7.162162   \n",
       "3    ABE         ATL          185       692       -1.8  -7.162162   \n",
       "4    ABE         ATL          185       692       -1.8  -7.162162   \n",
       "\n",
       "   OCCUPANCY_RATE ORIGIN_AIRPORT_TYPE                  ORIGIN_AIRPORT_NAME  \\\n",
       "0        0.638432      medium_airport  Lehigh Valley International Airport   \n",
       "1        0.638432      medium_airport  Lehigh Valley International Airport   \n",
       "2        0.638432      medium_airport  Lehigh Valley International Airport   \n",
       "3        0.638432      medium_airport  Lehigh Valley International Airport   \n",
       "4        0.638432      medium_airport  Lehigh Valley International Airport   \n",
       "\n",
       "                         COORDINATES_x DEST_AIRPORT_TYPE  \\\n",
       "0  -75.44080352783203, 40.652099609375     large_airport   \n",
       "1  -75.44080352783203, 40.652099609375     large_airport   \n",
       "2  -75.44080352783203, 40.652099609375     large_airport   \n",
       "3  -75.44080352783203, 40.652099609375     large_airport   \n",
       "4  -75.44080352783203, 40.652099609375     large_airport   \n",
       "\n",
       "                                  DEST_AIRPORT_NAME        COORDINATES_y  \\\n",
       "0  Hartsfield Jackson Atlanta International Airport  -84.428101, 33.6367   \n",
       "1  Hartsfield Jackson Atlanta International Airport  -84.428101, 33.6367   \n",
       "2  Hartsfield Jackson Atlanta International Airport  -84.428101, 33.6367   \n",
       "3  Hartsfield Jackson Atlanta International Airport  -84.428101, 33.6367   \n",
       "4  Hartsfield Jackson Atlanta International Airport  -84.428101, 33.6367   \n",
       "\n",
       "        ITIN_ID  PASSENGERS  ITIN_FARE trip_route  \n",
       "0      20191197           1      495.0    ABE-ATL  \n",
       "1       2019172           1      680.0    ABE-ATL  \n",
       "2  201911535774           1      656.0    ABE-ATL  \n",
       "3       2019166           2      628.0    ABE-ATL  \n",
       "4  201913100162           1      366.0    ABE-ATL  "
      ]
     },
     "execution_count": 90,
     "metadata": {},
     "output_type": "execute_result"
    }
   ],
   "source": [
    "final_merged_df.head()"
   ]
  },
  {
   "cell_type": "code",
   "execution_count": 91,
   "id": "a765fdde",
   "metadata": {},
   "outputs": [],
   "source": [
    "# Group by origin and destination pairs, and count the number of passengers on these flights for each pair\n",
    "route_counts = final_merged_df.groupby(['trip_route'])['num_flights'].value_counts()"
   ]
  },
  {
   "cell_type": "code",
   "execution_count": 92,
   "id": "90e86d8e",
   "metadata": {},
   "outputs": [
    {
     "data": {
      "text/plain": [
       "trip_route  num_flights\n",
       "ABE-ATL     185            52\n",
       "            193            32\n",
       "ABE-CLT     221            26\n",
       "            231            11\n",
       "ABE-DTW     207            21\n",
       "                           ..\n",
       "SYR-TPA     23              9\n",
       "TPA-TTN     66             24\n",
       "            57             13\n",
       "VPS-XNA     8              15\n",
       "            10              4\n",
       "Name: num_flights, Length: 5399, dtype: int64"
      ]
     },
     "execution_count": 92,
     "metadata": {},
     "output_type": "execute_result"
    }
   ],
   "source": [
    "route_counts"
   ]
  },
  {
   "cell_type": "markdown",
   "id": "f4842d62",
   "metadata": {},
   "source": [
    "Here 185 is the total number of flights which flew from ABE to ATL in the first quarter of 2019 and 193 flights flew from from ATL to ABE in the same time frame. "
   ]
  },
  {
   "cell_type": "markdown",
   "id": "dfd33cdb",
   "metadata": {},
   "source": [
    "Here 52 represents the number of itenaries which have this origin and destination. For example there are 52 itenaries which have tickets booked from ABE to ATL. "
   ]
  },
  {
   "cell_type": "code",
   "execution_count": 93,
   "id": "063989e0",
   "metadata": {},
   "outputs": [],
   "source": [
    "route_counts_df = route_counts.reset_index(name='count_flights')"
   ]
  },
  {
   "cell_type": "code",
   "execution_count": 94,
   "id": "43e76a28",
   "metadata": {},
   "outputs": [],
   "source": [
    "# reset the index to name the count column\n",
    "route_counts = route_counts_df.groupby(['trip_route'])['num_flights'].sum().reset_index()"
   ]
  },
  {
   "cell_type": "code",
   "execution_count": 95,
   "id": "b5401e6a",
   "metadata": {},
   "outputs": [
    {
     "data": {
      "text/html": [
       "<div>\n",
       "<style scoped>\n",
       "    .dataframe tbody tr th:only-of-type {\n",
       "        vertical-align: middle;\n",
       "    }\n",
       "\n",
       "    .dataframe tbody tr th {\n",
       "        vertical-align: top;\n",
       "    }\n",
       "\n",
       "    .dataframe thead th {\n",
       "        text-align: right;\n",
       "    }\n",
       "</style>\n",
       "<table border=\"1\" class=\"dataframe\">\n",
       "  <thead>\n",
       "    <tr style=\"text-align: right;\">\n",
       "      <th></th>\n",
       "      <th>trip_route</th>\n",
       "      <th>num_flights</th>\n",
       "    </tr>\n",
       "  </thead>\n",
       "  <tbody>\n",
       "    <tr>\n",
       "      <th>0</th>\n",
       "      <td>ABE-ATL</td>\n",
       "      <td>378</td>\n",
       "    </tr>\n",
       "    <tr>\n",
       "      <th>1</th>\n",
       "      <td>ABE-CLT</td>\n",
       "      <td>452</td>\n",
       "    </tr>\n",
       "    <tr>\n",
       "      <th>2</th>\n",
       "      <td>ABE-DTW</td>\n",
       "      <td>207</td>\n",
       "    </tr>\n",
       "    <tr>\n",
       "      <th>3</th>\n",
       "      <td>ABE-FLL</td>\n",
       "      <td>36</td>\n",
       "    </tr>\n",
       "    <tr>\n",
       "      <th>4</th>\n",
       "      <td>ABE-ORD</td>\n",
       "      <td>206</td>\n",
       "    </tr>\n",
       "    <tr>\n",
       "      <th>...</th>\n",
       "      <td>...</td>\n",
       "      <td>...</td>\n",
       "    </tr>\n",
       "    <tr>\n",
       "      <th>2782</th>\n",
       "      <td>STL-TPA</td>\n",
       "      <td>355</td>\n",
       "    </tr>\n",
       "    <tr>\n",
       "      <th>2783</th>\n",
       "      <td>STL-TUL</td>\n",
       "      <td>291</td>\n",
       "    </tr>\n",
       "    <tr>\n",
       "      <th>2784</th>\n",
       "      <td>SYR-TPA</td>\n",
       "      <td>49</td>\n",
       "    </tr>\n",
       "    <tr>\n",
       "      <th>2785</th>\n",
       "      <td>TPA-TTN</td>\n",
       "      <td>123</td>\n",
       "    </tr>\n",
       "    <tr>\n",
       "      <th>2786</th>\n",
       "      <td>VPS-XNA</td>\n",
       "      <td>18</td>\n",
       "    </tr>\n",
       "  </tbody>\n",
       "</table>\n",
       "<p>2787 rows × 2 columns</p>\n",
       "</div>"
      ],
      "text/plain": [
       "     trip_route  num_flights\n",
       "0       ABE-ATL          378\n",
       "1       ABE-CLT          452\n",
       "2       ABE-DTW          207\n",
       "3       ABE-FLL           36\n",
       "4       ABE-ORD          206\n",
       "...         ...          ...\n",
       "2782    STL-TPA          355\n",
       "2783    STL-TUL          291\n",
       "2784    SYR-TPA           49\n",
       "2785    TPA-TTN          123\n",
       "2786    VPS-XNA           18\n",
       "\n",
       "[2787 rows x 2 columns]"
      ]
     },
     "execution_count": 95,
     "metadata": {},
     "output_type": "execute_result"
    }
   ],
   "source": [
    "route_counts"
   ]
  },
  {
   "cell_type": "code",
   "execution_count": 96,
   "id": "2ebf22d2",
   "metadata": {},
   "outputs": [],
   "source": [
    "# sort the routes based on passenger count\n",
    "route_counts = route_counts.sort_values(by = 'num_flights',ascending= False)"
   ]
  },
  {
   "cell_type": "code",
   "execution_count": 97,
   "id": "376a20b2",
   "metadata": {},
   "outputs": [
    {
     "data": {
      "text/html": [
       "<div>\n",
       "<style scoped>\n",
       "    .dataframe tbody tr th:only-of-type {\n",
       "        vertical-align: middle;\n",
       "    }\n",
       "\n",
       "    .dataframe tbody tr th {\n",
       "        vertical-align: top;\n",
       "    }\n",
       "\n",
       "    .dataframe thead th {\n",
       "        text-align: right;\n",
       "    }\n",
       "</style>\n",
       "<table border=\"1\" class=\"dataframe\">\n",
       "  <thead>\n",
       "    <tr style=\"text-align: right;\">\n",
       "      <th></th>\n",
       "      <th>trip_route</th>\n",
       "      <th>num_flights</th>\n",
       "    </tr>\n",
       "  </thead>\n",
       "  <tbody>\n",
       "    <tr>\n",
       "      <th>2135</th>\n",
       "      <td>LAX-SFO</td>\n",
       "      <td>6194</td>\n",
       "    </tr>\n",
       "    <tr>\n",
       "      <th>2040</th>\n",
       "      <td>LAS-LAX</td>\n",
       "      <td>5437</td>\n",
       "    </tr>\n",
       "    <tr>\n",
       "      <th>2175</th>\n",
       "      <td>LGA-ORD</td>\n",
       "      <td>5176</td>\n",
       "    </tr>\n",
       "    <tr>\n",
       "      <th>1985</th>\n",
       "      <td>JFK-LAX</td>\n",
       "      <td>5159</td>\n",
       "    </tr>\n",
       "    <tr>\n",
       "      <th>1750</th>\n",
       "      <td>HNL-OGG</td>\n",
       "      <td>4625</td>\n",
       "    </tr>\n",
       "    <tr>\n",
       "      <th>2134</th>\n",
       "      <td>LAX-SEA</td>\n",
       "      <td>4240</td>\n",
       "    </tr>\n",
       "    <tr>\n",
       "      <th>188</th>\n",
       "      <td>ATL-MCO</td>\n",
       "      <td>4236</td>\n",
       "    </tr>\n",
       "    <tr>\n",
       "      <th>2579</th>\n",
       "      <td>PDX-SEA</td>\n",
       "      <td>4089</td>\n",
       "    </tr>\n",
       "    <tr>\n",
       "      <th>155</th>\n",
       "      <td>ATL-FLL</td>\n",
       "      <td>4034</td>\n",
       "    </tr>\n",
       "    <tr>\n",
       "      <th>184</th>\n",
       "      <td>ATL-LGA</td>\n",
       "      <td>3768</td>\n",
       "    </tr>\n",
       "  </tbody>\n",
       "</table>\n",
       "</div>"
      ],
      "text/plain": [
       "     trip_route  num_flights\n",
       "2135    LAX-SFO         6194\n",
       "2040    LAS-LAX         5437\n",
       "2175    LGA-ORD         5176\n",
       "1985    JFK-LAX         5159\n",
       "1750    HNL-OGG         4625\n",
       "2134    LAX-SEA         4240\n",
       "188     ATL-MCO         4236\n",
       "2579    PDX-SEA         4089\n",
       "155     ATL-FLL         4034\n",
       "184     ATL-LGA         3768"
      ]
     },
     "execution_count": 97,
     "metadata": {},
     "output_type": "execute_result"
    }
   ],
   "source": [
    "# These are the top 10 routes which passengers tend to book round trips. \n",
    "route_counts.head(10)"
   ]
  },
  {
   "cell_type": "code",
   "execution_count": 98,
   "id": "036ebfc1",
   "metadata": {},
   "outputs": [],
   "source": [
    "# we are onlt considering routes where atleast 2 flights were flown. Since we are looking into round trips only\n",
    "route_counts = route_counts[route_counts['num_flights']>2]"
   ]
  },
  {
   "cell_type": "markdown",
   "id": "71c30012",
   "metadata": {},
   "source": [
    "Based on our analysis the above routes are the busiest routes (these routes have the highest number of round trip flights in the quarter).\n",
    "\n",
    "The busiest route is from LAX(los angeles) to SFO(san francisco) with 6194 flights travelling between these airports."
   ]
  },
  {
   "cell_type": "markdown",
   "id": "61d5bb86",
   "metadata": {},
   "source": [
    "### 2. The 10 most profitable round trip routes (without considering the upfront airplane cost) in the quarter. Along with the profit, show total revenue, total cost, summary values of other key components and total round trip flights in the quarter for the top 10 most profitable routes."
   ]
  },
  {
   "cell_type": "code",
   "execution_count": 99,
   "id": "fc9f307c",
   "metadata": {},
   "outputs": [],
   "source": [
    "# create a column for revenues through baggage cost, fare\n",
    "# baggage revenue for each trip\n",
    "final_merged_df['baggage_revenue'] = (200*(final_merged_df['OCCUPANCY_RATE']/2))*35"
   ]
  },
  {
   "cell_type": "code",
   "execution_count": 100,
   "id": "cd3a1167",
   "metadata": {},
   "outputs": [],
   "source": [
    "# calculate operational cost\n",
    "cost_per_mile_fuel_oil_maintenance_crew = 8.00\n",
    "cost_per_mile_depreciation_insurance_other = 1.18\n",
    "# airport operational cost \n",
    "airport_operational_cost = {\n",
    "    'medium_airport': 5000,\n",
    "    'large_airport': 10000\n",
    "}\n",
    "# cost added when delays occur\n",
    "delay_cost_per_minute = 75\n",
    "free_delay_minutes = 15\n",
    "\n"
   ]
  },
  {
   "cell_type": "code",
   "execution_count": 101,
   "id": "b95c2436",
   "metadata": {},
   "outputs": [],
   "source": [
    "def calculate_flight_cost(row):\n",
    "    distance = row['DISTANCE']\n",
    "    # cost per mile\n",
    "    per_mile_cost = distance*(cost_per_mile_fuel_oil_maintenance_crew+cost_per_mile_depreciation_insurance_other)\n",
    "    \n",
    "    # operational cost for each route\n",
    "    origin_airport_cost = airport_operational_cost.get(row['ORIGIN_AIRPORT_TYPE'], 0)\n",
    "    destination_airport_cost = airport_operational_cost.get(row['DEST_AIRPORT_TYPE'], 0)\n",
    "    total_airport_cost = origin_airport_cost + destination_airport_cost\n",
    "    \n",
    "    # Delay costs\n",
    "    dep_delay_minutes = max(0, row['DEP_DELAY'] - free_delay_minutes)\n",
    "    arr_delay_minutes = max(0, row['ARR_DELAY'] - free_delay_minutes)\n",
    "    total_delay_cost = delay_cost_per_minute * (dep_delay_minutes + arr_delay_minutes)\n",
    "    \n",
    "    total_cost = (per_mile_cost + total_airport_cost + total_delay_cost)\n",
    "    return total_cost\n",
    "\n",
    "final_merged_df['COST_operational'] = final_merged_df.apply(calculate_flight_cost,axis =1)\n",
    "# each round trips operational cost"
   ]
  },
  {
   "cell_type": "code",
   "execution_count": 102,
   "id": "f4322038",
   "metadata": {},
   "outputs": [],
   "source": [
    "# cost each ticket was bought at. These values will change for each itenary \n",
    "# amount paid by each customer for each round trip\n",
    "final_merged_df['ticket_revenue'] = (final_merged_df['PASSENGERS']*final_merged_df['ITIN_FARE'])/2"
   ]
  },
  {
   "cell_type": "code",
   "execution_count": 103,
   "id": "b5f008c3",
   "metadata": {},
   "outputs": [
    {
     "data": {
      "text/html": [
       "<div>\n",
       "<style scoped>\n",
       "    .dataframe tbody tr th:only-of-type {\n",
       "        vertical-align: middle;\n",
       "    }\n",
       "\n",
       "    .dataframe tbody tr th {\n",
       "        vertical-align: top;\n",
       "    }\n",
       "\n",
       "    .dataframe thead th {\n",
       "        text-align: right;\n",
       "    }\n",
       "</style>\n",
       "<table border=\"1\" class=\"dataframe\">\n",
       "  <thead>\n",
       "    <tr style=\"text-align: right;\">\n",
       "      <th></th>\n",
       "      <th>ORIGIN</th>\n",
       "      <th>DESTINATION</th>\n",
       "      <th>num_flights_x</th>\n",
       "      <th>DISTANCE</th>\n",
       "      <th>DEP_DELAY</th>\n",
       "      <th>ARR_DELAY</th>\n",
       "      <th>OCCUPANCY_RATE</th>\n",
       "      <th>ORIGIN_AIRPORT_TYPE</th>\n",
       "      <th>ORIGIN_AIRPORT_NAME</th>\n",
       "      <th>COORDINATES_x</th>\n",
       "      <th>...</th>\n",
       "      <th>DEST_AIRPORT_NAME</th>\n",
       "      <th>COORDINATES_y</th>\n",
       "      <th>ITIN_ID</th>\n",
       "      <th>PASSENGERS</th>\n",
       "      <th>ITIN_FARE</th>\n",
       "      <th>trip_route</th>\n",
       "      <th>baggage_revenue</th>\n",
       "      <th>COST_operational</th>\n",
       "      <th>ticket_revenue</th>\n",
       "      <th>num_flights_y</th>\n",
       "    </tr>\n",
       "  </thead>\n",
       "  <tbody>\n",
       "    <tr>\n",
       "      <th>0</th>\n",
       "      <td>ABE</td>\n",
       "      <td>ATL</td>\n",
       "      <td>185</td>\n",
       "      <td>692</td>\n",
       "      <td>-1.8</td>\n",
       "      <td>-7.162162</td>\n",
       "      <td>0.638432</td>\n",
       "      <td>medium_airport</td>\n",
       "      <td>Lehigh Valley International Airport</td>\n",
       "      <td>-75.44080352783203, 40.652099609375</td>\n",
       "      <td>...</td>\n",
       "      <td>Hartsfield Jackson Atlanta International Airport</td>\n",
       "      <td>-84.428101, 33.6367</td>\n",
       "      <td>20191197</td>\n",
       "      <td>1</td>\n",
       "      <td>495.0</td>\n",
       "      <td>ABE-ATL</td>\n",
       "      <td>2234.513514</td>\n",
       "      <td>21352.56</td>\n",
       "      <td>247.5</td>\n",
       "      <td>378</td>\n",
       "    </tr>\n",
       "    <tr>\n",
       "      <th>1</th>\n",
       "      <td>ABE</td>\n",
       "      <td>ATL</td>\n",
       "      <td>185</td>\n",
       "      <td>692</td>\n",
       "      <td>-1.8</td>\n",
       "      <td>-7.162162</td>\n",
       "      <td>0.638432</td>\n",
       "      <td>medium_airport</td>\n",
       "      <td>Lehigh Valley International Airport</td>\n",
       "      <td>-75.44080352783203, 40.652099609375</td>\n",
       "      <td>...</td>\n",
       "      <td>Hartsfield Jackson Atlanta International Airport</td>\n",
       "      <td>-84.428101, 33.6367</td>\n",
       "      <td>2019172</td>\n",
       "      <td>1</td>\n",
       "      <td>680.0</td>\n",
       "      <td>ABE-ATL</td>\n",
       "      <td>2234.513514</td>\n",
       "      <td>21352.56</td>\n",
       "      <td>340.0</td>\n",
       "      <td>378</td>\n",
       "    </tr>\n",
       "    <tr>\n",
       "      <th>2</th>\n",
       "      <td>ABE</td>\n",
       "      <td>ATL</td>\n",
       "      <td>185</td>\n",
       "      <td>692</td>\n",
       "      <td>-1.8</td>\n",
       "      <td>-7.162162</td>\n",
       "      <td>0.638432</td>\n",
       "      <td>medium_airport</td>\n",
       "      <td>Lehigh Valley International Airport</td>\n",
       "      <td>-75.44080352783203, 40.652099609375</td>\n",
       "      <td>...</td>\n",
       "      <td>Hartsfield Jackson Atlanta International Airport</td>\n",
       "      <td>-84.428101, 33.6367</td>\n",
       "      <td>201911535774</td>\n",
       "      <td>1</td>\n",
       "      <td>656.0</td>\n",
       "      <td>ABE-ATL</td>\n",
       "      <td>2234.513514</td>\n",
       "      <td>21352.56</td>\n",
       "      <td>328.0</td>\n",
       "      <td>378</td>\n",
       "    </tr>\n",
       "    <tr>\n",
       "      <th>3</th>\n",
       "      <td>ABE</td>\n",
       "      <td>ATL</td>\n",
       "      <td>185</td>\n",
       "      <td>692</td>\n",
       "      <td>-1.8</td>\n",
       "      <td>-7.162162</td>\n",
       "      <td>0.638432</td>\n",
       "      <td>medium_airport</td>\n",
       "      <td>Lehigh Valley International Airport</td>\n",
       "      <td>-75.44080352783203, 40.652099609375</td>\n",
       "      <td>...</td>\n",
       "      <td>Hartsfield Jackson Atlanta International Airport</td>\n",
       "      <td>-84.428101, 33.6367</td>\n",
       "      <td>2019166</td>\n",
       "      <td>2</td>\n",
       "      <td>628.0</td>\n",
       "      <td>ABE-ATL</td>\n",
       "      <td>2234.513514</td>\n",
       "      <td>21352.56</td>\n",
       "      <td>628.0</td>\n",
       "      <td>378</td>\n",
       "    </tr>\n",
       "    <tr>\n",
       "      <th>4</th>\n",
       "      <td>ABE</td>\n",
       "      <td>ATL</td>\n",
       "      <td>185</td>\n",
       "      <td>692</td>\n",
       "      <td>-1.8</td>\n",
       "      <td>-7.162162</td>\n",
       "      <td>0.638432</td>\n",
       "      <td>medium_airport</td>\n",
       "      <td>Lehigh Valley International Airport</td>\n",
       "      <td>-75.44080352783203, 40.652099609375</td>\n",
       "      <td>...</td>\n",
       "      <td>Hartsfield Jackson Atlanta International Airport</td>\n",
       "      <td>-84.428101, 33.6367</td>\n",
       "      <td>201913100162</td>\n",
       "      <td>1</td>\n",
       "      <td>366.0</td>\n",
       "      <td>ABE-ATL</td>\n",
       "      <td>2234.513514</td>\n",
       "      <td>21352.56</td>\n",
       "      <td>183.0</td>\n",
       "      <td>378</td>\n",
       "    </tr>\n",
       "  </tbody>\n",
       "</table>\n",
       "<p>5 rows × 21 columns</p>\n",
       "</div>"
      ],
      "text/plain": [
       "  ORIGIN DESTINATION  num_flights_x  DISTANCE  DEP_DELAY  ARR_DELAY  \\\n",
       "0    ABE         ATL            185       692       -1.8  -7.162162   \n",
       "1    ABE         ATL            185       692       -1.8  -7.162162   \n",
       "2    ABE         ATL            185       692       -1.8  -7.162162   \n",
       "3    ABE         ATL            185       692       -1.8  -7.162162   \n",
       "4    ABE         ATL            185       692       -1.8  -7.162162   \n",
       "\n",
       "   OCCUPANCY_RATE ORIGIN_AIRPORT_TYPE                  ORIGIN_AIRPORT_NAME  \\\n",
       "0        0.638432      medium_airport  Lehigh Valley International Airport   \n",
       "1        0.638432      medium_airport  Lehigh Valley International Airport   \n",
       "2        0.638432      medium_airport  Lehigh Valley International Airport   \n",
       "3        0.638432      medium_airport  Lehigh Valley International Airport   \n",
       "4        0.638432      medium_airport  Lehigh Valley International Airport   \n",
       "\n",
       "                         COORDINATES_x  ...  \\\n",
       "0  -75.44080352783203, 40.652099609375  ...   \n",
       "1  -75.44080352783203, 40.652099609375  ...   \n",
       "2  -75.44080352783203, 40.652099609375  ...   \n",
       "3  -75.44080352783203, 40.652099609375  ...   \n",
       "4  -75.44080352783203, 40.652099609375  ...   \n",
       "\n",
       "                                  DEST_AIRPORT_NAME        COORDINATES_y  \\\n",
       "0  Hartsfield Jackson Atlanta International Airport  -84.428101, 33.6367   \n",
       "1  Hartsfield Jackson Atlanta International Airport  -84.428101, 33.6367   \n",
       "2  Hartsfield Jackson Atlanta International Airport  -84.428101, 33.6367   \n",
       "3  Hartsfield Jackson Atlanta International Airport  -84.428101, 33.6367   \n",
       "4  Hartsfield Jackson Atlanta International Airport  -84.428101, 33.6367   \n",
       "\n",
       "        ITIN_ID  PASSENGERS  ITIN_FARE  trip_route baggage_revenue  \\\n",
       "0      20191197           1      495.0     ABE-ATL     2234.513514   \n",
       "1       2019172           1      680.0     ABE-ATL     2234.513514   \n",
       "2  201911535774           1      656.0     ABE-ATL     2234.513514   \n",
       "3       2019166           2      628.0     ABE-ATL     2234.513514   \n",
       "4  201913100162           1      366.0     ABE-ATL     2234.513514   \n",
       "\n",
       "   COST_operational  ticket_revenue  num_flights_y  \n",
       "0          21352.56           247.5            378  \n",
       "1          21352.56           340.0            378  \n",
       "2          21352.56           328.0            378  \n",
       "3          21352.56           628.0            378  \n",
       "4          21352.56           183.0            378  \n",
       "\n",
       "[5 rows x 21 columns]"
      ]
     },
     "execution_count": 103,
     "metadata": {},
     "output_type": "execute_result"
    }
   ],
   "source": [
    "final_merged_df = pd.merge(final_merged_df, route_counts, left_on=['trip_route'],\n",
    "                           right_on=['trip_route'], how='inner')\n",
    "final_merged_df.head()"
   ]
  },
  {
   "cell_type": "code",
   "execution_count": 104,
   "id": "d29f4acf",
   "metadata": {},
   "outputs": [
    {
     "data": {
      "text/html": [
       "<div>\n",
       "<style scoped>\n",
       "    .dataframe tbody tr th:only-of-type {\n",
       "        vertical-align: middle;\n",
       "    }\n",
       "\n",
       "    .dataframe tbody tr th {\n",
       "        vertical-align: top;\n",
       "    }\n",
       "\n",
       "    .dataframe thead th {\n",
       "        text-align: right;\n",
       "    }\n",
       "</style>\n",
       "<table border=\"1\" class=\"dataframe\">\n",
       "  <thead>\n",
       "    <tr style=\"text-align: right;\">\n",
       "      <th></th>\n",
       "      <th>trip_route</th>\n",
       "      <th>baggage_revenue</th>\n",
       "      <th>COST_operational</th>\n",
       "      <th>Avg_Fare</th>\n",
       "      <th>OCCUPANCY_RATE</th>\n",
       "      <th>DEP_DELAY</th>\n",
       "      <th>ARR_DELAY</th>\n",
       "      <th>num_flight_trips</th>\n",
       "      <th>PASSENGERS</th>\n",
       "    </tr>\n",
       "  </thead>\n",
       "  <tbody>\n",
       "    <tr>\n",
       "      <th>0</th>\n",
       "      <td>ABE-ATL</td>\n",
       "      <td>2273.494795</td>\n",
       "      <td>21352.56</td>\n",
       "      <td>550.583333</td>\n",
       "      <td>0.649570</td>\n",
       "      <td>-1.633407</td>\n",
       "      <td>-7.966905</td>\n",
       "      <td>378.0</td>\n",
       "      <td>93</td>\n",
       "    </tr>\n",
       "    <tr>\n",
       "      <th>1</th>\n",
       "      <td>ABE-CLT</td>\n",
       "      <td>2301.459989</td>\n",
       "      <td>19415.58</td>\n",
       "      <td>491.135135</td>\n",
       "      <td>0.657560</td>\n",
       "      <td>-3.313498</td>\n",
       "      <td>-5.068590</td>\n",
       "      <td>452.0</td>\n",
       "      <td>51</td>\n",
       "    </tr>\n",
       "    <tr>\n",
       "      <th>2</th>\n",
       "      <td>ABE-DTW</td>\n",
       "      <td>2270.289855</td>\n",
       "      <td>18901.50</td>\n",
       "      <td>385.809524</td>\n",
       "      <td>0.648654</td>\n",
       "      <td>-2.360248</td>\n",
       "      <td>-11.550035</td>\n",
       "      <td>207.0</td>\n",
       "      <td>99</td>\n",
       "    </tr>\n",
       "    <tr>\n",
       "      <th>3</th>\n",
       "      <td>ABE-FLL</td>\n",
       "      <td>1958.564241</td>\n",
       "      <td>24556.38</td>\n",
       "      <td>248.734375</td>\n",
       "      <td>0.559590</td>\n",
       "      <td>-0.402670</td>\n",
       "      <td>-4.421730</td>\n",
       "      <td>36.0</td>\n",
       "      <td>100</td>\n",
       "    </tr>\n",
       "    <tr>\n",
       "      <th>4</th>\n",
       "      <td>ABE-ORD</td>\n",
       "      <td>2286.018328</td>\n",
       "      <td>21003.72</td>\n",
       "      <td>548.354839</td>\n",
       "      <td>0.653148</td>\n",
       "      <td>-5.397996</td>\n",
       "      <td>-12.847825</td>\n",
       "      <td>206.0</td>\n",
       "      <td>39</td>\n",
       "    </tr>\n",
       "  </tbody>\n",
       "</table>\n",
       "</div>"
      ],
      "text/plain": [
       "  trip_route  baggage_revenue  COST_operational    Avg_Fare  OCCUPANCY_RATE  \\\n",
       "0    ABE-ATL      2273.494795          21352.56  550.583333        0.649570   \n",
       "1    ABE-CLT      2301.459989          19415.58  491.135135        0.657560   \n",
       "2    ABE-DTW      2270.289855          18901.50  385.809524        0.648654   \n",
       "3    ABE-FLL      1958.564241          24556.38  248.734375        0.559590   \n",
       "4    ABE-ORD      2286.018328          21003.72  548.354839        0.653148   \n",
       "\n",
       "   DEP_DELAY  ARR_DELAY  num_flight_trips  PASSENGERS  \n",
       "0  -1.633407  -7.966905             378.0          93  \n",
       "1  -3.313498  -5.068590             452.0          51  \n",
       "2  -2.360248 -11.550035             207.0          99  \n",
       "3  -0.402670  -4.421730              36.0         100  \n",
       "4  -5.397996 -12.847825             206.0          39  "
      ]
     },
     "execution_count": 104,
     "metadata": {},
     "output_type": "execute_result"
    }
   ],
   "source": [
    "# we are interested in finding out the best roundtrip routes so we need to know information based on each round trip and \n",
    "# their corresponding profit, and delay times\n",
    "\n",
    "# grouping on trip-route ensures that we are considering JFK-LAX and LAX-JFK as a single round trip\n",
    "\n",
    "group_df = final_merged_df.groupby('trip_route').agg({\n",
    "    'baggage_revenue':'mean',\n",
    "    'COST_operational':'mean',\n",
    "    'ITIN_FARE':'mean',\n",
    "    'OCCUPANCY_RATE':'mean',\n",
    "    'DEP_DELAY':'mean',\n",
    "    'ARR_DELAY':'mean',\n",
    "    'num_flights_y':'mean',\n",
    "    'PASSENGERS':'sum'\n",
    "}).reset_index()\n",
    "\n",
    "# Rename columns for clarity\n",
    "group_df = group_df.rename(columns={'ITIN_FARE':'Avg_Fare','num_flights_y':'num_flight_trips'})\n",
    "\n",
    "\n",
    "group_df.head()"
   ]
  },
  {
   "cell_type": "markdown",
   "id": "0465fd01",
   "metadata": {},
   "source": [
    "From the above head snippet we can see that the number of flights from ABE- ATL are 378 and the number of passengers on this route are 93 which means the occupancy rate on these flights should be 0.25% but the occupancy rate is listed as 0.64%. \n",
    "\n",
    "This means there is a clear case of missing data. We do not have all the tickets for passengers who travelled on these flights. In that case we can use occupancy rate to understand the revenue generated by tickets instead of number of passengers. \n",
    "\n",
    "Additionally the fact that we used occupancy rate to calculate baggage revenue supports or decision. "
   ]
  },
  {
   "cell_type": "code",
   "execution_count": 105,
   "id": "56f3f329",
   "metadata": {},
   "outputs": [],
   "source": [
    "# Calcualte ticket revenue generated for that flight route over the first quarter\n",
    "group_df['ticket_revenue'] = group_df['OCCUPANCY_RATE']*200*group_df['Avg_Fare']"
   ]
  },
  {
   "cell_type": "code",
   "execution_count": 106,
   "id": "be6d0081",
   "metadata": {},
   "outputs": [],
   "source": [
    "# Calculate profit for a round trip \n",
    "group_df['PROFIT'] = (2*(group_df['baggage_revenue']+group_df['ticket_revenue'])-group_df['COST_operational'])/group_df['num_flight_trips']"
   ]
  },
  {
   "cell_type": "code",
   "execution_count": 107,
   "id": "ecc16a00",
   "metadata": {},
   "outputs": [
    {
     "data": {
      "text/html": [
       "<div>\n",
       "<style scoped>\n",
       "    .dataframe tbody tr th:only-of-type {\n",
       "        vertical-align: middle;\n",
       "    }\n",
       "\n",
       "    .dataframe tbody tr th {\n",
       "        vertical-align: top;\n",
       "    }\n",
       "\n",
       "    .dataframe thead th {\n",
       "        text-align: right;\n",
       "    }\n",
       "</style>\n",
       "<table border=\"1\" class=\"dataframe\">\n",
       "  <thead>\n",
       "    <tr style=\"text-align: right;\">\n",
       "      <th></th>\n",
       "      <th>trip_route</th>\n",
       "      <th>baggage_revenue</th>\n",
       "      <th>COST_operational</th>\n",
       "      <th>Avg_Fare</th>\n",
       "      <th>OCCUPANCY_RATE</th>\n",
       "      <th>DEP_DELAY</th>\n",
       "      <th>ARR_DELAY</th>\n",
       "      <th>num_flight_trips</th>\n",
       "      <th>PASSENGERS</th>\n",
       "      <th>ticket_revenue</th>\n",
       "      <th>PROFIT</th>\n",
       "    </tr>\n",
       "  </thead>\n",
       "  <tbody>\n",
       "    <tr>\n",
       "      <th>1566</th>\n",
       "      <td>EYW-LGA</td>\n",
       "      <td>2921.153846</td>\n",
       "      <td>26080.260</td>\n",
       "      <td>551.961538</td>\n",
       "      <td>0.834615</td>\n",
       "      <td>-3.384615</td>\n",
       "      <td>-28.615385</td>\n",
       "      <td>3.0</td>\n",
       "      <td>26</td>\n",
       "      <td>92135.118343</td>\n",
       "      <td>54677.428126</td>\n",
       "    </tr>\n",
       "    <tr>\n",
       "      <th>146</th>\n",
       "      <td>ATL-ELM</td>\n",
       "      <td>2332.884615</td>\n",
       "      <td>21582.060</td>\n",
       "      <td>522.230769</td>\n",
       "      <td>0.666538</td>\n",
       "      <td>-5.230769</td>\n",
       "      <td>-15.615385</td>\n",
       "      <td>3.0</td>\n",
       "      <td>13</td>\n",
       "      <td>69617.378698</td>\n",
       "      <td>40772.822209</td>\n",
       "    </tr>\n",
       "    <tr>\n",
       "      <th>1813</th>\n",
       "      <td>IAD-MHT</td>\n",
       "      <td>2444.166667</td>\n",
       "      <td>23837.240</td>\n",
       "      <td>445.500000</td>\n",
       "      <td>0.698333</td>\n",
       "      <td>-8.833333</td>\n",
       "      <td>-5.333333</td>\n",
       "      <td>3.0</td>\n",
       "      <td>2</td>\n",
       "      <td>62221.500000</td>\n",
       "      <td>35164.697778</td>\n",
       "    </tr>\n",
       "    <tr>\n",
       "      <th>1714</th>\n",
       "      <td>GSP-SJC</td>\n",
       "      <td>2736.300000</td>\n",
       "      <td>40674.980</td>\n",
       "      <td>441.240000</td>\n",
       "      <td>0.781800</td>\n",
       "      <td>2.200000</td>\n",
       "      <td>9.400000</td>\n",
       "      <td>3.0</td>\n",
       "      <td>32</td>\n",
       "      <td>68992.286400</td>\n",
       "      <td>34260.730933</td>\n",
       "    </tr>\n",
       "    <tr>\n",
       "      <th>573</th>\n",
       "      <td>BRO-DEN</td>\n",
       "      <td>2495.000000</td>\n",
       "      <td>24629.820</td>\n",
       "      <td>493.857143</td>\n",
       "      <td>0.712857</td>\n",
       "      <td>-3.357143</td>\n",
       "      <td>-2.107143</td>\n",
       "      <td>4.0</td>\n",
       "      <td>7</td>\n",
       "      <td>70409.918367</td>\n",
       "      <td>30295.004184</td>\n",
       "    </tr>\n",
       "    <tr>\n",
       "      <th>1144</th>\n",
       "      <td>DEN-FLG</td>\n",
       "      <td>2252.115385</td>\n",
       "      <td>19617.540</td>\n",
       "      <td>375.346154</td>\n",
       "      <td>0.643462</td>\n",
       "      <td>-5.038462</td>\n",
       "      <td>-10.846154</td>\n",
       "      <td>3.0</td>\n",
       "      <td>54</td>\n",
       "      <td>48304.162722</td>\n",
       "      <td>27165.005404</td>\n",
       "    </tr>\n",
       "    <tr>\n",
       "      <th>1206</th>\n",
       "      <td>DEN-PBI</td>\n",
       "      <td>2702.788462</td>\n",
       "      <td>35413.220</td>\n",
       "      <td>438.681319</td>\n",
       "      <td>0.772225</td>\n",
       "      <td>-5.379121</td>\n",
       "      <td>-21.381868</td>\n",
       "      <td>4.0</td>\n",
       "      <td>119</td>\n",
       "      <td>67752.160367</td>\n",
       "      <td>26374.169414</td>\n",
       "    </tr>\n",
       "    <tr>\n",
       "      <th>566</th>\n",
       "      <td>BOS-SMF</td>\n",
       "      <td>2324.402655</td>\n",
       "      <td>44198.480</td>\n",
       "      <td>445.061947</td>\n",
       "      <td>0.664115</td>\n",
       "      <td>-4.592920</td>\n",
       "      <td>-18.482301</td>\n",
       "      <td>3.0</td>\n",
       "      <td>118</td>\n",
       "      <td>59114.466912</td>\n",
       "      <td>26226.419711</td>\n",
       "    </tr>\n",
       "    <tr>\n",
       "      <th>752</th>\n",
       "      <td>CHS-STL</td>\n",
       "      <td>2325.602410</td>\n",
       "      <td>26481.080</td>\n",
       "      <td>369.361446</td>\n",
       "      <td>0.664458</td>\n",
       "      <td>-3.666667</td>\n",
       "      <td>-9.815261</td>\n",
       "      <td>3.0</td>\n",
       "      <td>90</td>\n",
       "      <td>49085.021048</td>\n",
       "      <td>25446.722305</td>\n",
       "    </tr>\n",
       "    <tr>\n",
       "      <th>286</th>\n",
       "      <td>AUS-ONT</td>\n",
       "      <td>2450.729167</td>\n",
       "      <td>31288.655</td>\n",
       "      <td>346.093750</td>\n",
       "      <td>0.700208</td>\n",
       "      <td>15.062500</td>\n",
       "      <td>8.041667</td>\n",
       "      <td>3.0</td>\n",
       "      <td>118</td>\n",
       "      <td>48467.545573</td>\n",
       "      <td>23515.964826</td>\n",
       "    </tr>\n",
       "  </tbody>\n",
       "</table>\n",
       "</div>"
      ],
      "text/plain": [
       "     trip_route  baggage_revenue  COST_operational    Avg_Fare  \\\n",
       "1566    EYW-LGA      2921.153846         26080.260  551.961538   \n",
       "146     ATL-ELM      2332.884615         21582.060  522.230769   \n",
       "1813    IAD-MHT      2444.166667         23837.240  445.500000   \n",
       "1714    GSP-SJC      2736.300000         40674.980  441.240000   \n",
       "573     BRO-DEN      2495.000000         24629.820  493.857143   \n",
       "1144    DEN-FLG      2252.115385         19617.540  375.346154   \n",
       "1206    DEN-PBI      2702.788462         35413.220  438.681319   \n",
       "566     BOS-SMF      2324.402655         44198.480  445.061947   \n",
       "752     CHS-STL      2325.602410         26481.080  369.361446   \n",
       "286     AUS-ONT      2450.729167         31288.655  346.093750   \n",
       "\n",
       "      OCCUPANCY_RATE  DEP_DELAY  ARR_DELAY  num_flight_trips  PASSENGERS  \\\n",
       "1566        0.834615  -3.384615 -28.615385               3.0          26   \n",
       "146         0.666538  -5.230769 -15.615385               3.0          13   \n",
       "1813        0.698333  -8.833333  -5.333333               3.0           2   \n",
       "1714        0.781800   2.200000   9.400000               3.0          32   \n",
       "573         0.712857  -3.357143  -2.107143               4.0           7   \n",
       "1144        0.643462  -5.038462 -10.846154               3.0          54   \n",
       "1206        0.772225  -5.379121 -21.381868               4.0         119   \n",
       "566         0.664115  -4.592920 -18.482301               3.0         118   \n",
       "752         0.664458  -3.666667  -9.815261               3.0          90   \n",
       "286         0.700208  15.062500   8.041667               3.0         118   \n",
       "\n",
       "      ticket_revenue        PROFIT  \n",
       "1566    92135.118343  54677.428126  \n",
       "146     69617.378698  40772.822209  \n",
       "1813    62221.500000  35164.697778  \n",
       "1714    68992.286400  34260.730933  \n",
       "573     70409.918367  30295.004184  \n",
       "1144    48304.162722  27165.005404  \n",
       "1206    67752.160367  26374.169414  \n",
       "566     59114.466912  26226.419711  \n",
       "752     49085.021048  25446.722305  \n",
       "286     48467.545573  23515.964826  "
      ]
     },
     "execution_count": 107,
     "metadata": {},
     "output_type": "execute_result"
    }
   ],
   "source": [
    "# Sort the data frame so that we understand the best routes possible\n",
    "group_df = group_df.sort_values(by='PROFIT', ascending=False)\n",
    "group_df.head(10)"
   ]
  },
  {
   "cell_type": "code",
   "execution_count": 108,
   "id": "eae9b9ef",
   "metadata": {},
   "outputs": [
    {
     "data": {
      "image/png": "[encoded data removed]",
      "text/plain": [
       "<Figure size 842.4x595.44 with 1 Axes>"
      ]
     },
     "metadata": {},
     "output_type": "display_data"
    }
   ],
   "source": [
    "from matplotlib import pyplot as plt\n",
    "sns.set_theme(rc={'figure.figsize':(11.7,8.27)})\n",
    "pbp = sns.barplot(data = group_df[:10],x = 'trip_route',y='PROFIT',palette = \"summer\")\n",
    "pbp.set(ylabel='Profit in dollars',title='Profit for each round trip')\n",
    "plt.show()"
   ]
  },
  {
   "cell_type": "code",
   "execution_count": 109,
   "id": "f6fca352",
   "metadata": {},
   "outputs": [
    {
     "data": {
      "text/plain": [
       "[Text(0.5, 1.0, 'Boxplot to visualise summary statistics')]"
      ]
     },
     "execution_count": 109,
     "metadata": {},
     "output_type": "execute_result"
    },
    {
     "data": {
      "image/png": "[encoded data removed]",
      "text/plain": [
       "<Figure size 842.4x595.44 with 1 Axes>"
      ]
     },
     "metadata": {},
     "output_type": "display_data"
    }
   ],
   "source": [
    "sns.boxplot(data = group_df[['baggage_revenue','COST_operational','ticket_revenue','PROFIT']]).set(title='Boxplot to visualise summary statistics')"
   ]
  },
  {
   "cell_type": "markdown",
   "id": "9e39ca76",
   "metadata": {},
   "source": [
    "### 3. The 5 round trip routes that you recommend to invest in based on any factors that you choose."
   ]
  },
  {
   "cell_type": "code",
   "execution_count": 110,
   "id": "f412aa1e",
   "metadata": {},
   "outputs": [],
   "source": [
    "# normalize column to get a calculate a combined scrore\n",
    "# the score generated will be out of 3 and considers key indicators such as delays,occupancy rate and profit and revenue\n",
    "group_df['score'] = ( group_df['PROFIT'] / group_df['PROFIT'].max()  +\n",
    "                      group_df['OCCUPANCY_RATE']/group_df['OCCUPANCY_RATE'].max()+\n",
    "                      group_df['Avg_Fare']/group_df['Avg_Fare'].max()\n",
    "                    )\n"
   ]
  },
  {
   "cell_type": "code",
   "execution_count": 111,
   "id": "86b9ea67",
   "metadata": {
    "scrolled": true
   },
   "outputs": [
    {
     "data": {
      "text/html": [
       "<div>\n",
       "<style scoped>\n",
       "    .dataframe tbody tr th:only-of-type {\n",
       "        vertical-align: middle;\n",
       "    }\n",
       "\n",
       "    .dataframe tbody tr th {\n",
       "        vertical-align: top;\n",
       "    }\n",
       "\n",
       "    .dataframe thead th {\n",
       "        text-align: right;\n",
       "    }\n",
       "</style>\n",
       "<table border=\"1\" class=\"dataframe\">\n",
       "  <thead>\n",
       "    <tr style=\"text-align: right;\">\n",
       "      <th></th>\n",
       "      <th>trip_route</th>\n",
       "      <th>baggage_revenue</th>\n",
       "      <th>COST_operational</th>\n",
       "      <th>Avg_Fare</th>\n",
       "      <th>OCCUPANCY_RATE</th>\n",
       "      <th>DEP_DELAY</th>\n",
       "      <th>ARR_DELAY</th>\n",
       "      <th>num_flight_trips</th>\n",
       "      <th>PASSENGERS</th>\n",
       "      <th>ticket_revenue</th>\n",
       "      <th>PROFIT</th>\n",
       "      <th>score</th>\n",
       "    </tr>\n",
       "  </thead>\n",
       "  <tbody>\n",
       "    <tr>\n",
       "      <th>1566</th>\n",
       "      <td>EYW-LGA</td>\n",
       "      <td>2921.153846</td>\n",
       "      <td>26080.26</td>\n",
       "      <td>551.961538</td>\n",
       "      <td>0.834615</td>\n",
       "      <td>-3.384615</td>\n",
       "      <td>-28.615385</td>\n",
       "      <td>3.0</td>\n",
       "      <td>26</td>\n",
       "      <td>92135.118343</td>\n",
       "      <td>54677.428126</td>\n",
       "      <td>2.496987</td>\n",
       "    </tr>\n",
       "    <tr>\n",
       "      <th>146</th>\n",
       "      <td>ATL-ELM</td>\n",
       "      <td>2332.884615</td>\n",
       "      <td>21582.06</td>\n",
       "      <td>522.230769</td>\n",
       "      <td>0.666538</td>\n",
       "      <td>-5.230769</td>\n",
       "      <td>-15.615385</td>\n",
       "      <td>3.0</td>\n",
       "      <td>13</td>\n",
       "      <td>69617.378698</td>\n",
       "      <td>40772.822209</td>\n",
       "      <td>2.030793</td>\n",
       "    </tr>\n",
       "    <tr>\n",
       "      <th>1813</th>\n",
       "      <td>IAD-MHT</td>\n",
       "      <td>2444.166667</td>\n",
       "      <td>23837.24</td>\n",
       "      <td>445.500000</td>\n",
       "      <td>0.698333</td>\n",
       "      <td>-8.833333</td>\n",
       "      <td>-5.333333</td>\n",
       "      <td>3.0</td>\n",
       "      <td>2</td>\n",
       "      <td>62221.500000</td>\n",
       "      <td>35164.697778</td>\n",
       "      <td>1.877710</td>\n",
       "    </tr>\n",
       "    <tr>\n",
       "      <th>1714</th>\n",
       "      <td>GSP-SJC</td>\n",
       "      <td>2736.300000</td>\n",
       "      <td>40674.98</td>\n",
       "      <td>441.240000</td>\n",
       "      <td>0.781800</td>\n",
       "      <td>2.200000</td>\n",
       "      <td>9.400000</td>\n",
       "      <td>3.0</td>\n",
       "      <td>32</td>\n",
       "      <td>68992.286400</td>\n",
       "      <td>34260.730933</td>\n",
       "      <td>1.945473</td>\n",
       "    </tr>\n",
       "    <tr>\n",
       "      <th>573</th>\n",
       "      <td>BRO-DEN</td>\n",
       "      <td>2495.000000</td>\n",
       "      <td>24629.82</td>\n",
       "      <td>493.857143</td>\n",
       "      <td>0.712857</td>\n",
       "      <td>-3.357143</td>\n",
       "      <td>-2.107143</td>\n",
       "      <td>4.0</td>\n",
       "      <td>7</td>\n",
       "      <td>70409.918367</td>\n",
       "      <td>30295.004184</td>\n",
       "      <td>1.857329</td>\n",
       "    </tr>\n",
       "    <tr>\n",
       "      <th>...</th>\n",
       "      <td>...</td>\n",
       "      <td>...</td>\n",
       "      <td>...</td>\n",
       "      <td>...</td>\n",
       "      <td>...</td>\n",
       "      <td>...</td>\n",
       "      <td>...</td>\n",
       "      <td>...</td>\n",
       "      <td>...</td>\n",
       "      <td>...</td>\n",
       "      <td>...</td>\n",
       "      <td>...</td>\n",
       "    </tr>\n",
       "    <tr>\n",
       "      <th>2029</th>\n",
       "      <td>LAS-LAX</td>\n",
       "      <td>2274.418286</td>\n",
       "      <td>22166.48</td>\n",
       "      <td>239.419397</td>\n",
       "      <td>0.649834</td>\n",
       "      <td>-0.817751</td>\n",
       "      <td>-5.511031</td>\n",
       "      <td>5437.0</td>\n",
       "      <td>2951</td>\n",
       "      <td>31116.563134</td>\n",
       "      <td>8.205901</td>\n",
       "      <td>0.956314</td>\n",
       "    </tr>\n",
       "    <tr>\n",
       "      <th>663</th>\n",
       "      <td>BWI-PHL</td>\n",
       "      <td>2369.114833</td>\n",
       "      <td>20826.20</td>\n",
       "      <td>11.000000</td>\n",
       "      <td>0.676890</td>\n",
       "      <td>-5.641148</td>\n",
       "      <td>-10.358852</td>\n",
       "      <td>209.0</td>\n",
       "      <td>1</td>\n",
       "      <td>1489.157895</td>\n",
       "      <td>-62.725620</td>\n",
       "      <td>0.732574</td>\n",
       "    </tr>\n",
       "    <tr>\n",
       "      <th>716</th>\n",
       "      <td>CDV-YAK</td>\n",
       "      <td>2223.750000</td>\n",
       "      <td>11955.34</td>\n",
       "      <td>11.000000</td>\n",
       "      <td>0.635357</td>\n",
       "      <td>-7.875000</td>\n",
       "      <td>-4.875000</td>\n",
       "      <td>56.0</td>\n",
       "      <td>2</td>\n",
       "      <td>1397.785714</td>\n",
       "      <td>-84.147653</td>\n",
       "      <td>0.687905</td>\n",
       "    </tr>\n",
       "    <tr>\n",
       "      <th>495</th>\n",
       "      <td>BNA-TTN</td>\n",
       "      <td>1920.187500</td>\n",
       "      <td>21481.08</td>\n",
       "      <td>47.500000</td>\n",
       "      <td>0.548625</td>\n",
       "      <td>-5.831250</td>\n",
       "      <td>-8.775000</td>\n",
       "      <td>13.0</td>\n",
       "      <td>18</td>\n",
       "      <td>5211.937500</td>\n",
       "      <td>-555.140769</td>\n",
       "      <td>0.626981</td>\n",
       "    </tr>\n",
       "    <tr>\n",
       "      <th>961</th>\n",
       "      <td>CRW-IAD</td>\n",
       "      <td>2233.000000</td>\n",
       "      <td>22083.86</td>\n",
       "      <td>0.000000</td>\n",
       "      <td>0.638000</td>\n",
       "      <td>-9.200000</td>\n",
       "      <td>-17.000000</td>\n",
       "      <td>5.0</td>\n",
       "      <td>1</td>\n",
       "      <td>0.000000</td>\n",
       "      <td>-3523.572000</td>\n",
       "      <td>0.615717</td>\n",
       "    </tr>\n",
       "  </tbody>\n",
       "</table>\n",
       "<p>2766 rows × 12 columns</p>\n",
       "</div>"
      ],
      "text/plain": [
       "     trip_route  baggage_revenue  COST_operational    Avg_Fare  \\\n",
       "1566    EYW-LGA      2921.153846          26080.26  551.961538   \n",
       "146     ATL-ELM      2332.884615          21582.06  522.230769   \n",
       "1813    IAD-MHT      2444.166667          23837.24  445.500000   \n",
       "1714    GSP-SJC      2736.300000          40674.98  441.240000   \n",
       "573     BRO-DEN      2495.000000          24629.82  493.857143   \n",
       "...         ...              ...               ...         ...   \n",
       "2029    LAS-LAX      2274.418286          22166.48  239.419397   \n",
       "663     BWI-PHL      2369.114833          20826.20   11.000000   \n",
       "716     CDV-YAK      2223.750000          11955.34   11.000000   \n",
       "495     BNA-TTN      1920.187500          21481.08   47.500000   \n",
       "961     CRW-IAD      2233.000000          22083.86    0.000000   \n",
       "\n",
       "      OCCUPANCY_RATE  DEP_DELAY  ARR_DELAY  num_flight_trips  PASSENGERS  \\\n",
       "1566        0.834615  -3.384615 -28.615385               3.0          26   \n",
       "146         0.666538  -5.230769 -15.615385               3.0          13   \n",
       "1813        0.698333  -8.833333  -5.333333               3.0           2   \n",
       "1714        0.781800   2.200000   9.400000               3.0          32   \n",
       "573         0.712857  -3.357143  -2.107143               4.0           7   \n",
       "...              ...        ...        ...               ...         ...   \n",
       "2029        0.649834  -0.817751  -5.511031            5437.0        2951   \n",
       "663         0.676890  -5.641148 -10.358852             209.0           1   \n",
       "716         0.635357  -7.875000  -4.875000              56.0           2   \n",
       "495         0.548625  -5.831250  -8.775000              13.0          18   \n",
       "961         0.638000  -9.200000 -17.000000               5.0           1   \n",
       "\n",
       "      ticket_revenue        PROFIT     score  \n",
       "1566    92135.118343  54677.428126  2.496987  \n",
       "146     69617.378698  40772.822209  2.030793  \n",
       "1813    62221.500000  35164.697778  1.877710  \n",
       "1714    68992.286400  34260.730933  1.945473  \n",
       "573     70409.918367  30295.004184  1.857329  \n",
       "...              ...           ...       ...  \n",
       "2029    31116.563134      8.205901  0.956314  \n",
       "663      1489.157895    -62.725620  0.732574  \n",
       "716      1397.785714    -84.147653  0.687905  \n",
       "495      5211.937500   -555.140769  0.626981  \n",
       "961         0.000000  -3523.572000  0.615717  \n",
       "\n",
       "[2766 rows x 12 columns]"
      ]
     },
     "execution_count": 111,
     "metadata": {},
     "output_type": "execute_result"
    }
   ],
   "source": [
    "group_df"
   ]
  },
  {
   "cell_type": "code",
   "execution_count": 112,
   "id": "c84cb4da",
   "metadata": {},
   "outputs": [
    {
     "data": {
      "image/png": "[encoded data removed]",
      "text/plain": [
       "<Figure size 842.4x595.44 with 1 Axes>"
      ]
     },
     "metadata": {},
     "output_type": "display_data"
    }
   ],
   "source": [
    "# Trip routes to invest in based on score\n",
    "\n",
    "group_df = group_df.sort_values(by='score', ascending=False)\n",
    "#sns.set_theme(rc={'figure.figsize':(11.7,8.27)})\n",
    "\n",
    "pbp = sns.barplot(data = group_df[:5],x = 'trip_route',y='score',palette = \"summer\")\n",
    "pbp.set(ylabel='Score',title='Round trips with the best scores')\n",
    "plt.show()"
   ]
  },
  {
   "cell_type": "code",
   "execution_count": 113,
   "id": "d0f4936d",
   "metadata": {},
   "outputs": [
    {
     "data": {
      "text/html": [
       "<div>\n",
       "<style scoped>\n",
       "    .dataframe tbody tr th:only-of-type {\n",
       "        vertical-align: middle;\n",
       "    }\n",
       "\n",
       "    .dataframe tbody tr th {\n",
       "        vertical-align: top;\n",
       "    }\n",
       "\n",
       "    .dataframe thead th {\n",
       "        text-align: right;\n",
       "    }\n",
       "</style>\n",
       "<table border=\"1\" class=\"dataframe\">\n",
       "  <thead>\n",
       "    <tr style=\"text-align: right;\">\n",
       "      <th></th>\n",
       "      <th>OCCUPANCY_RATE</th>\n",
       "      <th>total_revenue</th>\n",
       "      <th>total_cost</th>\n",
       "    </tr>\n",
       "  </thead>\n",
       "  <tbody>\n",
       "    <tr>\n",
       "      <th>count</th>\n",
       "      <td>5.000000</td>\n",
       "      <td>5.000000</td>\n",
       "      <td>5.000000</td>\n",
       "    </tr>\n",
       "    <tr>\n",
       "      <th>mean</th>\n",
       "      <td>0.738829</td>\n",
       "      <td>75261.141387</td>\n",
       "      <td>27360.872000</td>\n",
       "    </tr>\n",
       "    <tr>\n",
       "      <th>std</th>\n",
       "      <td>0.068121</td>\n",
       "      <td>11544.521789</td>\n",
       "      <td>7618.640538</td>\n",
       "    </tr>\n",
       "    <tr>\n",
       "      <th>min</th>\n",
       "      <td>0.666538</td>\n",
       "      <td>64665.666667</td>\n",
       "      <td>21582.060000</td>\n",
       "    </tr>\n",
       "    <tr>\n",
       "      <th>25%</th>\n",
       "      <td>0.698333</td>\n",
       "      <td>71728.586400</td>\n",
       "      <td>23837.240000</td>\n",
       "    </tr>\n",
       "    <tr>\n",
       "      <th>50%</th>\n",
       "      <td>0.712857</td>\n",
       "      <td>71950.263314</td>\n",
       "      <td>24629.820000</td>\n",
       "    </tr>\n",
       "    <tr>\n",
       "      <th>75%</th>\n",
       "      <td>0.781800</td>\n",
       "      <td>72904.918367</td>\n",
       "      <td>26080.260000</td>\n",
       "    </tr>\n",
       "    <tr>\n",
       "      <th>max</th>\n",
       "      <td>0.834615</td>\n",
       "      <td>95056.272189</td>\n",
       "      <td>40674.980000</td>\n",
       "    </tr>\n",
       "  </tbody>\n",
       "</table>\n",
       "</div>"
      ],
      "text/plain": [
       "       OCCUPANCY_RATE  total_revenue    total_cost\n",
       "count        5.000000       5.000000      5.000000\n",
       "mean         0.738829   75261.141387  27360.872000\n",
       "std          0.068121   11544.521789   7618.640538\n",
       "min          0.666538   64665.666667  21582.060000\n",
       "25%          0.698333   71728.586400  23837.240000\n",
       "50%          0.712857   71950.263314  24629.820000\n",
       "75%          0.781800   72904.918367  26080.260000\n",
       "max          0.834615   95056.272189  40674.980000"
      ]
     },
     "execution_count": 113,
     "metadata": {},
     "output_type": "execute_result"
    }
   ],
   "source": [
    "group_df['total_revenue'] = group_df['ticket_revenue']+group_df['baggage_revenue']\n",
    "group_df['total_cost'] = group_df['COST_operational']\n",
    "group_df[['trip_route','OCCUPANCY_RATE','total_revenue','total_cost']].head(5).describe()"
   ]
  },
  {
   "cell_type": "markdown",
   "id": "eeb92389",
   "metadata": {},
   "source": [
    "### 4. The number of round trip flights it will take to breakeven on the upfront airplane cost for each of the 5 round trips recommended."
   ]
  },
  {
   "cell_type": "code",
   "execution_count": 114,
   "id": "22570e5a",
   "metadata": {},
   "outputs": [],
   "source": [
    "# since the upfront cost is 90 million and the rpofit we calculated was for each trip\n",
    "group_df['breakeven_trips'] = 90000000/group_df['PROFIT']"
   ]
  },
  {
   "cell_type": "code",
   "execution_count": 115,
   "id": "f4a2afe6",
   "metadata": {},
   "outputs": [
    {
     "data": {
      "image/png": "[encoded data removed]",
      "text/plain": [
       "<Figure size 842.4x595.44 with 1 Axes>"
      ]
     },
     "metadata": {},
     "output_type": "display_data"
    }
   ],
   "source": [
    "pbp = sns.barplot(data = group_df[:5],x = 'trip_route',y='breakeven_trips',palette = \"summer\")\n",
    "pbp.set(ylabel='Number of round trips',title='Number of round trips to break even')\n",
    "plt.show()"
   ]
  },
  {
   "cell_type": "code",
   "execution_count": 116,
   "id": "c363e888",
   "metadata": {},
   "outputs": [
    {
     "data": {
      "text/html": [
       "<div>\n",
       "<style scoped>\n",
       "    .dataframe tbody tr th:only-of-type {\n",
       "        vertical-align: middle;\n",
       "    }\n",
       "\n",
       "    .dataframe tbody tr th {\n",
       "        vertical-align: top;\n",
       "    }\n",
       "\n",
       "    .dataframe thead th {\n",
       "        text-align: right;\n",
       "    }\n",
       "</style>\n",
       "<table border=\"1\" class=\"dataframe\">\n",
       "  <thead>\n",
       "    <tr style=\"text-align: right;\">\n",
       "      <th></th>\n",
       "      <th>baggage_revenue</th>\n",
       "      <th>PROFIT</th>\n",
       "      <th>OCCUPANCY_RATE</th>\n",
       "      <th>num_flight_trips</th>\n",
       "    </tr>\n",
       "  </thead>\n",
       "  <tbody>\n",
       "    <tr>\n",
       "      <th>count</th>\n",
       "      <td>5.000000</td>\n",
       "      <td>5.000000</td>\n",
       "      <td>5.000000</td>\n",
       "      <td>5.000000</td>\n",
       "    </tr>\n",
       "    <tr>\n",
       "      <th>mean</th>\n",
       "      <td>2585.901026</td>\n",
       "      <td>39034.136646</td>\n",
       "      <td>0.738829</td>\n",
       "      <td>3.200000</td>\n",
       "    </tr>\n",
       "    <tr>\n",
       "      <th>std</th>\n",
       "      <td>238.423590</td>\n",
       "      <td>9511.387797</td>\n",
       "      <td>0.068121</td>\n",
       "      <td>0.447214</td>\n",
       "    </tr>\n",
       "    <tr>\n",
       "      <th>min</th>\n",
       "      <td>2332.884615</td>\n",
       "      <td>30295.004184</td>\n",
       "      <td>0.666538</td>\n",
       "      <td>3.000000</td>\n",
       "    </tr>\n",
       "    <tr>\n",
       "      <th>25%</th>\n",
       "      <td>2444.166667</td>\n",
       "      <td>34260.730933</td>\n",
       "      <td>0.698333</td>\n",
       "      <td>3.000000</td>\n",
       "    </tr>\n",
       "    <tr>\n",
       "      <th>50%</th>\n",
       "      <td>2495.000000</td>\n",
       "      <td>35164.697778</td>\n",
       "      <td>0.712857</td>\n",
       "      <td>3.000000</td>\n",
       "    </tr>\n",
       "    <tr>\n",
       "      <th>75%</th>\n",
       "      <td>2736.300000</td>\n",
       "      <td>40772.822209</td>\n",
       "      <td>0.781800</td>\n",
       "      <td>3.000000</td>\n",
       "    </tr>\n",
       "    <tr>\n",
       "      <th>max</th>\n",
       "      <td>2921.153846</td>\n",
       "      <td>54677.428126</td>\n",
       "      <td>0.834615</td>\n",
       "      <td>4.000000</td>\n",
       "    </tr>\n",
       "  </tbody>\n",
       "</table>\n",
       "</div>"
      ],
      "text/plain": [
       "       baggage_revenue        PROFIT  OCCUPANCY_RATE  num_flight_trips\n",
       "count         5.000000      5.000000        5.000000          5.000000\n",
       "mean       2585.901026  39034.136646        0.738829          3.200000\n",
       "std         238.423590   9511.387797        0.068121          0.447214\n",
       "min        2332.884615  30295.004184        0.666538          3.000000\n",
       "25%        2444.166667  34260.730933        0.698333          3.000000\n",
       "50%        2495.000000  35164.697778        0.712857          3.000000\n",
       "75%        2736.300000  40772.822209        0.781800          3.000000\n",
       "max        2921.153846  54677.428126        0.834615          4.000000"
      ]
     },
     "execution_count": 116,
     "metadata": {},
     "output_type": "execute_result"
    }
   ],
   "source": [
    "# show the summary statistics for the metrics used in calculating the score. \n",
    "group_df[['baggage_revenue','PROFIT','OCCUPANCY_RATE','num_flight_trips']].head(5).describe()"
   ]
  },
  {
   "cell_type": "code",
   "execution_count": 117,
   "id": "601ea04e",
   "metadata": {},
   "outputs": [
    {
     "data": {
      "text/plain": [
       "[Text(0, 0.5, 'Values'),\n",
       " Text(0.5, 1.0, 'Boxplots on metrics used to calculate score')]"
      ]
     },
     "execution_count": 117,
     "metadata": {},
     "output_type": "execute_result"
    },
    {
     "data": {
      "image/png": "[encoded data removed]",
      "text/plain": [
       "<Figure size 842.4x595.44 with 1 Axes>"
      ]
     },
     "metadata": {},
     "output_type": "display_data"
    }
   ],
   "source": [
    "sns.boxplot(data = group_df[['baggage_revenue','PROFIT','OCCUPANCY_RATE','num_flight_trips']]).set(ylabel='Values',title='Boxplots on metrics used to calculate score')"
   ]
  },
  {
   "cell_type": "markdown",
   "id": "a900c0d3",
   "metadata": {},
   "source": [
    "### 5. Key Performance Indicators (KPI’s) that you recommend tracking in the future to measure the success of the round trip routes that you recommend."
   ]
  },
  {
   "cell_type": "markdown",
   "id": "792febdb",
   "metadata": {},
   "source": [
    "#### Key Performance Indicators\n",
    "\n",
    "1. Make sure that the flights are not getting cancelled. We did not consider cancelled flights but tracking and using this data might help the airline to reduce cancellations and increase profits. \n",
    "\n",
    "2. Monitor departure and arrival delays to maintain punctuality. \n",
    "\n",
    "3. Analyse fare prices according to date of booking to understand trends in fare prices. \n",
    "\n",
    "4. Delay reasons to understand why flights are getting delayed so that we can predict future delays.\n"
   ]
  },
  {
   "cell_type": "markdown",
   "id": "aad19666",
   "metadata": {},
   "source": [
    "## Key insights and final recommendation\n",
    "\n"
   ]
  },
  {
   "cell_type": "markdown",
   "id": "331012b4",
   "metadata": {},
   "source": [
    "1. Most flights have departure and arrival delays less than 15 minutes.\n",
    "\n",
    "2. The number of medium size airports is 4 times the number of large airports as per our data. \n",
    "\n",
    "3. Most tickets have origins or destinations as a large airport. One reason for this can be connecting flights. Airlines have hubs where they connect medium airports to large airports so that they can use bigger flights between large airports and smaller flights between less travelled airports. These large airports are one of the following (Chicago-ORD, Dallas-DFW,Denver-DEN, Atlanta-ATL).\n",
    "\n",
    "4. The number of flights travelled between LAX(los angeles) and SFO(san francisco) is the highest at 6914. This means an average of 3 flights travelled between these airports each hour. \n",
    "\n",
    "5. The most profitable round trip route is EYW(Key west, Florida)- LGA(Laguardia, NY). The profit on one round trip is $54k.\n",
    "\n",
    "6. The 5 round trips we suggest to invest in are :\n",
    "\n",
    "    - EYW(Key West, Florida) - LGA(Laguardia, NY)\n",
    "    - GSP(Greenville, South Carolina) - SJC(San Jose, CA)\n",
    "    - ATL(Atlanta, GA) - ELM(Elmira Corning, NY)\n",
    "    - IAD(DC, Virginia)- MHT(Manchester, NH)\n",
    "    - BRO(Brownsville,TX) - DEN(Denver, CO)\n",
    "    \n",
    "7. A minimum of 1500 round trips need to be made to break even. "
   ]
  },
  {
   "cell_type": "markdown",
   "id": "f7ef7ade",
   "metadata": {},
   "source": [
    "## Next Steps"
   ]
  },
  {
   "cell_type": "markdown",
   "id": "0742e6ee",
   "metadata": {},
   "source": [
    "1. Flight combinations (on the same plane) involving three or more airports should be studied. Our current assumptions are limited and should be modified to allow for further data study.\n",
    "\n",
    "2. Conduct the analysis with shorter time intervals to determine which flights are the most profitable. Smaller timer intervals, such as monthly, could be explored to determine which routes produce the most profit per fixed time interval.\n",
    "\n",
    "3. Other datasets should be utilized to fill in the missing information (for example, the IATA_CODE column in the airports dataset). Since we are filtering out invalid airport codes, we are missing a large number of data values to examine for analysis.\n",
    "\n",
    "4. Weather Data: Compile historical weather data using factors such as temperature, precipitation, wind speed, and visibility. Weather conditions play a key role in flight delays, and integrating this data can help enhance model accuracy.\n",
    "\n",
    "5. Economic statistics: Consider including economic statistics like fuel prices or economic activity indexes, which might have an impact on flight frequency, ticket prices, or delays.\n",
    "\n",
    "6. Include categorical factors such as weekday, season, and holiday indications.\n",
    "\n",
    "7. Create an automated data pipeline that enable continuous data integration, cleansing, and updating of models and dashboards.\n",
    "\n",
    "8. Model Monitoring and Retraining: Implement a system for tracking model performance over time and retraining models as new data becomes available.\n",
    "\n",
    "9. Interactive dashboard for leadership. This dashboard can represent the key metrics,predictive model outputs and geographic data. "
   ]
  },
  {
   "cell_type": "code",
   "execution_count": null,
   "id": "bc115dbb",
   "metadata": {},
   "outputs": [],
   "source": []
  }
 ],
 "metadata": {
  "kernelspec": {
   "display_name": "Python 3 (ipykernel)",
   "language": "python",
   "name": "python3"
  },
  "language_info": {
   "codemirror_mode": {
    "name": "ipython",
    "version": 3
   },
   "file_extension": ".py",
   "mimetype": "text/x-python",
   "name": "python",
   "nbconvert_exporter": "python",
   "pygments_lexer": "ipython3",
   "version": "3.9.7"
  }
 },
 "nbformat": 4,
 "nbformat_minor": 5
}
